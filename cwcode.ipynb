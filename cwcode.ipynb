{
 "cells": [
  {
   "cell_type": "markdown",
   "id": "c31e8502-0c33-43cd-8284-caf0eb04b513",
   "metadata": {},
   "source": [
    "# init"
   ]
  },
  {
   "cell_type": "code",
   "execution_count": null,
   "id": "268c5db0-c844-4a7b-aca1-4ff63e2ac7f9",
   "metadata": {},
   "outputs": [],
   "source": [
    "import scanpy as sc\n",
    "import scvi\n",
    "import pandas as pd\n",
    "import math\n",
    "import tqdm as notebook_tqdm\n",
    "import celltypist\n",
    "from celltypist import models\n",
    "import numpy as np\n",
    "import matplotlib\n",
    "from matplotlib import pyplot as plt\n",
    "import seaborn as sns\n",
    "import gc\n",
    "from IPython.display import display, Image\n",
    "scvi.settings.seed = 0"
   ]
  },
  {
   "cell_type": "code",
   "execution_count": null,
   "id": "8aa1a1ad-5d11-4c9d-aaec-7374e0e42bd5",
   "metadata": {},
   "outputs": [],
   "source": [
    "import warnings\n",
    "warnings.simplefilter(action='ignore', category=FutureWarning)"
   ]
  },
  {
   "cell_type": "code",
   "execution_count": null,
   "id": "c0e95d3f-2eb2-4008-ae04-1b46d875ccd4",
   "metadata": {},
   "outputs": [],
   "source": [
    "def build_violin(sample, rows=1, cols=3, size=(15, 5), suptitle=None,\n",
    "                 metrics=['total_counts','n_genes_by_counts','pct_counts_mt'],\n",
    "                 threshold_line=True, tline_coords=[[40_000], [200, 6_000] , [20]] ):\n",
    "    \n",
    "    fig, axes = matplotlib.pyplot.subplots(rows, cols, figsize=size)\n",
    "\n",
    "    # setting up the subtitle\n",
    "    if suptitle is None:\n",
    "        fig.suptitle(f'{sample.uns[\"sample_name\"]}')\n",
    "    else:\n",
    "        fig.suptitle(f'{suptitle}')\n",
    "        \n",
    "    # plotting graphs on the specified axes\n",
    "    for i, metric in zip(range(len(axes)), metrics):\n",
    "        \n",
    "        axes[i].grid(lw=0.4, ls='--', alpha=0.4)\n",
    "        axes[i].minorticks_on()\n",
    "        \n",
    "        sc.pl.violin(\n",
    "            sample, [metric],\n",
    "            jitter=0.4, multi_panel=False, \n",
    "            ax=axes[i], show=False)\n",
    "        \n",
    "        # add a threshold line that visualizes the future filtering process\n",
    "        if threshold_line:\n",
    "            if len(tline_coords[i]) > 1:\n",
    "                [axes[i].axhline(cord, color='red', ls='--', lw=0.5, label='threshold') for cord in tline_coords[i]]\n",
    "            else:\n",
    "                axes[i].axhline(tline_coords[i], color='red', ls='--', lw=0.5, label='threshold')\n",
    "\n",
    "    return fig, axes"
   ]
  },
  {
   "cell_type": "markdown",
   "id": "7eac388c-4e90-433c-9507-e856a9ba8a73",
   "metadata": {},
   "source": [
    "Let's create a dictionary with the following structure `dict[key] = value` --> `dict[gene_symbol] = gene_id`: \n",
    "* It will be used to create a query."
   ]
  },
  {
   "cell_type": "code",
   "execution_count": null,
   "id": "c071c34b-c9e8-48f8-8d79-1718d7c5ec8d",
   "metadata": {},
   "outputs": [],
   "source": [
    "names_df = pd.read_csv('./GSE190856_RAW/H001/features.tsv.gz', sep = '\\t', header=None, index_col=0)\n",
    "names_df.columns = ['gene_symbols', 'Gene Expression']\n",
    "\n",
    "names_dict = {names_df['gene_symbols'].at[i]:i\n",
    "              for i in names_df.index}\n",
    "    "
   ]
  },
  {
   "cell_type": "code",
   "execution_count": null,
   "id": "1d4b119a-0f73-4f85-a5f0-4ea32f65f8f4",
   "metadata": {},
   "outputs": [],
   "source": [
    "names_df"
   ]
  },
  {
   "cell_type": "code",
   "execution_count": null,
   "id": "4711013b-3e88-46cd-8c6a-9fa85e1e0c5e",
   "metadata": {},
   "outputs": [],
   "source": [
    "names_dict['Zbp1']\n"
   ]
  },
  {
   "cell_type": "code",
   "execution_count": null,
   "id": "452fada9-cd72-424b-b386-abc2f3bf2c87",
   "metadata": {},
   "outputs": [],
   "source": [
    "del(names_df)\n",
    "gc.collect()"
   ]
  },
  {
   "cell_type": "code",
   "execution_count": null,
   "id": "3efe740a-fc3f-4819-8ec7-649600df7122",
   "metadata": {},
   "outputs": [],
   "source": [
    "def setup_ax(ax, sample, ann_fontsize, add_numbers=False, marker_size=10, cols=7):\n",
    "    ax.legend_.remove()\n",
    "\n",
    "    if add_numbers:\n",
    "        labels = [f'№{index} : {label}' for index, label in enumerate(sample.obs['celltypist_cell_label_coarse'].cat.categories, start=1)]\n",
    "    else:\n",
    "        labels = sample.obs['celltypist_cell_label_coarse'].cat.categories\n",
    "    \n",
    "    # Make new Legend\n",
    "    l1=ax.legend(\n",
    "    \n",
    "        # Add Legend element for each color group\n",
    "        handles=[\n",
    "            # Instead of Line2D we can also use other matplotlib objects, such as Patch, etc.\n",
    "            matplotlib.lines.Line2D([0], [0], marker='s', color=c, lw=0,\n",
    "                   label=l, markerfacecolor=c, markersize=marker_size) # <---------------------------------------------------------------- setup!\n",
    "            # Color groups in adata\n",
    "            for l,c in zip(\n",
    "                labels,\n",
    "                sample.uns['celltypist_cell_label_coarse_colors'])],\n",
    "    \n",
    "        # Customize Legend outline\n",
    "    \n",
    "        # Remove background\n",
    "        frameon=False,\n",
    "        # Make more Legend columns\n",
    "        ncols=cols, # <---------------------------------------------------------------- setup!\n",
    "        fontsize=ann_fontsize, # <---------------------------------------------------------------- setup!\n",
    "        # Set title\n",
    "        title=''\n",
    "    )\n",
    "\n",
    "    return labels"
   ]
  },
  {
   "cell_type": "code",
   "execution_count": null,
   "id": "a045ccd9-7c9d-456a-848a-e13e3c285323",
   "metadata": {},
   "outputs": [],
   "source": [
    "def __axes_handler__(axes, row, column, ylabel=None, ylabsize=None):\n",
    "\n",
    "    axes[row][column].axis('on')\n",
    "    axes[row][column].tick_params(top='off', bottom='off', left='off', right='off',\n",
    "                                labelleft='on', labelbottom='off')\n",
    "    \n",
    "    if ylabel == None:\n",
    "        axes[row][0].set_ylabel('')\n",
    "    else:\n",
    "        axes[row][0].set_ylabel(ylabel, rotation=90, fontsize=ylabsize)\n",
    "        axes[row][0].set_xlabel('')\n",
    "        axes[row][0].set(frame_on=False)"
   ]
  },
  {
   "cell_type": "code",
   "execution_count": null,
   "id": "b5a8c721-5f44-4d1b-a77b-7a38a27183f5",
   "metadata": {},
   "outputs": [],
   "source": [
    "# samples -\n",
    "\n",
    "# nrows - number of rows on the figure\n",
    "# ncols - number of columns on the figure\n",
    "# vmax - maximum cmap value\n",
    "# cmap - cmap type\n",
    "# wspace - the distance between axes\n",
    "# color - keys for annotations of observations/cells or variables/genes, e.g., 'ann1' or ['ann1', 'ann2']\n",
    "    \n",
    "def plot_custom_UMAP(anndata, samples, color, title,\n",
    "                     ylab, xlab, ann_fontsize=10, marker_size=10,\n",
    "                     annatation_cols=7, an_x=2, an_y=1.3, add_numbers=False,\n",
    "                     nrows=4, ncols=4, vmax=6.8,\n",
    "                     vmin=None, size=30, wspace=0,\n",
    "                     titlesize=20, xlabsize=20,\n",
    "                     ylabsize=20, figsize=(10, 10),\n",
    "                     GeneName2EnsambleID=names_dict,\n",
    "                     loc_legend = 'right margin',\n",
    "                     cmap=sns.blend_palette(['#d3d3d3','red'], as_cmap=True)):\n",
    "\n",
    "    # create matplotlib figure and axies\n",
    "    fig, axes = plt.subplots(nrows=nrows, ncols=ncols, figsize=figsize, layout=None)\n",
    "    plt.subplots_adjust(wspace=wspace)\n",
    "    labels=''\n",
    "    colorbar_loc = None\n",
    "\n",
    "    \n",
    "    # to plot UMAP automatically\n",
    "    # key is gene name or cell type etc.\n",
    "    # sample is number of sample in aggregated dataset\n",
    "    for key, row in zip(color, range(nrows)):\n",
    "        \n",
    "        for sample, column in zip(samples, range(ncols)):\n",
    "\n",
    "            target = [GeneName2EnsambleID.get(key, key)]\n",
    "            \n",
    "            sc.pl.umap(anndata[anndata.obs.Sample == str(sample)], use_raw=None,\n",
    "                       color=target, cmap=cmap, frameon=False,\n",
    "                       size=size, title='', vmax=vmax, vmin=vmin, colorbar_loc=colorbar_loc,\n",
    "                       ax=axes[row][column], show=False, legend_loc=loc_legend, )\n",
    "\n",
    "            if column == 0:\n",
    "                __axes_handler__(axes, row, column, ylabel=ylab[row], ylabsize=ylabsize)\n",
    "            if column == ncols - 2:\n",
    "                colorbar_loc = 'right'\n",
    "            else:\n",
    "                colorbar_loc = None\n",
    "            \n",
    "            if row == 0:\n",
    "                axes[0][column].set_title(title[int(column)], fontsize = titlesize)\n",
    "                \n",
    "                if loc_legend != None:\n",
    "                    labels = setup_ax(axes[0][0], anndata, ann_fontsize, cols=annatation_cols,\n",
    "                             marker_size=marker_size, add_numbers=add_numbers)\n",
    "                    axes[0][0].legend_.set_bbox_to_anchor((an_x, an_y))\n",
    "                    loc_legend = None\n",
    "            if row == 1:\n",
    "                axes[1][column].set_title(xlab[int(column)], fontsize = xlabsize)\n",
    "                \n",
    "    return fig, axes, labels\n",
    "    "
   ]
  },
  {
   "cell_type": "code",
   "execution_count": null,
   "id": "e2d909dd-36a4-4f64-a901-544a3f4d0c84",
   "metadata": {},
   "outputs": [],
   "source": [
    "# ytline_coords -- list\n",
    "# samples -- list\n",
    "\n",
    "def build_scatter(y, samples, ytline_coords=None, rows=1, cols=4, size=(15, 5), suptitle=None,\n",
    "                     x='total_counts', threshold_line=True, xtline_coords=[40_000], c=0):\n",
    "   \n",
    "    fig, axes = matplotlib.pyplot.subplots(rows, cols, figsize=size)\n",
    "\n",
    "    for sample, ax in zip(samples, axes):\n",
    "        \n",
    "        ax.grid(lw=0.4, ls='--', alpha=0.4)\n",
    "        ax.minorticks_on()\n",
    "\n",
    "        sc.pl.scatter(sample, x=x, y=y, ax=ax, show=False, title=sample.uns['sample_name'])\n",
    "\n",
    "        # processing of threshold values\n",
    "        if threshold_line:\n",
    "            if len(ytline_coords) == 2:\n",
    "                for i, cord in enumerate(ytline_coords):\n",
    "                    if i == 1:\n",
    "                        ax.axhline(cord, color='red', ls='--', lw=0.5, label='upper and lower tr. y')\n",
    "                    else:\n",
    "                        ax.axhline(cord, color='red', ls='--', lw=0.5)\n",
    "            elif len(ytline_coords) == 1:\n",
    "                ax.axhline(ytline_coords[0], color='red', ls='--', lw=0.5, label='upper tr. y')\n",
    "                \n",
    "            ax.axvline(xtline_coords[0], color='orange', ls='--', lw=0.5, label='upper tr. x')\n",
    "    \n",
    "        if c > 0:\n",
    "            ax.set_ylabel('')\n",
    "        elif c ==0 and threshold_line:\n",
    "            ax.legend()\n",
    "            \n",
    "        c+=1\n",
    "            \n",
    "    return fig, axes"
   ]
  },
  {
   "cell_type": "code",
   "execution_count": null,
   "id": "321b0596-092f-48b7-85e1-4eb7c1a0b569",
   "metadata": {},
   "outputs": [],
   "source": [
    "models.download_models(force_update=True, model=[\"Adult_Mouse_Gut.pkl\"])\n",
    "mmouse = models.Model.load(model=\"Adult_Mouse_Gut.pkl\")\n",
    "mmouse.convert('IDs2symbols.csv')"
   ]
  },
  {
   "cell_type": "markdown",
   "id": "7fb9146c-30f0-4083-86bf-9bfdb3241a8b",
   "metadata": {},
   "source": [
    "WT Metadata add"
   ]
  },
  {
   "cell_type": "code",
   "execution_count": null,
   "id": "521c64a3-bf78-49a5-a0a9-1a1577128106",
   "metadata": {},
   "outputs": [],
   "source": [
    "WT_NAMES = ['WT steady state (H003)','WT 3 days later (H004)',\n",
    "            'WT 7 days later (H007)','WT 21 days later (H009)']\n",
    "\n",
    "WT_VARIABLES= ['WT_SS', 'WT_3DL', 'WT_7DL', 'WT_21DL']\n",
    "\n",
    "WT_SS_METADATA = {'sample_name': 'WT steady state (H003)',\n",
    "                  'var_name': 'WT_SS',\n",
    "                  'cell_count': 4707,\n",
    "                  'gene_count': 55450,\n",
    "                  'filtered_cell_count': 4106,\n",
    "                  'filtered_gene_count': 25569}\n",
    "\n",
    "WT_3DL_METADATA = {'sample_name': 'WT 3 days later (H004)',\n",
    "                   'var_name': 'WT_3DL',\n",
    "                   'cell_count': 12046,\n",
    "                   'gene_count': 55450,\n",
    "                   'filtered_cell_count': 11086,\n",
    "                   'filtered_gene_count': 27268}\n",
    "\n",
    "WT_7DL_METADATA = {'sample_name': 'WT 7 days later (H007)',\n",
    "                    'var_name': 'WT_7DL',\n",
    "                    'cell_count': 10809,\n",
    "                    'gene_count': 55450,\n",
    "                    'filtered_cell_count': 10148,\n",
    "                    'filtered_gene_count': 26595}\n",
    "\n",
    "WT_21DL_METADATA = {'sample_name': 'WT 21 days later (H009)',\n",
    "                     'var_name': 'WT_21DL',\n",
    "                     'cell_count': 9234,\n",
    "                     'gene_count': 55450,\n",
    "                     'filtered_cell_count': 8807,\n",
    "                     'filtered_gene_count': 26944}\n",
    "\n",
    "WT_METADATA = [WT_SS_METADATA, WT_3DL_METADATA, WT_7DL_METADATA, WT_21DL_METADATA]"
   ]
  },
  {
   "cell_type": "markdown",
   "id": "c4feaf26-63ea-4be2-8100-78b0e93f29ca",
   "metadata": {},
   "source": [
    "PAIR Metadata add"
   ]
  },
  {
   "cell_type": "code",
   "execution_count": null,
   "id": "a12bf3a7-ef3a-4988-a73d-b3d746f1800b",
   "metadata": {},
   "outputs": [],
   "source": [
    "P_NAMES = ['Trem2 KO\\nsteady state (H005)','Trem2 KO\\n3 d. post CLP (H006)',\n",
    "           'Trem2 KO\\n7 d. post CLP (H008)', 'WT littermate control\\nsteady state (H001)',\n",
    "           'WT littermate control\\n3 d. post CLP (H002)', 'WT littermate control\\n7 d. post CLP (H011)']\n",
    "\n",
    "P_VARIABLES= ['Trem2_KO_SS', 'Trem2_KO_3DL', 'Trem2_KO_7DL',\n",
    "              'WT_LC_SS', 'WT_LC_3DL', 'WT_LC_7DL']\n",
    "\n",
    "Trem2_KO_SS_METADATA = {'sample_name': 'Trem2 KO\\nsteady state (H005)',\n",
    "                         'var_name': 'Trem2_KO_SS',\n",
    "                         'cell_count': 6982,\n",
    "                         'gene_count': 55450,\n",
    "                         'filtered_cell_count': 6325,\n",
    "                         'filtered_gene_count': 25695}\n",
    "\n",
    "Trem2_KO_3DL_METADATA = {'sample_name': 'Trem2 KO\\n3 d. post CLP (H006)',\n",
    "                         'var_name': 'Trem2_KO_3DL',\n",
    "                         'cell_count': 8627,\n",
    "                         'gene_count': 55450,\n",
    "                         'filtered_cell_count': 7565,\n",
    "                         'filtered_gene_count': 27275}\n",
    "\n",
    "Trem2_KO_7DL_METADATA = {'sample_name': 'Trem2 KO\\n7 d. post CLP (H008)',\n",
    "                         'var_name': 'Trem2_KO_7DL',\n",
    "                         'cell_count': 11635,\n",
    "                         'gene_count': 55450,\n",
    "                         'filtered_cell_count': 11046,\n",
    "                         'filtered_gene_count': 27469}\n",
    "\n",
    "WT_LC_SS_METADATA = {'sample_name': 'WT littermate control\\nsteady state (H001)',\n",
    "                     'var_name': 'WT_LC_SS',\n",
    "                     'cell_count': 9273,\n",
    "                     'gene_count': 55450,\n",
    "                     'filtered_cell_count': 8651,\n",
    "                     'filtered_gene_count': 27842}\n",
    "\n",
    "WT_LC_3DL_METADATA = {'sample_name': 'WT littermate control\\n3 d. post CLP (H002)',\n",
    "                         'var_name': 'WT_LC_3DL',\n",
    "                         'cell_count': 7210,\n",
    "                         'gene_count': 55450,\n",
    "                         'filtered_cell_count': 5484,\n",
    "                         'filtered_gene_count': 26314}\n",
    "\n",
    "WT_LC_7DL_METADATA = {'sample_name': 'WT littermate control\\n7 d. post CLP (H011)',\n",
    "                     'var_name': 'WT_LC_7DL',\n",
    "                     'cell_count': 10689,\n",
    "                     'gene_count': 55450,\n",
    "                     'filtered_cell_count': 9855,\n",
    "                     'filtered_gene_count': 26850}\n",
    "\n",
    "PAIR_METADATA = [Trem2_KO_SS_METADATA, Trem2_KO_3DL_METADATA, Trem2_KO_7DL_METADATA,\n",
    "                 WT_LC_SS_METADATA, WT_LC_3DL_METADATA, WT_LC_7DL_METADATA]"
   ]
  },
  {
   "cell_type": "code",
   "execution_count": null,
   "id": "2f74c522-945f-4571-984a-ad0f7a5d1eba",
   "metadata": {},
   "outputs": [],
   "source": [
    "PAIR_METADATA"
   ]
  },
  {
   "cell_type": "markdown",
   "id": "217e3c53-70ec-475f-aa2e-4521324a60b9",
   "metadata": {},
   "source": [
    "# PART1: WT"
   ]
  },
  {
   "cell_type": "markdown",
   "id": "bffbd86d-4a8a-4c80-81e6-b3c246c70387",
   "metadata": {},
   "source": [
    "## Importing wild-type mouse samples (Trem2+)"
   ]
  },
  {
   "cell_type": "markdown",
   "id": "7acefc5c-796c-492f-9340-6cdff5fdb658",
   "metadata": {},
   "source": [
    "* There are 4 time points:\n",
    "    * Steady state (SS)       --     H003\n",
    "    * 3 days later (3DL)      --     H004\n",
    "    * 7 days later (7DL)      --     H007\n",
    "    * 21 days later (21DL)    --     H009"
   ]
  },
  {
   "cell_type": "markdown",
   "id": "eadfc631-2bf5-4b36-92f1-093b944ec14c",
   "metadata": {},
   "source": [
    "### WT SS"
   ]
  },
  {
   "cell_type": "markdown",
   "id": "831a01e7-c79f-420e-9423-ccaa2334c0d0",
   "metadata": {},
   "source": [
    "<font color=red>! **SS mice have half as many cells in the sample.**</font>\n",
    "\n",
    "* 5 thousands vs 10 thousands cells"
   ]
  },
  {
   "cell_type": "code",
   "execution_count": null,
   "id": "d590e663-3840-4c1c-8137-b8b53417a3da",
   "metadata": {},
   "outputs": [],
   "source": [
    "WT_SS = sc.read_10x_mtx(\n",
    "    './GSE190856_RAW/H003/',  \n",
    "    var_names='gene_ids',      \n",
    "    cache=True)\n",
    "\n",
    "WT_SS.var_names_make_unique()\n",
    "\n",
    "WT_SS"
   ]
  },
  {
   "cell_type": "code",
   "execution_count": null,
   "id": "62ee7a83-2217-499a-af1d-fa211c07683a",
   "metadata": {},
   "outputs": [],
   "source": [
    "WT_SS.var"
   ]
  },
  {
   "cell_type": "markdown",
   "id": "d93c807c-7486-42d6-abea-02e15d8f51fc",
   "metadata": {},
   "source": [
    "### WT 3DL"
   ]
  },
  {
   "cell_type": "code",
   "execution_count": null,
   "id": "508158bc-859e-45f0-8d1e-d2031b7b8da3",
   "metadata": {},
   "outputs": [],
   "source": [
    "WT_3DL = sc.read_10x_mtx(\n",
    "    './GSE190856_RAW/H004/',  \n",
    "    var_names='gene_ids',      \n",
    "    cache=True)\n",
    "\n",
    "WT_3DL.var_names_make_unique()\n",
    "\n",
    "WT_3DL"
   ]
  },
  {
   "cell_type": "markdown",
   "id": "8e25e005-663f-4c47-8d59-bf50c7ef4650",
   "metadata": {},
   "source": [
    "### WT 7DL"
   ]
  },
  {
   "cell_type": "code",
   "execution_count": null,
   "id": "379481b0-8e59-484c-a00c-4973941bb8bc",
   "metadata": {},
   "outputs": [],
   "source": [
    "WT_7DL = sc.read_10x_mtx(\n",
    "    './GSE190856_RAW/H007/',  \n",
    "    var_names='gene_ids',      \n",
    "    cache=True)\n",
    "\n",
    "WT_7DL.var_names_make_unique()\n",
    "\n",
    "WT_7DL"
   ]
  },
  {
   "cell_type": "markdown",
   "id": "21e597bd-123b-4e79-9dd4-386254dec938",
   "metadata": {},
   "source": [
    "### WT 21DL"
   ]
  },
  {
   "cell_type": "code",
   "execution_count": null,
   "id": "e37ac334-9ffe-468b-9967-7017e82d45a5",
   "metadata": {},
   "outputs": [],
   "source": [
    "WT_21DL = sc.read_10x_mtx(\n",
    "    './GSE190856_RAW/H009/',  \n",
    "    var_names='gene_ids',      \n",
    "    cache=True)\n",
    "\n",
    "WT_21DL.var_names_make_unique()\n",
    "\n",
    "WT_21DL"
   ]
  },
  {
   "cell_type": "markdown",
   "id": "cafef5f1-0669-46cd-9e4d-52fe0f2e3d65",
   "metadata": {},
   "source": [
    "Let's combine all 4 objects into one list:"
   ]
  },
  {
   "cell_type": "code",
   "execution_count": null,
   "id": "5bf8d90e-ca0d-4888-8da7-5d2258dd1079",
   "metadata": {},
   "outputs": [],
   "source": [
    "WT_SAMPELS = [WT_SS, WT_3DL, WT_7DL, WT_21DL]"
   ]
  },
  {
   "cell_type": "markdown",
   "id": "fdc2b675-d706-40c8-abb9-fc289b986c13",
   "metadata": {},
   "source": [
    "Let's add the names of the samples and number of cells to the anndata objects."
   ]
  },
  {
   "cell_type": "code",
   "execution_count": null,
   "id": "33570818-7c96-4e7c-abe5-3d3a154231fa",
   "metadata": {},
   "outputs": [],
   "source": [
    "for obj, name, var in zip(WT_SAMPELS, WT_NAMES, WT_VARIABLES):\n",
    "    obj.uns['sample_name'] = name\n",
    "    obj.uns['var_name'] = var\n",
    "    obj.uns['cell_count'] = (obj.obs).shape[0]\n",
    "    obj.uns['gene_count'] = (obj.var).shape[0]\n",
    "\n",
    "obj.uns"
   ]
  },
  {
   "cell_type": "code",
   "execution_count": null,
   "id": "70754498-ee98-451b-ac02-7a693b9b5d4c",
   "metadata": {},
   "outputs": [],
   "source": [
    "sample.uns"
   ]
  },
  {
   "cell_type": "markdown",
   "id": "5b8ef08c-05cf-4532-a9e6-d6556e178986",
   "metadata": {},
   "source": [
    "## An additional block. The genes with the highest expression."
   ]
  },
  {
   "cell_type": "code",
   "execution_count": null,
   "id": "5e8b115c-126d-49a3-a8f2-7914aaa3c8d5",
   "metadata": {},
   "outputs": [],
   "source": [
    "sc.pl.highest_expr_genes(WT_SS, n_top=20, gene_symbols='gene_symbols')"
   ]
  },
  {
   "cell_type": "code",
   "execution_count": null,
   "id": "a1b2fdd0-7506-4346-9a3e-71a56b4b3a4b",
   "metadata": {},
   "outputs": [],
   "source": [
    "sc.pl.highest_expr_genes(WT_3DL, n_top=20, gene_symbols='gene_symbols')"
   ]
  },
  {
   "cell_type": "code",
   "execution_count": null,
   "id": "8ef5fdeb-5fc6-44ae-bb02-a1982db41044",
   "metadata": {},
   "outputs": [],
   "source": [
    "sc.pl.highest_expr_genes(WT_7DL, n_top=20, gene_symbols='gene_symbols')"
   ]
  },
  {
   "cell_type": "code",
   "execution_count": null,
   "id": "9b2bf5b3-f1e5-4b43-8239-e128fb878849",
   "metadata": {},
   "outputs": [],
   "source": [
    "sc.pl.highest_expr_genes(WT_21DL, n_top=20, gene_symbols='gene_symbols')"
   ]
  },
  {
   "cell_type": "markdown",
   "id": "48b62a59-387d-4ae4-bf24-49d1d84432d0",
   "metadata": {},
   "source": [
    "## Let's filter the data"
   ]
  },
  {
   "cell_type": "markdown",
   "id": "a51c0bd4-811a-4a37-a9c5-c3b7e20bbd88",
   "metadata": {},
   "source": [
    "Фильтрация, которую применяли в оригинальной [статье](https://www.nature.com/articles/s42255-022-00715-5):\n",
    "```\n",
    "All genes expressed in fewer than one cell were removed. Cells expressing fewer than 200 and more than 6,000 genes, unique molecular identifier counts more than 40,000 and the percent of mitochondrial DNA (mtDNA) gene expression more than 20% were excluded. Mitochondrial genes were excluded from the expression matrix.\n",
    "```"
   ]
  },
  {
   "cell_type": "markdown",
   "id": "4ffa9b2f-12fa-4058-843d-a874f3b88bee",
   "metadata": {},
   "source": [
    "We will first calculate the quality metrics for each of the samples."
   ]
  },
  {
   "cell_type": "code",
   "execution_count": null,
   "id": "08f49859-b80c-4aa4-bf0b-5e1f3db6c783",
   "metadata": {},
   "outputs": [],
   "source": [
    "for sample in WT_SAMPELS:\n",
    "    sample.var['mt'] = sample.var['gene_symbols'].str.startswith('mt-')\n",
    "    sc.pp.calculate_qc_metrics(sample, qc_vars=['mt'], percent_top=None, log1p=False, inplace=True)"
   ]
  },
  {
   "cell_type": "code",
   "execution_count": null,
   "id": "247ebc42-a2fe-4e04-a9aa-5a9b5dd7f7d1",
   "metadata": {},
   "outputs": [],
   "source": [
    "WT_SS.obs"
   ]
  },
  {
   "cell_type": "markdown",
   "id": "69997453-a15a-4872-9647-e693508b9b50",
   "metadata": {},
   "source": [
    "### WT samples before filtering: violinplts whith `total_counts`, `n_genes_by_counts` and `pct_counts_mt`."
   ]
  },
  {
   "cell_type": "code",
   "execution_count": null,
   "id": "265bbfff-6ea5-4541-a3cd-d63a7f81a86a",
   "metadata": {},
   "outputs": [],
   "source": [
    "matplotlib.pyplot.bar(WT_VARIABLES, [sample.uns['cell_count'] for sample in WT_SAMPELS],\n",
    "                      color=['blue', 'red', 'green', 'orange'], alpha=0.5)\n",
    "\n",
    "matplotlib.pyplot.grid(lw=0.4, ls='--', alpha=0.4, axis='y')\n",
    "matplotlib.pyplot.minorticks_on()\n",
    "\n",
    "matplotlib.pyplot.title('Samples')\n",
    "matplotlib.pyplot.xlabel('Samples')\n",
    "matplotlib.pyplot.ylabel('number of cells')\n",
    "\n",
    "for y,x in zip([sample.uns['cell_count'] for sample in WT_SAMPELS], WT_VARIABLES):\n",
    "    matplotlib.pyplot.text(x, y-500, str(y), ha='center')"
   ]
  },
  {
   "cell_type": "code",
   "execution_count": null,
   "id": "4e5feaae-d5fe-4a50-887c-421e8df8cc4d",
   "metadata": {},
   "outputs": [],
   "source": [
    "for sample in WT_SAMPELS:\n",
    "    build_violin(sample)"
   ]
  },
  {
   "cell_type": "code",
   "execution_count": null,
   "id": "3025229f-5cb3-4fcb-9bcb-3d6b3b0da55d",
   "metadata": {},
   "outputs": [],
   "source": [
    "build_scatter(y='pct_counts_mt', samples=WT_SAMPELS, ytline_coords=[20])"
   ]
  },
  {
   "cell_type": "code",
   "execution_count": null,
   "id": "460c0aa6-9419-453b-803a-93dde53be798",
   "metadata": {},
   "outputs": [],
   "source": [
    "build_scatter(y='n_genes_by_counts', samples=WT_SAMPELS, ytline_coords=[6_000, 200])"
   ]
  },
  {
   "cell_type": "markdown",
   "id": "cea452ff-c12c-4fda-b724-fe9d7045316a",
   "metadata": {},
   "source": [
    "### filtering WT samples"
   ]
  },
  {
   "cell_type": "code",
   "execution_count": null,
   "id": "89edeaad-98cc-4ad0-9e1c-ee284b8d459b",
   "metadata": {},
   "outputs": [],
   "source": [
    "WT_SAMPELS[0].var.mt.value_counts()"
   ]
  },
  {
   "cell_type": "code",
   "execution_count": null,
   "id": "3a69325b-d1af-4c82-b023-3041c9bd00b3",
   "metadata": {},
   "outputs": [],
   "source": [
    "for i, sample in enumerate(WT_SAMPELS):\n",
    "    \n",
    "    # cells expressing less than 200 and more than 6_000 genes are removed\n",
    "    sc.pp.filter_cells(sample, min_genes=200)\n",
    "    sc.pp.filter_cells(sample, max_genes=6_000)\n",
    "\n",
    "    # cells containing more than 40_000 counts are removed\n",
    "    sc.pp.filter_cells(sample, max_counts=40_000)\n",
    "    \n",
    "    # genes expressed in less than one cell are removed\n",
    "    sc.pp.filter_genes(sample, min_cells=1)\n",
    "    \n",
    "    # filtering cells by mt-content\n",
    "    WT_SAMPELS[i] = WT_SAMPELS[i][WT_SAMPELS[i].obs.pct_counts_mt < 20, :] \n",
    "\n",
    "    # to except mt- genes\n",
    "    WT_SAMPELS[i] = WT_SAMPELS[i][:, WT_SAMPELS[i].var.mt == False]\n",
    "\n",
    "    # genes / celss\n",
    "    WT_SAMPELS[i].uns['filtered_cell_count'] = (WT_SAMPELS[i].obs).shape[0]\n",
    "    WT_SAMPELS[i].uns['filtered_gene_count'] = (WT_SAMPELS[i].var).shape[0]"
   ]
  },
  {
   "cell_type": "code",
   "execution_count": null,
   "id": "29b24dec-26d1-40d9-8e99-a8a2796db544",
   "metadata": {},
   "outputs": [],
   "source": [
    "WT_SAMPELS[0].var.mt.value_counts()"
   ]
  },
  {
   "cell_type": "code",
   "execution_count": null,
   "id": "8a98c7ec-7a69-4416-9a95-9c2f3eec00dc",
   "metadata": {},
   "outputs": [],
   "source": [
    "matplotlib.pyplot.bar(WT_VARIABLES, [sample.uns['filtered_cell_count'] for sample in WT_SAMPELS],\n",
    "                      color=['blue', 'red', 'green', 'orange'], alpha=0.5)\n",
    "\n",
    "matplotlib.pyplot.grid(lw=0.4, ls='--', alpha=0.4, axis='y')\n",
    "matplotlib.pyplot.minorticks_on()\n",
    "\n",
    "matplotlib.pyplot.title('Filtred samples')\n",
    "matplotlib.pyplot.xlabel('Samples')\n",
    "matplotlib.pyplot.ylabel('number of cells')\n",
    "\n",
    "for y,x in zip([sample.uns['filtered_cell_count'] for sample in WT_SAMPELS], WT_VARIABLES):\n",
    "    matplotlib.pyplot.text(x, y-500, str(y), ha='center')"
   ]
  },
  {
   "cell_type": "code",
   "execution_count": null,
   "id": "a672bf67-63cd-418b-8262-d43e7bd82fbb",
   "metadata": {},
   "outputs": [],
   "source": []
  },
  {
   "cell_type": "code",
   "execution_count": null,
   "id": "66bfff5d-e747-435f-8f02-996dfb6dd9e7",
   "metadata": {},
   "outputs": [],
   "source": [
    "matplotlib.pyplot.bar(WT_VARIABLES, [sample.uns['filtered_gene_count'] for sample in WT_SAMPELS],\n",
    "                      color=['blue', 'red', 'green', 'orange'], alpha=0.5)\n",
    "\n",
    "matplotlib.pyplot.grid(lw=0.4, ls='--', alpha=0.4, axis='y')\n",
    "matplotlib.pyplot.minorticks_on()\n",
    "\n",
    "matplotlib.pyplot.title('Filtred samples')\n",
    "matplotlib.pyplot.xlabel('Samples')\n",
    "matplotlib.pyplot.ylabel('number of genes')\n",
    "\n",
    "for y,x in zip([sample.uns['filtered_gene_count'] for sample in WT_SAMPELS], WT_VARIABLES):\n",
    "    matplotlib.pyplot.text(x, y-1500, str(y), ha='center')"
   ]
  },
  {
   "cell_type": "code",
   "execution_count": null,
   "id": "7abab4da-2111-4273-b9a1-df88906cd4f6",
   "metadata": {},
   "outputs": [],
   "source": [
    "for sample in WT_SAMPELS:\n",
    "    build_violin(sample, threshold_line=False)"
   ]
  },
  {
   "cell_type": "code",
   "execution_count": null,
   "id": "f11cb2a5-0315-4f67-93d8-5038d3766252",
   "metadata": {},
   "outputs": [],
   "source": [
    "build_scatter(y='pct_counts_mt', samples=WT_SAMPELS, threshold_line=False)"
   ]
  },
  {
   "cell_type": "code",
   "execution_count": null,
   "id": "3ef4b590-c0c8-4088-9976-83c5158a1811",
   "metadata": {},
   "outputs": [],
   "source": [
    "build_scatter(y='n_genes_by_counts', samples=WT_SAMPELS, threshold_line=False)"
   ]
  },
  {
   "cell_type": "markdown",
   "id": "8cfb94cb-7784-4c54-b763-baf8f49a5c4d",
   "metadata": {},
   "source": [
    "## Let's perform preliminary data processing"
   ]
  },
  {
   "cell_type": "markdown",
   "id": "3a471f56-4c61-4847-9e38-2a638ba9f619",
   "metadata": {},
   "source": [
    "In the article normalization was carried out as follows:\n",
    "```\n",
    "To visualize the data, we used the Seurat package for further analysis. \n",
    "\n",
    "First, we used the Log Normalizer method of the Normalization function of the Seurat package to assess the expression value of genes. Second, we performed principal-component analysis on the normalized expression matrix with highly variable genes identified by FindVariableGenes function. Based on the top ten principal components, we obtained the unsupervised cell cluster result by weighted shared nearest neighbor graph-based clustering method. To detect cluster-specific genes, we identified the marker genes by the bimod (Likelihood-ratio test) of the FindAllMarkers function in Seurat. Compared to other clusters, the genes whose expression was more than 25% of the cells and average log (fold change) >0.26 in the target cluster, were defined as marker genes. Cell types were defined based on known markers. Cells expressing non-immune cell markers were excluded.\n",
    "```"
   ]
  },
  {
   "cell_type": "markdown",
   "id": "34b0a062-4023-41f1-b1e4-067983c4a436",
   "metadata": {},
   "source": [
    "### Preparing combined data for plot UMAP visualisation"
   ]
  },
  {
   "cell_type": "markdown",
   "id": "16baf350-b4f2-497b-9509-91fda088a298",
   "metadata": {},
   "source": [
    "We want to get a good UMAP visualization, so it is advisable to combine the samples.\n",
    "* We will use `scvi` tool."
   ]
  },
  {
   "cell_type": "code",
   "execution_count": null,
   "id": "929e22c9-5ab6-4627-b9fd-54a9c720c8ad",
   "metadata": {},
   "outputs": [],
   "source": [
    "WT_COMBINED =  WT_SAMPELS[0].concatenate(WT_SAMPELS[1], WT_SAMPELS[2], WT_SAMPELS[3], batch_key=\"Sample\")"
   ]
  },
  {
   "cell_type": "markdown",
   "id": "5e30a245-38be-48b1-986f-a9ebf2fede5e",
   "metadata": {},
   "source": [
    "The combined object consists of 34147 cells."
   ]
  },
  {
   "cell_type": "markdown",
   "id": "fc891a47-edd3-4033-9ead-632db11476a5",
   "metadata": {},
   "source": [
    "We can define a sample using the `batch_key` field."
   ]
  },
  {
   "cell_type": "code",
   "execution_count": null,
   "id": "6935861b-eb57-436d-ace3-c23b325a046d",
   "metadata": {},
   "outputs": [],
   "source": [
    "WT_COMBINED.obs.head(2)"
   ]
  },
  {
   "cell_type": "code",
   "execution_count": null,
   "id": "33405897-414c-4f24-b28b-845269e5a0dc",
   "metadata": {},
   "outputs": [],
   "source": [
    "WT_COMBINED.obs.tail(2)"
   ]
  },
  {
   "cell_type": "markdown",
   "id": "dfde9924-b84f-476c-8e95-be94c486a391",
   "metadata": {},
   "source": [
    "`scvi` needs raw counts, let's save them on the new layer."
   ]
  },
  {
   "cell_type": "code",
   "execution_count": null,
   "id": "636eaef2-a99a-49d8-9d5e-e368b43f7c5b",
   "metadata": {},
   "outputs": [],
   "source": [
    "WT_COMBINED.layers['counts'] = WT_COMBINED.X.copy()"
   ]
  },
  {
   "cell_type": "code",
   "execution_count": null,
   "id": "6e5a1f8e-1008-41f5-81e0-7af859f9acf3",
   "metadata": {},
   "outputs": [],
   "source": [
    "WT_COMBINED"
   ]
  },
  {
   "cell_type": "markdown",
   "id": "37ab6e94-380b-4902-a94f-954a06fd5211",
   "metadata": {},
   "source": [
    "### normalization, log-transform, scalling and simple annotate the samples"
   ]
  },
  {
   "cell_type": "markdown",
   "id": "998b02e6-b9e4-4ca8-bc28-8915ebc7aa49",
   "metadata": {},
   "source": [
    "We gonna use celltypist, let's create objects for this."
   ]
  },
  {
   "cell_type": "code",
   "execution_count": null,
   "id": "f565feb8-9f1f-4078-a49e-378881b48377",
   "metadata": {},
   "outputs": [],
   "source": [
    "WT_CELLTYPIST = []\n",
    "for i in range(len(WT_SAMPELS)):\n",
    "    WT_CELLTYPIST.append(WT_SAMPELS[i].copy())"
   ]
  },
  {
   "cell_type": "markdown",
   "id": "aa902ca8-e5c4-43ea-9b87-fa893e3e1026",
   "metadata": {},
   "source": [
    "Standard data transformation."
   ]
  },
  {
   "cell_type": "code",
   "execution_count": null,
   "id": "e2662eaf-79ec-4d93-a05f-0a3326ee6213",
   "metadata": {},
   "outputs": [],
   "source": [
    "for i in range(len(WT_SAMPELS)):\n",
    "    sc.pp.normalize_total(WT_SAMPELS[i], target_sum=1e4) # 1e4 is Seurat default param\n",
    "    sc.pp.log1p(WT_SAMPELS[i])\n",
    "    sc.pp.scale(WT_SAMPELS[i], max_value=10)"
   ]
  },
  {
   "cell_type": "markdown",
   "id": "f685e10d-0b26-4225-874b-0d60b29757d0",
   "metadata": {},
   "source": [
    "#### scVI transformation"
   ]
  },
  {
   "cell_type": "markdown",
   "id": "6ade5704-e5a3-465c-bd5e-ebc32212f5ab",
   "metadata": {},
   "source": [
    "... and for combined object:"
   ]
  },
  {
   "cell_type": "code",
   "execution_count": null,
   "id": "6af4d338-97ec-41f1-991a-fdba8eec5237",
   "metadata": {},
   "outputs": [],
   "source": [
    "sc.pp.normalize_total(WT_COMBINED, target_sum=1e4)\n",
    "sc.pp.log1p(WT_COMBINED)"
   ]
  },
  {
   "cell_type": "code",
   "execution_count": null,
   "id": "63070cf6-ddbd-498e-a472-22b0860afa72",
   "metadata": {},
   "outputs": [],
   "source": [
    "# Выделение высоковариабельных генов в данном случае не требуется, сет не большой + нужно учитывать ZBP1\n",
    "# sc.pp.highly_variable_genes(WT_COMBINED, n_top_genes=1.5e4, subset=True, layer='counts', flavor='seurat_v3', batch_key='Sample')"
   ]
  },
  {
   "cell_type": "markdown",
   "id": "268d598d-e789-4320-8f0a-83fae9071d8d",
   "metadata": {},
   "source": [
    "We will indicate the features that scvi will use. Note that we save raw counts in layer 'counts'; `Сategorical_covariate_keys` indicate samples and `continuous_covariate_keys` indicate some features.\n",
    "\n",
    "We will be ignore WARNINGS below because actually CUDA works."
   ]
  },
  {
   "cell_type": "code",
   "execution_count": null,
   "id": "920efc7b-9f01-41a9-b420-2c18ce652f85",
   "metadata": {},
   "outputs": [],
   "source": [
    "scvi.model.SCVI.setup_anndata(WT_COMBINED, layer='counts', \n",
    "                             categorical_covariate_keys=['Sample'],\n",
    "                             continuous_covariate_keys=['pct_counts_mt', 'total_counts'])"
   ]
  },
  {
   "cell_type": "markdown",
   "id": "455d07d4-8ca7-4516-9489-bbb1dcad438f",
   "metadata": {},
   "source": [
    "Let's initialize new scvi model based on `WT_COMBINED` object. "
   ]
  },
  {
   "cell_type": "code",
   "execution_count": null,
   "id": "5093b6f8-7544-42bd-9336-d8762ba0461a",
   "metadata": {},
   "outputs": [],
   "source": [
    "model = scvi.model.SCVI(WT_COMBINED)"
   ]
  },
  {
   "cell_type": "markdown",
   "id": "a7b9927a-35b5-4264-bd19-2b57295daf25",
   "metadata": {},
   "source": [
    "Let's print some models description."
   ]
  },
  {
   "cell_type": "code",
   "execution_count": null,
   "id": "5f88c804-ae11-4c11-997b-67c78f7084d0",
   "metadata": {},
   "outputs": [],
   "source": [
    "model"
   ]
  },
  {
   "cell_type": "markdown",
   "id": "028708a5-89a8-4c89-99a2-91a5483d28c8",
   "metadata": {},
   "source": [
    "... and train the model. (~ 13-14 minutes on RTX 3060)"
   ]
  },
  {
   "cell_type": "code",
   "execution_count": null,
   "id": "6f5cd015-763d-4191-9d9d-0dbed453a860",
   "metadata": {},
   "outputs": [],
   "source": [
    "model.train()"
   ]
  },
  {
   "cell_type": "markdown",
   "id": "c307c3d5-2c67-48f0-8a4e-65be8ea327bf",
   "metadata": {},
   "source": [
    "We save latent representation in `latent` variable."
   ]
  },
  {
   "cell_type": "code",
   "execution_count": null,
   "id": "9438ccad-063b-4f1b-8d8b-a819b38b7d08",
   "metadata": {},
   "outputs": [],
   "source": [
    "latent = model.get_latent_representation()"
   ]
  },
  {
   "cell_type": "code",
   "execution_count": null,
   "id": "b9314286-cee9-47f7-9ed1-25ca1e270573",
   "metadata": {},
   "outputs": [],
   "source": [
    "latent"
   ]
  },
  {
   "cell_type": "markdown",
   "id": "fa92e680-8314-4225-b8be-52c3fec2c462",
   "metadata": {},
   "source": [
    "To add latent representation in `.obsm['X_scVI']` attribute of `WT_COMBINED` anndata object. "
   ]
  },
  {
   "cell_type": "code",
   "execution_count": null,
   "id": "adc7b72b-e819-4b83-9ec4-64e843c5799f",
   "metadata": {},
   "outputs": [],
   "source": [
    "WT_COMBINED.obsm['X_scVI'] = latent"
   ]
  },
  {
   "cell_type": "markdown",
   "id": "2ee0c8e2-c18a-4858-a85b-3b0446285fd8",
   "metadata": {},
   "source": [
    "we save scVI normalized gene expression additionally."
   ]
  },
  {
   "cell_type": "code",
   "execution_count": null,
   "id": "984139c1-571b-4408-9600-8b94ad56e0a7",
   "metadata": {},
   "outputs": [],
   "source": [
    "WT_COMBINED.layers['scVI_normalized'] = model.get_normalized_expression(library_size=1e4)"
   ]
  },
  {
   "cell_type": "markdown",
   "id": "498de827-9012-4411-9cf0-97e32dc8f526",
   "metadata": {},
   "source": [
    "Scaling data. We need to use scaling because all genes should be equally significant."
   ]
  },
  {
   "cell_type": "code",
   "execution_count": null,
   "id": "583e15ae-877a-4339-9dc0-c00d7c0221f3",
   "metadata": {},
   "outputs": [],
   "source": [
    "sc.pp.scale(WT_COMBINED, max_value=10)"
   ]
  },
  {
   "cell_type": "markdown",
   "id": "789f2285-9372-4ca8-9fd5-1c6f09edbc47",
   "metadata": {},
   "source": [
    "When we want to use `sc.pp.neighbors()` with scvi data, we need to specify the `use_rep` parameter."
   ]
  },
  {
   "cell_type": "code",
   "execution_count": null,
   "id": "03163ee0-72f3-4b57-a165-a5c91face9a6",
   "metadata": {},
   "outputs": [],
   "source": [
    "sc.pp.neighbors(WT_COMBINED, use_rep='X_scVI', metric='cosine', n_neighbors=18)\n",
    "sc.tl.umap(WT_COMBINED, min_dist=0.3)"
   ]
  },
  {
   "cell_type": "markdown",
   "id": "3fe0c137-5a98-4b9d-b55a-b4f3048cb21c",
   "metadata": {},
   "source": [
    "Clustering can be skipped before splitting into subpopulations."
   ]
  },
  {
   "cell_type": "code",
   "execution_count": null,
   "id": "6b31e201-a1d8-42e5-9e61-84078d1b77a9",
   "metadata": {},
   "outputs": [],
   "source": [
    "sc.tl.leiden(WT_COMBINED, resolution=0.5)"
   ]
  },
  {
   "cell_type": "markdown",
   "id": "9a61ef14-6edd-47ae-a669-0c13b14c7457",
   "metadata": {},
   "source": [
    "#### To prepare the celltypist annotation"
   ]
  },
  {
   "cell_type": "markdown",
   "id": "dc888c9d-7312-4871-a5f5-48d9ead55d9e",
   "metadata": {},
   "source": [
    "We will use celltypist model for automatic cell types annotation."
   ]
  },
  {
   "cell_type": "markdown",
   "id": "132d2d82-cae4-4b5d-b1e8-6843cad08120",
   "metadata": {},
   "source": [
    "We use a mouse gut model, since no immune model has been created for the mouse.\n",
    "\n",
    "(there are many immune cells in the mouse gut, suitable for approximate classification)"
   ]
  },
  {
   "cell_type": "code",
   "execution_count": null,
   "id": "4cda92d6-e7dc-4f1c-8908-0c4e8688c67d",
   "metadata": {},
   "outputs": [],
   "source": [
    "models.download_models(force_update=True, model=[\"Adult_Mouse_Gut.pkl\"])\n",
    "mmouse = models.Model.load(model=\"Adult_Mouse_Gut.pkl\")"
   ]
  },
  {
   "cell_type": "markdown",
   "id": "c833a005-679e-4669-b09a-84cf88103454",
   "metadata": {},
   "source": [
    "We use the ensemble identifiers as Indexes, so we need to prepare a file linking them to the gene symbols. By default, the model uses gene symbols."
   ]
  },
  {
   "cell_type": "code",
   "execution_count": null,
   "id": "ec459d28-7ee7-4f7c-9f21-1deee78465b3",
   "metadata": {},
   "outputs": [],
   "source": [
    "with open('IDs2symbols.csv', 'w') as f:\n",
    "    for Symbol in names_dict.keys():\n",
    "        f.write(f'{names_dict[Symbol]},{Symbol}\\n')"
   ]
  },
  {
   "cell_type": "code",
   "execution_count": null,
   "id": "3e5f8772-a3b1-4a1a-bd52-8ffe42387a43",
   "metadata": {},
   "outputs": [],
   "source": [
    "mmouse.convert('IDs2symbols.csv')"
   ]
  },
  {
   "cell_type": "markdown",
   "id": "63245eef-1cd8-4bea-92bd-f7d71e2d6843",
   "metadata": {},
   "source": [
    "#### *Annotation of combine sample"
   ]
  },
  {
   "cell_type": "markdown",
   "id": "3a96b90f-5f71-4d30-afd0-8ad7b8d6b211",
   "metadata": {},
   "source": [
    "Create a copy of the anndata object containing the scvi result.\n",
    "* We will use 'counts' layer because it contains raw data."
   ]
  },
  {
   "cell_type": "code",
   "execution_count": null,
   "id": "6e93adb3-0be0-4b9a-b628-02533aa5bd33",
   "metadata": {},
   "outputs": [],
   "source": [
    "WT_COMBINED_CellTypist = WT_COMBINED.copy()\n",
    "WT_COMBINED_CellTypist.X = WT_COMBINED.layers[\"counts\"]"
   ]
  },
  {
   "cell_type": "markdown",
   "id": "4d127ff7-2990-4760-8879-e9e6f3a36135",
   "metadata": {},
   "source": [
    "`WT_COMBINED_CellTypist.X` raw data below:"
   ]
  },
  {
   "cell_type": "code",
   "execution_count": null,
   "id": "82161266-5fcf-469c-b74d-671227dd7fca",
   "metadata": {},
   "outputs": [],
   "source": [
    "print(WT_COMBINED_CellTypist.X.toarray()[100:150])"
   ]
  },
  {
   "cell_type": "markdown",
   "id": "dd1616fd-c8e1-4b61-b0b3-1db3c8ae52c9",
   "metadata": {},
   "source": [
    "Let's prepare data: the `normalize_per_cell` is a obligatory condition for using the celltypist.\n",
    "\n",
    "* **False WARNING**. The reason is the presence of logp1 in uns.\n",
    "* We don't use scaling because the celltypist does it automatically."
   ]
  },
  {
   "cell_type": "code",
   "execution_count": null,
   "id": "da630c12-96ff-4d39-9484-4345ebbce5ad",
   "metadata": {},
   "outputs": [],
   "source": [
    "sc.pp.normalize_per_cell(WT_COMBINED_CellTypist, counts_per_cell_after=1e4)\n",
    "sc.pp.log1p(WT_COMBINED_CellTypist)"
   ]
  },
  {
   "cell_type": "markdown",
   "id": "97c09dd6-acb9-4dd7-ae24-9c5d3ff3027b",
   "metadata": {},
   "source": [
    "To predict cell types and save result in `.obs` attribute.\n",
    "* conf_score == confidence score\n",
    "* majority_voting == cell type"
   ]
  },
  {
   "cell_type": "code",
   "execution_count": null,
   "id": "5abe2cf3-3e31-45dd-a7e0-d9f529fdeb7b",
   "metadata": {},
   "outputs": [],
   "source": [
    "predictions = celltypist.annotate(WT_COMBINED_CellTypist, model=mmouse, majority_voting=True)\n",
    "predictions_adata = predictions.to_adata()\n",
    "WT_COMBINED.obs[\"celltypist_cell_label_coarse\"] = predictions_adata.obs['majority_voting']\n",
    "WT_COMBINED.obs[\"celltypist_conf_score_coarse\"] = predictions_adata.obs[\"conf_score\"]"
   ]
  },
  {
   "cell_type": "markdown",
   "id": "62a9140a-afb5-41e2-a6e3-7947916339c6",
   "metadata": {
    "jp-MarkdownHeadingCollapsed": true
   },
   "source": [
    "#### *Single samples"
   ]
  },
  {
   "cell_type": "code",
   "execution_count": null,
   "id": "04ea5b08-156f-43a1-9219-bea2dfb78347",
   "metadata": {},
   "outputs": [],
   "source": []
  },
  {
   "cell_type": "markdown",
   "id": "b11fe3e2-6a49-45a6-b665-108c636ba400",
   "metadata": {},
   "source": [
    "we will also perform a special processing of a object-copy for celltypist."
   ]
  },
  {
   "cell_type": "code",
   "execution_count": null,
   "id": "cd4e9843-beac-4aa5-a8f9-ec8094b85cf9",
   "metadata": {},
   "outputs": [],
   "source": [
    "for i in range(len(WT_CELLTYPIST)):\n",
    "    sc.pp.normalize_per_cell(WT_CELLTYPIST[i], counts_per_cell_after=1e4)\n",
    "    sc.pp.log1p(WT_CELLTYPIST[i])\n",
    "    #sc.pp.scale(WT_CELLTYPIST[i], max_value=10) # unnecessary. celltypist performs the scaling itself."
   ]
  },
  {
   "cell_type": "markdown",
   "id": "6179d1ea-8050-4727-8056-bcc7b9b42137",
   "metadata": {},
   "source": [
    "We should to compute a neighborhood graph of observations (We should set custom parameters). Otherwise, celltypist does it by itself."
   ]
  },
  {
   "cell_type": "code",
   "execution_count": null,
   "id": "182faa0b-b85c-4fa6-a90e-7d2e279e36fa",
   "metadata": {},
   "outputs": [],
   "source": [
    "for i in range(len(WT_CELLTYPIST)):\n",
    "    sc.tl.pca(WT_CELLTYPIST[i], n_comps=40, random_state=110701)\n",
    "    sc.pp.neighbors(WT_CELLTYPIST[i], metric='cosine', n_pcs=40, n_neighbors=18, random_state=110701)"
   ]
  },
  {
   "cell_type": "markdown",
   "id": "9fbc0c51-2653-4f0b-b38a-51eff369e588",
   "metadata": {},
   "source": [
    "Predits cell types. let's add prediction to the WT_SAMPLE anndata objects."
   ]
  },
  {
   "cell_type": "code",
   "execution_count": null,
   "id": "90035c49-7e58-4db5-8881-dd3b1256e876",
   "metadata": {},
   "outputs": [],
   "source": [
    "for i in range(len(WT_CELLTYPIST)):\n",
    "    print(WT_CELLTYPIST[i].uns['sample_name'])\n",
    "    \n",
    "    predictions = celltypist.annotate(WT_CELLTYPIST[i], model=mmouse, majority_voting=True)\n",
    "    predictions_adata = predictions.to_adata()\n",
    "    WT_SAMPELS[i].obs[\"celltypist_cell_label_coarse\"] = predictions_adata.obs['majority_voting']\n",
    "    WT_SAMPELS[i].obs[\"celltypist_conf_score_coarse\"] = predictions_adata.obs[\"conf_score\"]\n",
    "    \n",
    "    print('#'*10, end='\\n')"
   ]
  },
  {
   "cell_type": "markdown",
   "id": "28a414c4-db48-4933-97ac-669459e3b2ca",
   "metadata": {},
   "source": [
    "# RAM opt"
   ]
  },
  {
   "cell_type": "code",
   "execution_count": null,
   "id": "a1148c07-073a-4c79-81d4-42c123c4daf0",
   "metadata": {},
   "outputs": [],
   "source": [
    "del(WT_COMBINED_CellTypist)\n",
    "gc.collect()"
   ]
  },
  {
   "cell_type": "code",
   "execution_count": null,
   "id": "fb495cce-1b4d-4e30-a628-810ecff25e5d",
   "metadata": {},
   "outputs": [],
   "source": [
    "del WT_COMBINED.layers['counts']\n",
    "gc.collect()"
   ]
  },
  {
   "cell_type": "code",
   "execution_count": null,
   "id": "a29a0384-6659-4cb9-bbfa-16a2de89423c",
   "metadata": {},
   "outputs": [],
   "source": [
    "\"\"\"\n",
    "import time\n",
    "t0 = time.time()\n",
    "fn = './proc_data/WT_COMBINED.h5ad'\n",
    "WT_COMBINED.write_h5ad(fn, compression='gzip')\n",
    "print('%.1f seconds passed'%(time.time()-t0))\n",
    "\"\"\""
   ]
  },
  {
   "cell_type": "markdown",
   "id": "ab0e18e0-108a-4216-a572-b7e0c50f60f5",
   "metadata": {},
   "source": [
    "# PART2: Trem2 -/-"
   ]
  },
  {
   "cell_type": "markdown",
   "id": "df83fd83-5e2d-495f-80c4-7b032603128b",
   "metadata": {},
   "source": [
    "## Importing mouse samples (Trem2-)"
   ]
  },
  {
   "cell_type": "markdown",
   "id": "632892e6-7b68-40ca-b146-ea010888718d",
   "metadata": {},
   "source": [
    "* There are 4 time points:\n",
    "    * Steady state (SS)       --     H005\n",
    "    * 3 days later (3DL)      --     H006\n",
    "    * 7 days later (7DL)      --     H008"
   ]
  },
  {
   "cell_type": "markdown",
   "id": "4f050956-b7f9-4a43-ab79-f025bf61c375",
   "metadata": {},
   "source": [
    "T SS"
   ]
  },
  {
   "cell_type": "code",
   "execution_count": null,
   "id": "f610d1e4-055b-42b7-8e8b-d6990ebffc1f",
   "metadata": {},
   "outputs": [],
   "source": [
    "T_SS = sc.read_10x_mtx(\n",
    "    './GSE190856_RAW/H005/',  \n",
    "    var_names='gene_ids',      \n",
    "    cache=True)\n",
    "\n",
    "T_SS.var_names_make_unique()\n",
    "\n",
    "T_SS"
   ]
  },
  {
   "cell_type": "markdown",
   "id": "36f8108a-eeee-4906-8e5b-2097f4031575",
   "metadata": {},
   "source": [
    "T 3DL"
   ]
  },
  {
   "cell_type": "code",
   "execution_count": null,
   "id": "17ba70e4-a8dd-478b-b526-c8009723bc47",
   "metadata": {},
   "outputs": [],
   "source": [
    "T_3DL = sc.read_10x_mtx(\n",
    "    './GSE190856_RAW/H006/',  \n",
    "    var_names='gene_ids',      \n",
    "    cache=True)\n",
    "\n",
    "T_3DL.var_names_make_unique()\n",
    "\n",
    "T_3DL"
   ]
  },
  {
   "cell_type": "markdown",
   "id": "4287d347-20f5-4da9-995a-0e5a80e6598d",
   "metadata": {},
   "source": [
    "T 7DL"
   ]
  },
  {
   "cell_type": "code",
   "execution_count": null,
   "id": "1d85fbd4-b7b6-42d3-9898-2b8bd2085ed8",
   "metadata": {},
   "outputs": [],
   "source": [
    "T_7DL = sc.read_10x_mtx(\n",
    "    './GSE190856_RAW/H008/',  \n",
    "    var_names='gene_ids',      \n",
    "    cache=True)\n",
    "\n",
    "T_7DL.var_names_make_unique()\n",
    "\n",
    "T_7DL"
   ]
  },
  {
   "cell_type": "markdown",
   "id": "6626eb3e-a557-4ccd-8f6c-111be87298df",
   "metadata": {},
   "source": [
    "Let's combine all 3 objects into one list:"
   ]
  },
  {
   "cell_type": "code",
   "execution_count": null,
   "id": "5bf814f5-08a7-4ab8-a20c-000112b612e4",
   "metadata": {},
   "outputs": [],
   "source": [
    "T_SAMPELS = [T_SS, T_3DL, T_7DL]"
   ]
  },
  {
   "cell_type": "markdown",
   "id": "8ab9f257-6589-4fae-a67b-109d3a0d13e9",
   "metadata": {},
   "source": [
    "Let's add the names of the samples and number of cells to the anndata objects."
   ]
  },
  {
   "cell_type": "code",
   "execution_count": null,
   "id": "640aa97f-ad40-4a19-bc71-cc61ce145b42",
   "metadata": {},
   "outputs": [],
   "source": [
    "T_NAMES = ['Trem2 -/- steady state (H005)','Trem2 -/- 3 days later (H006)',\n",
    "            'Trem2 -/- 7 days later (H008)']\n",
    "\n",
    "T_VARIABLES= ['T_SS', 'T_3DL', 'T_7DL']\n",
    "\n",
    "for obj, name, var in zip(T_SAMPELS, T_NAMES, T_VARIABLES):\n",
    "    obj.uns['sample_name'] = name\n",
    "    obj.uns['var_name'] = var\n",
    "    obj.uns['cell_count'] = (obj.obs).shape[0]\n",
    "    obj.uns['gene_count'] = (obj.var).shape[0]\n",
    "\n",
    "obj.uns"
   ]
  },
  {
   "cell_type": "markdown",
   "id": "d5ecd85e-e52a-4e3d-9b51-7db77f3471bd",
   "metadata": {},
   "source": [
    "## Let's filter the data"
   ]
  },
  {
   "cell_type": "markdown",
   "id": "a61c1424-f5c5-4ffa-9ce4-b929aef0f66c",
   "metadata": {},
   "source": [
    "We will first calculate the quality metrics for each of the samples."
   ]
  },
  {
   "cell_type": "code",
   "execution_count": null,
   "id": "9ed7934f-53b7-47b6-b20b-e0d7f41138e5",
   "metadata": {},
   "outputs": [],
   "source": [
    "for sample in T_SAMPELS:\n",
    "    sample.var['mt'] = sample.var['gene_symbols'].str.startswith('mt-')\n",
    "    sc.pp.calculate_qc_metrics(sample, qc_vars=['mt'], percent_top=None, log1p=False, inplace=True)"
   ]
  },
  {
   "cell_type": "code",
   "execution_count": null,
   "id": "bf83c115-e132-49a6-aaba-bc05aaaf8c35",
   "metadata": {},
   "outputs": [],
   "source": [
    "T_SS.obs"
   ]
  },
  {
   "cell_type": "markdown",
   "id": "0aaf9577-6677-40a2-a112-1987f452cf1c",
   "metadata": {},
   "source": [
    "### Trem2 samples before filtering: violinplts whith `total_counts`, `n_genes_by_counts` and `pct_counts_mt`."
   ]
  },
  {
   "cell_type": "code",
   "execution_count": null,
   "id": "06341b35-44f6-43a3-afc0-110443649541",
   "metadata": {},
   "outputs": [],
   "source": [
    "matplotlib.pyplot.bar(T_VARIABLES, [sample.uns['cell_count'] for sample in T_SAMPELS],\n",
    "                      color=['blue', 'red', 'green'], alpha=0.5)\n",
    "\n",
    "matplotlib.pyplot.grid(lw=0.4, ls='--', alpha=0.4, axis='y')\n",
    "matplotlib.pyplot.minorticks_on()\n",
    "\n",
    "matplotlib.pyplot.title('Samples')\n",
    "matplotlib.pyplot.xlabel('Samples')\n",
    "matplotlib.pyplot.ylabel('number of cells')\n",
    "\n",
    "for y,x in zip([sample.uns['cell_count'] for sample in T_SAMPELS], T_VARIABLES):\n",
    "    matplotlib.pyplot.text(x, y-500, str(y), ha='center')"
   ]
  },
  {
   "cell_type": "code",
   "execution_count": null,
   "id": "bff4d26c-5770-4f14-8e89-d1e335f15cb8",
   "metadata": {},
   "outputs": [],
   "source": [
    "for sample in T_SAMPELS:\n",
    "    build_violin(sample)"
   ]
  },
  {
   "cell_type": "code",
   "execution_count": null,
   "id": "eb6e541b-7a76-4d3b-b780-2f3129582413",
   "metadata": {},
   "outputs": [],
   "source": [
    "build_scatter(y='pct_counts_mt', cols=3, ytline_coords=[20], samples=T_SAMPELS)"
   ]
  },
  {
   "cell_type": "code",
   "execution_count": null,
   "id": "66133752-686b-4d6a-960b-4752e70e63f0",
   "metadata": {},
   "outputs": [],
   "source": [
    "build_scatter(y='n_genes_by_counts', cols=3, ytline_coords=[6_000, 200], samples=T_SAMPELS)"
   ]
  },
  {
   "cell_type": "markdown",
   "id": "1b7f90bc-e724-4070-86b7-48b4984d1f0b",
   "metadata": {},
   "source": [
    "### filtering Trem2 -/- samples"
   ]
  },
  {
   "cell_type": "code",
   "execution_count": null,
   "id": "9f587cb9-cf0d-4dc7-9272-402a4b507fab",
   "metadata": {},
   "outputs": [],
   "source": [
    "for i, sample in enumerate(T_SAMPELS):\n",
    "    \n",
    "    # cells expressing less than 200 and more than 6_000 genes are removed\n",
    "    sc.pp.filter_cells(sample, min_genes=200)\n",
    "    sc.pp.filter_cells(sample, max_genes=6_000)\n",
    "\n",
    "    # cells containing more than 40_000 counts are removed\n",
    "    sc.pp.filter_cells(sample, max_counts=40_000)\n",
    "    \n",
    "    # genes expressed in less than one cell are removed\n",
    "    sc.pp.filter_genes(sample, min_cells=1)\n",
    "    \n",
    "    # filtering cells by mt-content\n",
    "    T_SAMPELS[i] = T_SAMPELS[i][T_SAMPELS[i].obs.pct_counts_mt < 20, :] \n",
    "\n",
    "    # to except mt- genes\n",
    "    T_SAMPELS[i] = T_SAMPELS[i][:, T_SAMPELS[i].var.mt == False]\n",
    "\n",
    "    # genes / celss\n",
    "    T_SAMPELS[i].uns['filtered_cell_count'] = (T_SAMPELS[i].obs).shape[0]\n",
    "    T_SAMPELS[i].uns['filtered_gene_count'] = (T_SAMPELS[i].var).shape[0]"
   ]
  },
  {
   "cell_type": "code",
   "execution_count": null,
   "id": "5a42bdc4-be40-4549-af88-cd32f13a8c80",
   "metadata": {},
   "outputs": [],
   "source": [
    "matplotlib.pyplot.bar(T_VARIABLES, [sample.uns['filtered_cell_count'] for sample in T_SAMPELS],\n",
    "                      color=['blue', 'red', 'green'], alpha=0.5)\n",
    "\n",
    "matplotlib.pyplot.grid(lw=0.4, ls='--', alpha=0.4, axis='y')\n",
    "matplotlib.pyplot.minorticks_on()\n",
    "\n",
    "matplotlib.pyplot.title('Filtred samples')\n",
    "matplotlib.pyplot.xlabel('Samples')\n",
    "matplotlib.pyplot.ylabel('number of cells')\n",
    "\n",
    "for y,x in zip([sample.uns['filtered_cell_count'] for sample in T_SAMPELS], T_VARIABLES):\n",
    "    matplotlib.pyplot.text(x, y-500, str(y), ha='center')"
   ]
  },
  {
   "cell_type": "code",
   "execution_count": null,
   "id": "c8992ed4-5801-49f2-8610-a1901eaec5fd",
   "metadata": {},
   "outputs": [],
   "source": [
    "matplotlib.pyplot.bar(T_VARIABLES, [sample.uns['filtered_gene_count'] for sample in T_SAMPELS],\n",
    "                      color=['blue', 'red', 'green'], alpha=0.5)\n",
    "\n",
    "matplotlib.pyplot.grid(lw=0.4, ls='--', alpha=0.4, axis='y')\n",
    "matplotlib.pyplot.minorticks_on()\n",
    "\n",
    "matplotlib.pyplot.title('Filtred samples')\n",
    "matplotlib.pyplot.xlabel('Samples')\n",
    "matplotlib.pyplot.ylabel('number of genes')\n",
    "\n",
    "for y,x in zip([sample.uns['filtered_gene_count'] for sample in T_SAMPELS], T_VARIABLES):\n",
    "    matplotlib.pyplot.text(x, y-1500, str(y), ha='center')"
   ]
  },
  {
   "cell_type": "code",
   "execution_count": null,
   "id": "245493c0-ae93-4ba3-96bd-81988e6761c7",
   "metadata": {},
   "outputs": [],
   "source": [
    "for sample in T_SAMPELS:\n",
    "    build_violin(sample, threshold_line=False)"
   ]
  },
  {
   "cell_type": "code",
   "execution_count": null,
   "id": "fa961c53-3161-429c-8ab0-5954657b18e2",
   "metadata": {},
   "outputs": [],
   "source": [
    "build_scatter(y='pct_counts_mt', cols=3, threshold_line=False, samples=T_SAMPELS)"
   ]
  },
  {
   "cell_type": "code",
   "execution_count": null,
   "id": "76cac082-311c-4c19-a0ea-d0525bba3789",
   "metadata": {},
   "outputs": [],
   "source": [
    "build_scatter(y='n_genes_by_counts', cols=3, threshold_line=False, samples=T_SAMPELS)"
   ]
  },
  {
   "cell_type": "markdown",
   "id": "fa57a9d1-32a3-41aa-88ca-b2cfb4575302",
   "metadata": {},
   "source": [
    "## Let's perform preliminary data processing"
   ]
  },
  {
   "cell_type": "markdown",
   "id": "0ac653cb-b128-45df-a109-5db4ce29608a",
   "metadata": {},
   "source": [
    "### Preparing combined data for plot UMAP visualisation"
   ]
  },
  {
   "cell_type": "markdown",
   "id": "9e1036e4-629a-4a7a-a9f3-b3fc3270b942",
   "metadata": {},
   "source": [
    "We want to get a good UMAP visualization, so it is advisable to combine the samples.\n",
    "* We will use `scvi` tool."
   ]
  },
  {
   "cell_type": "code",
   "execution_count": null,
   "id": "e23e5a77-9e5d-4ff8-9079-ee79b83abc25",
   "metadata": {},
   "outputs": [],
   "source": [
    "T_COMBINED =  T_SAMPELS[0].concatenate(T_SAMPELS[1], T_SAMPELS[2], batch_key=\"Sample\")"
   ]
  },
  {
   "cell_type": "code",
   "execution_count": null,
   "id": "6b6761e2-2fd7-46fd-9eaf-643124fbae6a",
   "metadata": {},
   "outputs": [],
   "source": [
    "T_COMBINED"
   ]
  },
  {
   "cell_type": "markdown",
   "id": "701052d6-3849-49ca-950e-48f14e9204fb",
   "metadata": {},
   "source": [
    "The combined object consists of 24936 cells."
   ]
  },
  {
   "cell_type": "markdown",
   "id": "23770562-7a51-4e89-9e42-c732d400450c",
   "metadata": {},
   "source": [
    "`scvi` needs raw counts, let's save them on the new layer."
   ]
  },
  {
   "cell_type": "code",
   "execution_count": null,
   "id": "3a6e7388-9a0a-4da8-819c-9ec0df545060",
   "metadata": {},
   "outputs": [],
   "source": [
    "T_COMBINED.layers['counts'] = T_COMBINED.X.copy()"
   ]
  },
  {
   "cell_type": "markdown",
   "id": "5a4d6f2e-689c-4aed-a902-35a04e88a821",
   "metadata": {},
   "source": [
    "### normalization, log-transform, scalling and simple annotate the samples"
   ]
  },
  {
   "cell_type": "markdown",
   "id": "b35acc03-5f15-4f59-9c7a-b4900d62bd25",
   "metadata": {},
   "source": [
    "We gonna use celltypist, let's create objects for this."
   ]
  },
  {
   "cell_type": "code",
   "execution_count": null,
   "id": "6f1e7b4a-a97f-47db-a6b6-125450701bfa",
   "metadata": {},
   "outputs": [],
   "source": [
    "T_CELLTYPIST = []\n",
    "for i in range(len(T_SAMPELS)):\n",
    "    T_CELLTYPIST.append(T_SAMPELS[i].copy())"
   ]
  },
  {
   "cell_type": "markdown",
   "id": "ddf1b09b-2c44-470d-91cd-42eceeb4c60b",
   "metadata": {},
   "source": [
    "Standard data transformation."
   ]
  },
  {
   "cell_type": "code",
   "execution_count": null,
   "id": "c2c62c6b-85df-42f7-85fd-143f26f78422",
   "metadata": {},
   "outputs": [],
   "source": [
    "for i in range(len(T_SAMPELS)):\n",
    "    sc.pp.normalize_total(T_SAMPELS[i], target_sum=1e4)\n",
    "    sc.pp.log1p(T_SAMPELS[i])\n",
    "    sc.pp.scale(T_SAMPELS[i], max_value=10)"
   ]
  },
  {
   "cell_type": "markdown",
   "id": "11fa1a9b-6f38-4fac-8395-4ffa8ab4d56f",
   "metadata": {},
   "source": [
    "#### scVI transformation"
   ]
  },
  {
   "cell_type": "markdown",
   "id": "e26e2ead-f597-4897-b0c3-b8ed71a49b56",
   "metadata": {},
   "source": [
    "... and for combined object:"
   ]
  },
  {
   "cell_type": "code",
   "execution_count": null,
   "id": "ee688b82-3300-4ce2-bbb7-a4fe523544f0",
   "metadata": {},
   "outputs": [],
   "source": [
    "sc.pp.normalize_total(T_COMBINED, target_sum=1e4)\n",
    "sc.pp.log1p(T_COMBINED)"
   ]
  },
  {
   "cell_type": "code",
   "execution_count": null,
   "id": "b9351369-b06e-4d23-94cf-cdeab0b9955c",
   "metadata": {},
   "outputs": [],
   "source": [
    "scvi.model.SCVI.setup_anndata(T_COMBINED, layer='counts', \n",
    "                             categorical_covariate_keys=['Sample'],\n",
    "                             continuous_covariate_keys=['pct_counts_mt', 'total_counts'])"
   ]
  },
  {
   "cell_type": "code",
   "execution_count": null,
   "id": "713ba490-93c2-4ea7-9469-e047acf241e3",
   "metadata": {},
   "outputs": [],
   "source": [
    "model = scvi.model.SCVI(T_COMBINED)"
   ]
  },
  {
   "cell_type": "code",
   "execution_count": null,
   "id": "5e9db83e-8d7e-4fe3-8f1e-f3bdfc789fb9",
   "metadata": {},
   "outputs": [],
   "source": [
    "model.train()"
   ]
  },
  {
   "cell_type": "code",
   "execution_count": null,
   "id": "00ddc28b-a806-4be2-808a-4fe7e6153ba4",
   "metadata": {},
   "outputs": [],
   "source": [
    "latent_T = model.get_latent_representation()"
   ]
  },
  {
   "cell_type": "code",
   "execution_count": null,
   "id": "e3cc1d5f-6c97-4dd6-a2ae-81206bb8e58e",
   "metadata": {},
   "outputs": [],
   "source": [
    "T_COMBINED.obsm['X_scVI'] = latent_T"
   ]
  },
  {
   "cell_type": "code",
   "execution_count": null,
   "id": "89c28353-27c5-4f0a-b049-0105ed307d32",
   "metadata": {},
   "outputs": [],
   "source": [
    "T_COMBINED.layers['scVI_normalized'] = model.get_normalized_expression(library_size=1e4)"
   ]
  },
  {
   "cell_type": "code",
   "execution_count": null,
   "id": "bd03fcf6-3c75-416e-9fbc-3dd597d54772",
   "metadata": {},
   "outputs": [],
   "source": [
    "sc.pp.scale(T_COMBINED, max_value=10)"
   ]
  },
  {
   "cell_type": "code",
   "execution_count": null,
   "id": "8d27eb08-8c75-448d-94a1-003926823e41",
   "metadata": {
    "scrolled": true
   },
   "outputs": [],
   "source": [
    "sc.pp.neighbors(T_COMBINED, use_rep='X_scVI', metric='cosine', n_neighbors=18)\n",
    "sc.tl.umap(T_COMBINED, min_dist=0.3)"
   ]
  },
  {
   "cell_type": "code",
   "execution_count": null,
   "id": "bafc11da-bb50-4122-afc4-1402a8f297b2",
   "metadata": {},
   "outputs": [],
   "source": [
    "sc.tl.leiden(T_COMBINED, resolution=0.5)"
   ]
  },
  {
   "cell_type": "markdown",
   "id": "86db1041-d881-4c5b-a7fc-3313d8295712",
   "metadata": {},
   "source": [
    "#### To prepare the celltypist annotation"
   ]
  },
  {
   "cell_type": "code",
   "execution_count": null,
   "id": "2d64dbc9-9418-48b8-bc41-962e5f03cbb0",
   "metadata": {},
   "outputs": [],
   "source": [
    "T_COMBINED_CellTypist = T_COMBINED.copy()\n",
    "T_COMBINED_CellTypist.X = T_COMBINED.layers[\"counts\"]"
   ]
  },
  {
   "cell_type": "code",
   "execution_count": null,
   "id": "ecf9c539-11c0-4b62-afa2-51102c83c5e7",
   "metadata": {},
   "outputs": [],
   "source": [
    "sc.pp.normalize_per_cell(T_COMBINED_CellTypist, counts_per_cell_after=1e4)\n",
    "sc.pp.log1p(T_COMBINED_CellTypist)"
   ]
  },
  {
   "cell_type": "code",
   "execution_count": null,
   "id": "5aeab12d-9d87-4a3b-965b-3c04fee194bd",
   "metadata": {},
   "outputs": [],
   "source": [
    "predictions = celltypist.annotate(T_COMBINED_CellTypist, model=mmouse, majority_voting=True)\n",
    "predictions_adata = predictions.to_adata()\n",
    "T_COMBINED.obs[\"celltypist_cell_label_coarse\"] = predictions_adata.obs['majority_voting']\n",
    "T_COMBINED.obs[\"celltypist_conf_score_coarse\"] = predictions_adata.obs[\"conf_score\"]"
   ]
  },
  {
   "cell_type": "markdown",
   "id": "b9445274-9a9c-4a6f-b787-68d804a23448",
   "metadata": {},
   "source": [
    "# PART 3: pair analisys Trem2 (-/-) & WT lc"
   ]
  },
  {
   "cell_type": "markdown",
   "id": "e0996456-d560-4944-a7dd-3eeef8fc3cb4",
   "metadata": {},
   "source": [
    "## Data import"
   ]
  },
  {
   "cell_type": "code",
   "execution_count": null,
   "id": "04451c2e-68e7-42e9-b18d-88bd3657e5a3",
   "metadata": {},
   "outputs": [],
   "source": [
    "Trem2_KO_SS = sc.read_10x_mtx(\n",
    "    './GSE190856_RAW/H005/',       \n",
    "    var_names='gene_ids',      \n",
    "    cache=True)\n",
    "\n",
    "Trem2_KO_SS.var_names_make_unique()"
   ]
  },
  {
   "cell_type": "code",
   "execution_count": null,
   "id": "d71488a1-bf75-4500-a677-1cd2d37262ab",
   "metadata": {},
   "outputs": [],
   "source": [
    "Trem2_KO_3DL = sc.read_10x_mtx(\n",
    "    './GSE190856_RAW/H006/',  \n",
    "    var_names='gene_ids',      \n",
    "    cache=True)\n",
    "\n",
    "Trem2_KO_3DL.var_names_make_unique()"
   ]
  },
  {
   "cell_type": "code",
   "execution_count": null,
   "id": "a1365ac4-6c9d-449d-bafc-8af4c8667a5e",
   "metadata": {},
   "outputs": [],
   "source": [
    "Trem2_KO_7DL = sc.read_10x_mtx(\n",
    "    './GSE190856_RAW/H008/',  \n",
    "    var_names='gene_ids',      \n",
    "    cache=True)\n",
    "\n",
    "Trem2_KO_7DL.var_names_make_unique()"
   ]
  },
  {
   "cell_type": "code",
   "execution_count": null,
   "id": "f12ef380-f2bb-43ab-b6f1-ed42d19dc443",
   "metadata": {},
   "outputs": [],
   "source": [
    "WT_LC_SS = sc.read_10x_mtx(\n",
    "    './GSE190856_RAW/H001/',  \n",
    "    var_names='gene_ids',      \n",
    "    cache=True)\n",
    "\n",
    "WT_LC_SS.var_names_make_unique()"
   ]
  },
  {
   "cell_type": "code",
   "execution_count": null,
   "id": "c4995aab-21b6-4db0-95f3-347dc1610307",
   "metadata": {},
   "outputs": [],
   "source": [
    "WT_LC_3DL = sc.read_10x_mtx(\n",
    "    './GSE190856_RAW/H002/',  \n",
    "    var_names='gene_ids',      \n",
    "    cache=True)\n",
    "\n",
    "WT_LC_3DL.var_names_make_unique()"
   ]
  },
  {
   "cell_type": "code",
   "execution_count": null,
   "id": "267ff4a2-f6f4-4d5e-9f82-cdfe9b7f6e8d",
   "metadata": {},
   "outputs": [],
   "source": [
    "WT_LC_7DL = sc.read_10x_mtx(\n",
    "    './GSE190856_RAW/H011/',  \n",
    "    var_names='gene_ids',      \n",
    "    cache=True)\n",
    "\n",
    "WT_LC_7DL.var_names_make_unique()"
   ]
  },
  {
   "cell_type": "markdown",
   "id": "2ab526b5-499b-420f-aaae-e34665a71e56",
   "metadata": {},
   "source": [
    "Add metadata"
   ]
  },
  {
   "cell_type": "code",
   "execution_count": null,
   "id": "f4f4aab6-bdf6-41a2-9d2b-6d565610a81d",
   "metadata": {},
   "outputs": [],
   "source": [
    "PAIR_SAMPELS = [Trem2_KO_SS, Trem2_KO_3DL, Trem2_KO_7DL,\n",
    "                WT_LC_SS, WT_LC_3DL, WT_LC_7DL]\n",
    "\n",
    "P_NAMES = ['Trem2 -/- steady state (H005)','Trem2 -/- 3 days later (H006)',\n",
    "           'Trem2 -/- 7 days later (H008)', 'WT littermate control\\nsteady state (H001)',\n",
    "           'WT littermate control\\n3 days later (H002)', 'WT littermate control\\n7 days later (H011)']\n",
    "\n",
    "P_VARIABLES= ['Trem2_KO_SS', 'Trem2_KO_3DL', 'Trem2_KO_7DL',\n",
    "              'WT_LC_SS', 'WT_LC_3DL', 'WT_LC_7DL']\n",
    "\n",
    "for obj, name, var in zip(PAIR_SAMPELS, P_NAMES, P_VARIABLES):\n",
    "    obj.uns['sample_name'] = name\n",
    "    obj.uns['var_name'] = var\n",
    "    obj.uns['cell_count'] = (obj.obs).shape[0]\n",
    "    obj.uns['gene_count'] = (obj.var).shape[0]\n",
    "\n",
    "obj.uns"
   ]
  },
  {
   "cell_type": "markdown",
   "id": "0f962c13-35f7-41ae-929f-4babcecafaa4",
   "metadata": {},
   "source": [
    "## Let's filter the data"
   ]
  },
  {
   "cell_type": "code",
   "execution_count": null,
   "id": "3d7ea1a8-430c-443f-abd5-8aef4452f1f4",
   "metadata": {},
   "outputs": [],
   "source": [
    "for sample in PAIR_SAMPELS:\n",
    "    sample.var['mt'] = sample.var['gene_symbols'].str.startswith('mt-')\n",
    "    sc.pp.calculate_qc_metrics(sample, qc_vars=['mt'], percent_top=None, log1p=False, inplace=True)"
   ]
  },
  {
   "cell_type": "markdown",
   "id": "2a733714-a6ff-4056-9ed8-d5277fefd3c3",
   "metadata": {},
   "source": [
    "### WT samples before filtering: violinplts whith `total_counts`, `n_genes_by_counts` and `pct_counts_mt`."
   ]
  },
  {
   "cell_type": "code",
   "execution_count": null,
   "id": "f2ed5484-a427-4e75-a0cb-7a5876e28484",
   "metadata": {},
   "outputs": [],
   "source": [
    "matplotlib.pyplot.bar(P_VARIABLES, [sample.uns['cell_count'] for sample in PAIR_SAMPELS],\n",
    "                      color=['blue', 'red', 'green'], alpha=0.5)\n",
    "\n",
    "matplotlib.pyplot.grid(lw=0.4, ls='--', alpha=0.4, axis='y')\n",
    "matplotlib.pyplot.minorticks_on()\n",
    "\n",
    "matplotlib.pyplot.title('Samples')\n",
    "matplotlib.pyplot.xlabel('Samples')\n",
    "matplotlib.pyplot.ylabel('number of cells')\n",
    "\n",
    "for y,x in zip([sample.uns['cell_count'] for sample in PAIR_SAMPELS], P_VARIABLES):\n",
    "    matplotlib.pyplot.text(x, y-500, str(y), ha='center')\n",
    "\n",
    "plt.xticks(rotation=90)"
   ]
  },
  {
   "cell_type": "code",
   "execution_count": null,
   "id": "257c2432-ca20-4d3f-af78-b561a2c648b7",
   "metadata": {},
   "outputs": [],
   "source": [
    "for sample in PAIR_SAMPELS:\n",
    "    build_violin(sample)"
   ]
  },
  {
   "cell_type": "code",
   "execution_count": null,
   "id": "96e707cf-6547-4d0e-adb6-ed9a00b4c859",
   "metadata": {},
   "outputs": [],
   "source": [
    "build_scatter(y='pct_counts_mt', cols=3, ytline_coords=[20], samples=PAIR_SAMPELS[0:3])"
   ]
  },
  {
   "cell_type": "code",
   "execution_count": null,
   "id": "8d69e16c-2347-4390-bc02-854634a15545",
   "metadata": {},
   "outputs": [],
   "source": [
    "build_scatter(y='pct_counts_mt', cols=3, ytline_coords=[20], samples=PAIR_SAMPELS[3:6])"
   ]
  },
  {
   "cell_type": "code",
   "execution_count": null,
   "id": "05809d9e-cb50-40ce-ba5d-3372ef59f212",
   "metadata": {},
   "outputs": [],
   "source": [
    "build_scatter(y='n_genes_by_counts', cols=3, ytline_coords=[6_000, 200], samples=PAIR_SAMPELS[:3])"
   ]
  },
  {
   "cell_type": "code",
   "execution_count": null,
   "id": "300843eb-a641-4c15-93e5-f591ffb81180",
   "metadata": {},
   "outputs": [],
   "source": [
    "build_scatter(y='n_genes_by_counts', cols=3, ytline_coords=[6_000, 200], samples=PAIR_SAMPELS[3:])"
   ]
  },
  {
   "cell_type": "markdown",
   "id": "ed93acf3-82e8-4c60-bc74-1d12c73495e8",
   "metadata": {},
   "source": [
    "### filtering samples"
   ]
  },
  {
   "cell_type": "code",
   "execution_count": null,
   "id": "040cc589-8e9d-44d2-873f-ac40bfeeaf06",
   "metadata": {},
   "outputs": [],
   "source": [
    "for i, sample in enumerate(PAIR_SAMPELS):\n",
    "    \n",
    "    # cells expressing less than 200 and more than 6_000 genes are removed\n",
    "    sc.pp.filter_cells(sample, min_genes=200)\n",
    "    sc.pp.filter_cells(sample, max_genes=6_000)\n",
    "\n",
    "    # cells containing more than 40_000 counts are removed\n",
    "    sc.pp.filter_cells(sample, max_counts=40_000)\n",
    "    \n",
    "    # genes expressed in less than one cell are removed\n",
    "    sc.pp.filter_genes(sample, min_cells=1)\n",
    "    \n",
    "    # filtering cells by mt-content\n",
    "    PAIR_SAMPELS[i] = PAIR_SAMPELS[i][PAIR_SAMPELS[i].obs.pct_counts_mt < 20, :] \n",
    "\n",
    "    # to except mt- genes\n",
    "    PAIR_SAMPELS[i] = PAIR_SAMPELS[i][:, PAIR_SAMPELS[i].var.mt == False]\n",
    "\n",
    "    # genes / celss\n",
    "    PAIR_SAMPELS[i].uns['filtered_cell_count'] = (PAIR_SAMPELS[i].obs).shape[0]\n",
    "    PAIR_SAMPELS[i].uns['filtered_gene_count'] = (PAIR_SAMPELS[i].var).shape[0]"
   ]
  },
  {
   "cell_type": "code",
   "execution_count": null,
   "id": "09595b0a-1f03-4752-8359-a3b382bbd495",
   "metadata": {},
   "outputs": [],
   "source": [
    "matplotlib.pyplot.bar(P_VARIABLES, [sample.uns['filtered_cell_count'] for sample in PAIR_SAMPELS],\n",
    "                      color=['blue', 'red', 'green'], alpha=0.5)\n",
    "\n",
    "matplotlib.pyplot.grid(lw=0.4, ls='--', alpha=0.4, axis='y')\n",
    "matplotlib.pyplot.minorticks_on()\n",
    "\n",
    "matplotlib.pyplot.title('Filtred samples')\n",
    "matplotlib.pyplot.xlabel('Samples')\n",
    "matplotlib.pyplot.ylabel('number of cells')\n",
    "\n",
    "for y,x in zip([sample.uns['filtered_cell_count'] for sample in PAIR_SAMPELS], P_VARIABLES):\n",
    "    matplotlib.pyplot.text(x, y-500, str(y), ha='center')\n",
    "\n",
    "plt.xticks(rotation=90)"
   ]
  },
  {
   "cell_type": "code",
   "execution_count": null,
   "id": "4deee8ea-3b8d-45e5-9d0d-ace87ca95d9c",
   "metadata": {},
   "outputs": [],
   "source": [
    "matplotlib.pyplot.bar(P_VARIABLES, [sample.uns['filtered_gene_count'] for sample in PAIR_SAMPELS],\n",
    "                      color=['blue', 'red', 'green'], alpha=0.5)\n",
    "\n",
    "matplotlib.pyplot.grid(lw=0.4, ls='--', alpha=0.4, axis='y')\n",
    "matplotlib.pyplot.minorticks_on()\n",
    "\n",
    "matplotlib.pyplot.title('Filtred samples')\n",
    "matplotlib.pyplot.xlabel('Samples')\n",
    "matplotlib.pyplot.ylabel('number of genes')\n",
    "\n",
    "for y,x in zip([sample.uns['filtered_gene_count'] for sample in PAIR_SAMPELS], P_VARIABLES):\n",
    "    matplotlib.pyplot.text(x, y-1500, str(y), ha='center')\n",
    "\n",
    "plt.xticks(rotation=90)"
   ]
  },
  {
   "cell_type": "code",
   "execution_count": null,
   "id": "d8d955fc-8da4-45ef-a5c3-704c2ff63f9b",
   "metadata": {},
   "outputs": [],
   "source": [
    "for sample in PAIR_SAMPELS:\n",
    "    build_violin(sample, threshold_line=False)"
   ]
  },
  {
   "cell_type": "code",
   "execution_count": null,
   "id": "30eba64a-18f5-4087-b2d5-ebdba489b901",
   "metadata": {},
   "outputs": [],
   "source": [
    "build_scatter(y='pct_counts_mt', cols=3, ytline_coords=[20], samples=PAIR_SAMPELS[0:3], threshold_line=False)"
   ]
  },
  {
   "cell_type": "code",
   "execution_count": null,
   "id": "cc6f5c15-51bc-4810-9efc-5d66f7943545",
   "metadata": {},
   "outputs": [],
   "source": [
    "build_scatter(y='pct_counts_mt', cols=3, ytline_coords=[20], samples=PAIR_SAMPELS[3:], threshold_line=False)"
   ]
  },
  {
   "cell_type": "code",
   "execution_count": null,
   "id": "ba6e9e95-fc84-407e-8b6f-0edfe06d316d",
   "metadata": {},
   "outputs": [],
   "source": [
    "build_scatter(y='n_genes_by_counts', cols=3, samples=PAIR_SAMPELS[:3], threshold_line=False)"
   ]
  },
  {
   "cell_type": "code",
   "execution_count": null,
   "id": "32d368f0-0e3a-4eea-916c-2be4cdb11b07",
   "metadata": {},
   "outputs": [],
   "source": [
    "build_scatter(y='n_genes_by_counts', cols=3, samples=PAIR_SAMPELS[3:], threshold_line=False)"
   ]
  },
  {
   "cell_type": "markdown",
   "id": "0b320d59-fdbb-4ade-9023-34cffa18c603",
   "metadata": {},
   "source": [
    "## Let's perform preliminary data processing"
   ]
  },
  {
   "cell_type": "markdown",
   "id": "dee100df-1014-4d40-a822-e7d3db9933c4",
   "metadata": {},
   "source": [
    "### Preparing combined data for plot UMAP visualisation"
   ]
  },
  {
   "cell_type": "markdown",
   "id": "14d39ba9-0ab6-411f-aca8-a6442588002b",
   "metadata": {},
   "source": [
    "We want to get a good UMAP visualization, so it is advisable to combine the samples.\n",
    "* We will use `scvi` tool."
   ]
  },
  {
   "cell_type": "code",
   "execution_count": null,
   "id": "651cc939-e8e4-400b-ab4e-a0e9a702c969",
   "metadata": {},
   "outputs": [],
   "source": [
    "PAIR_COMBINED =  PAIR_SAMPELS[0].concatenate(*PAIR_SAMPELS[1:], batch_key=\"Sample\")\n",
    "PAIR_COMBINED"
   ]
  },
  {
   "cell_type": "markdown",
   "id": "327c935f-6a25-44e3-8b7f-a18f7aaaa784",
   "metadata": {},
   "source": [
    "`scvi` needs raw counts, let's save them on the new layer."
   ]
  },
  {
   "cell_type": "code",
   "execution_count": null,
   "id": "5f3e60e4-ed96-4785-b64b-95af49a64649",
   "metadata": {},
   "outputs": [],
   "source": [
    "PAIR_COMBINED.layers['counts'] = PAIR_COMBINED.X.copy()"
   ]
  },
  {
   "cell_type": "markdown",
   "id": "5e1f0306-5a06-4623-aa7f-e4fcf97bdb8f",
   "metadata": {},
   "source": [
    "### normalization, log-transform, scalling and simple annotate the samples"
   ]
  },
  {
   "cell_type": "markdown",
   "id": "a85583f2-95af-453b-9f78-e516d9d88f57",
   "metadata": {},
   "source": [
    "We gonna use celltypist, let's create objects for this."
   ]
  },
  {
   "cell_type": "code",
   "execution_count": null,
   "id": "00ad3279-b4ba-4ee9-bb31-95a629ed4272",
   "metadata": {},
   "outputs": [],
   "source": [
    "PAIR_CELLTYPIST = []\n",
    "for i in range(len(PAIR_SAMPELS)):\n",
    "    PAIR_CELLTYPIST.append(PAIR_SAMPELS[i].copy())"
   ]
  },
  {
   "cell_type": "markdown",
   "id": "5e7c44de-ec7e-4a60-a65f-be18912426b2",
   "metadata": {},
   "source": [
    "Standard data transformation."
   ]
  },
  {
   "cell_type": "code",
   "execution_count": null,
   "id": "fd719772-b2df-402c-a668-267ce3958db4",
   "metadata": {},
   "outputs": [],
   "source": [
    "for i in range(len(PAIR_SAMPELS)):\n",
    "    sc.pp.normalize_total(PAIR_SAMPELS[i], target_sum=1e4)\n",
    "    sc.pp.log1p(PAIR_SAMPELS[i])\n",
    "    sc.pp.scale(PAIR_SAMPELS[i], max_value=10)"
   ]
  },
  {
   "cell_type": "markdown",
   "id": "1229e37f-e6e8-4221-807e-f029f82371b9",
   "metadata": {},
   "source": [
    "#### scVI transformation"
   ]
  },
  {
   "cell_type": "markdown",
   "id": "de50193c-ac3a-47b7-9003-89bc893ef5be",
   "metadata": {},
   "source": [
    "... and for combined object:"
   ]
  },
  {
   "cell_type": "code",
   "execution_count": null,
   "id": "01a1c379-514e-48b1-abc2-4297fd99d441",
   "metadata": {},
   "outputs": [],
   "source": [
    "sc.pp.normalize_total(PAIR_COMBINED, target_sum=1e4)\n",
    "sc.pp.log1p(PAIR_COMBINED)"
   ]
  },
  {
   "cell_type": "code",
   "execution_count": null,
   "id": "665817da-4a4a-403d-8981-f12f71d864ba",
   "metadata": {},
   "outputs": [],
   "source": [
    "scvi.model.SCVI.setup_anndata(PAIR_COMBINED, layer='counts', \n",
    "                             categorical_covariate_keys=['Sample'],\n",
    "                             continuous_covariate_keys=['pct_counts_mt', 'total_counts'])"
   ]
  },
  {
   "cell_type": "code",
   "execution_count": null,
   "id": "f4f5b638-8676-4b64-a688-eb5d6d53a4b6",
   "metadata": {},
   "outputs": [],
   "source": [
    "model = scvi.model.SCVI(PAIR_COMBINED)"
   ]
  },
  {
   "cell_type": "code",
   "execution_count": null,
   "id": "92795674-2f22-44ee-876d-21e3c9ca5822",
   "metadata": {},
   "outputs": [],
   "source": [
    "model.train()"
   ]
  },
  {
   "cell_type": "code",
   "execution_count": null,
   "id": "c9c38d5f-1027-4322-8f73-4e93df916716",
   "metadata": {},
   "outputs": [],
   "source": [
    "latent_PAIR = model.get_latent_representation()"
   ]
  },
  {
   "cell_type": "code",
   "execution_count": null,
   "id": "6f8fd7de-87a4-4af5-bce3-e16361f82349",
   "metadata": {},
   "outputs": [],
   "source": [
    "PAIR_COMBINED.obsm['X_scVI'] = latent_PAIR"
   ]
  },
  {
   "cell_type": "code",
   "execution_count": null,
   "id": "271b8795-4fa2-4d17-b2e6-d2e638718ce2",
   "metadata": {},
   "outputs": [],
   "source": [
    "PAIR_COMBINED.layers['scVI_normalized'] = model.get_normalized_expression(library_size=1e4)"
   ]
  },
  {
   "cell_type": "code",
   "execution_count": null,
   "id": "54021c81-5206-4724-8f97-d47395a72e0d",
   "metadata": {},
   "outputs": [],
   "source": [
    "sc.pp.scale(PAIR_COMBINED, max_value=10)"
   ]
  },
  {
   "cell_type": "code",
   "execution_count": null,
   "id": "eea78659-9400-4608-a8be-d76644c61449",
   "metadata": {},
   "outputs": [],
   "source": [
    "sc.pp.neighbors(PAIR_COMBINED, use_rep='X_scVI', metric='cosine', n_neighbors=18)\n",
    "sc.tl.umap(PAIR_COMBINED, min_dist=0.3)"
   ]
  },
  {
   "cell_type": "code",
   "execution_count": null,
   "id": "ebec9c12-b19d-4129-b1c3-ee5046ad67a3",
   "metadata": {},
   "outputs": [],
   "source": [
    "sc.tl.leiden(PAIR_COMBINED, resolution=0.5)"
   ]
  },
  {
   "cell_type": "markdown",
   "id": "d78d5e8c-9751-44db-a068-0276cbffb5b6",
   "metadata": {},
   "source": [
    "#### To prepare the celltypist annotation"
   ]
  },
  {
   "cell_type": "code",
   "execution_count": null,
   "id": "c3b3ec15-6795-4309-98e3-a6eb841d3074",
   "metadata": {},
   "outputs": [],
   "source": [
    "PAIR_COMBINED_CellTypist = PAIR_COMBINED.copy()\n",
    "PAIR_COMBINED_CellTypist.X = PAIR_COMBINED.layers[\"counts\"]"
   ]
  },
  {
   "cell_type": "code",
   "execution_count": null,
   "id": "cb21949e-f598-49eb-b243-ed345e09b346",
   "metadata": {},
   "outputs": [],
   "source": [
    "sc.pp.normalize_per_cell(PAIR_COMBINED_CellTypist, counts_per_cell_after=1e4)\n",
    "sc.pp.log1p(PAIR_COMBINED_CellTypist)"
   ]
  },
  {
   "cell_type": "code",
   "execution_count": null,
   "id": "c22f3c5d-a29d-4ada-a877-597be5a747cb",
   "metadata": {},
   "outputs": [],
   "source": [
    "predictions = celltypist.annotate(PAIR_COMBINED_CellTypist, model=mmouse, majority_voting=True)\n",
    "predictions_adata = predictions.to_adata()\n",
    "PAIR_COMBINED.obs[\"celltypist_cell_label_coarse\"] = predictions_adata.obs['majority_voting']\n",
    "PAIR_COMBINED.obs[\"celltypist_conf_score_coarse\"] = predictions_adata.obs[\"conf_score\"]"
   ]
  },
  {
   "cell_type": "code",
   "execution_count": null,
   "id": "a7baf8f8-9d7b-4764-999c-7f902bc678d2",
   "metadata": {},
   "outputs": [],
   "source": [
    "import time\n",
    "t0 = time.time()\n",
    "fn = './proc_data/PAIR_COMBINED.h5ad'\n",
    "PAIR_COMBINED.write_h5ad(fn, compression='gzip')\n",
    "print('%.1f seconds passed'%(time.time()-t0))"
   ]
  },
  {
   "cell_type": "code",
   "execution_count": null,
   "id": "90987c7f-f93f-439e-b32e-ffda8e0753c7",
   "metadata": {},
   "outputs": [],
   "source": [
    "del(PAIR_COMBINED_CellTypist)\n",
    "gc.collect()"
   ]
  },
  {
   "cell_type": "code",
   "execution_count": null,
   "id": "908b844f-ab76-441b-81d6-36841ee8323b",
   "metadata": {},
   "outputs": [],
   "source": [
    "del PAIR_COMBINED.layers['counts']\n",
    "gc.collect()"
   ]
  },
  {
   "cell_type": "markdown",
   "id": "8d83d306-40ce-4791-a125-9703faaa1710",
   "metadata": {},
   "source": [
    "# Dimension reduction, clustering and visualization for all samples"
   ]
  },
  {
   "cell_type": "markdown",
   "id": "019ce70b-a65c-49f8-8bb6-83f3045d8aab",
   "metadata": {},
   "source": [
    "Synchronize the colors of different samples groups"
   ]
  },
  {
   "cell_type": "code",
   "execution_count": null,
   "id": "f026961a-e02d-4875-9b69-a39cc210980d",
   "metadata": {},
   "outputs": [],
   "source": [
    "T_CellTypes_pred_set = set(['Ccr7 DC', 'Cd206 Mac', 'CD8+ T cell', 'DC (CD103+ CD11-b)', 'Fibroblast', 'ILC2', 'ILC3', 'Inflammatory Monocytes', 'Ly6c2 Mono', 'Mast cell',\n",
    "           'Monocytes', 'NK cell', 'Naive B cells', 'Neutrophil', 'Plasma cell','Resting CD4+ T cells', 'Stromal cell (DN)', 'capillary Aqp7+', 'eMBC'])\n",
    "\n",
    "WT_CellTypes_pred_set = set(['Cd206 Mac', 'DC', 'DC (CD103+ CD11-b)', 'Fibroblast', 'ILC2', 'ILC3', \n",
    "                        'Inflammatory Monocytes', 'Mast cell', 'NK cell', 'Naive B cells',\n",
    "                        'Neutrophil', 'Plasma cell', 'Resting CD4+ T cells', 'capillary Aqp7+'])\n",
    "\n",
    "PAIR_CellTypes_pred_set = set(['Ccr7 DC', 'Cd206 Mac', 'DC (CD103+ CD11-b)', 'Fibroblast', 'ILC2',\n",
    "                               'ILC3', 'Inflammatory Monocytes', 'Ly6c2 Mono', 'Mast cell',\n",
    "                               'Monocytes', 'NK cell', 'Naive B cells', 'Neutrophil', 'Plasma cell',\n",
    "                               'Resting CD4+ T cells', 'Stromal cell (DN)', 'capillary Aqp7+', 'eMBC',\n",
    "                               'lymphatic'])\n",
    "\n",
    "s = sns.color_palette('tab20').as_hex()\n",
    "s.append('#bdb76b')\n",
    "\n",
    "\n",
    "ALL_CELLS_PRED = (T_CellTypes_pred_set.union(WT_CellTypes_pred_set, PAIR_CellTypes_pred_set))"
   ]
  },
  {
   "cell_type": "code",
   "execution_count": null,
   "id": "7fc993ca-73f6-44da-a923-8af039263138",
   "metadata": {
    "scrolled": true
   },
   "outputs": [],
   "source": [
    "'''\n",
    "a = PAIR_COMBINED.obs.celltypist_cell_label_coarse.value_counts()\n",
    "b = WT_COMBINED.obs.celltypist_cell_label_coarse.value_counts()\n",
    "c = T_COMBINED.obs.celltypist_cell_label_coarse.value_counts()\n",
    "'''"
   ]
  },
  {
   "cell_type": "code",
   "execution_count": null,
   "id": "fdfe9801-4769-4aee-8819-e97babadae79",
   "metadata": {},
   "outputs": [],
   "source": [
    "'''\n",
    "f = pd.concat([a,b,c], axis=1)\n",
    "f = f.sum(axis=1).sort_values(ascending=False)\n",
    "ALL_CELLS_PRED = f\n",
    "ALL_CELLS_PRED\n",
    "'''"
   ]
  },
  {
   "cell_type": "code",
   "execution_count": null,
   "id": "d46ba18b-6e36-4a7a-ba0f-161760dc94e5",
   "metadata": {},
   "outputs": [],
   "source": [
    "#ALL_CELLS_PRED.index"
   ]
  },
  {
   "cell_type": "code",
   "execution_count": null,
   "id": "8f1a8aff-9e5b-4f1f-8f93-028645517a30",
   "metadata": {},
   "outputs": [],
   "source": [
    "ALL_CELLS_PRED = ['Cd206 Mac', 'capillary Aqp7+', 'Inflammatory Monocytes', 'Neutrophil',\n",
    "                'Fibroblast', 'Naive B cells', 'NK cell', 'Ly6c2 Mono',\n",
    "                'DC (CD103+ CD11-b)', 'Resting CD4+ T cells', 'ILC2', 'Monocytes',\n",
    "                'eMBC', 'Mast cell', 'Stromal cell (DN)', 'ILC3', 'DC', 'CD8+ T cell',\n",
    "                'lymphatic', 'Ccr7 DC', 'Plasma cell']\n",
    "    \n",
    "    "
   ]
  },
  {
   "cell_type": "code",
   "execution_count": null,
   "id": "9f6f2949-4dd8-47c3-83b7-e421173537f6",
   "metadata": {},
   "outputs": [],
   "source": [
    "CELL_COLOR_DICT = {cell:hex for cell, hex in zip(ALL_CELLS_PRED, s[0:len(ALL_CELLS_PRED)])}"
   ]
  },
  {
   "cell_type": "code",
   "execution_count": null,
   "id": "c4d302e5-e2fa-4f58-bea0-93a98f34db9d",
   "metadata": {},
   "outputs": [],
   "source": [
    "CELL_COLOR_DICT"
   ]
  },
  {
   "cell_type": "markdown",
   "id": "83093da0-fe43-4278-992b-dff83481307a",
   "metadata": {},
   "source": [
    "## WT"
   ]
  },
  {
   "cell_type": "code",
   "execution_count": null,
   "id": "8a8382b0-857c-46e0-ae2c-fe5fe18e57ae",
   "metadata": {},
   "outputs": [],
   "source": [
    "WT_COMBINED = sc.read_h5ad('./proc_data/WT_COMBINED.h5ad')"
   ]
  },
  {
   "cell_type": "code",
   "execution_count": null,
   "id": "ffc25ade-cd87-4643-bea5-91854816eb10",
   "metadata": {},
   "outputs": [],
   "source": [
    "'''\n",
    "sc.pp.neighbors(WT_COMBINED, metric='cosine', n_neighbors=18, use_rep='X_scVI')\n",
    "sc.tl.umap(WT_COMBINED, min_dist=0.3)\n",
    "'''"
   ]
  },
  {
   "cell_type": "code",
   "execution_count": null,
   "id": "f2e76f00-30b8-40c5-be90-a8b6c5a7e29c",
   "metadata": {},
   "outputs": [],
   "source": [
    "new_colors=[]\n",
    "for key in WT_COMBINED.obs.celltypist_cell_label_coarse.cat.categories:\n",
    "    new_colors.append(CELL_COLOR_DICT[key])\n",
    "    \n",
    "WT_COMBINED.uns['celltypist_cell_label_coarse_colors']=new_colors"
   ]
  },
  {
   "cell_type": "markdown",
   "id": "f2a752f2-417b-4e45-8231-54772b93a7c1",
   "metadata": {},
   "source": [
    "#### Visualization of a single samples (hide)"
   ]
  },
  {
   "cell_type": "markdown",
   "id": "96326f17-4233-4690-8d28-3dcc9f841b6e",
   "metadata": {},
   "source": [
    "If you do not combine the samples, the UMAPs will turn out to be too different and it will be difficult to perceive them."
   ]
  },
  {
   "cell_type": "code",
   "execution_count": null,
   "id": "c1a6c02b-9a44-481a-aa9b-c7ca86722a6b",
   "metadata": {},
   "outputs": [],
   "source": [
    "for i in range(len(WT_SAMPELS)):\n",
    "    \n",
    "    sc.tl.pca(WT_SAMPELS[i], n_comps=40, random_state=110701)\n",
    "    sc.pp.neighbors(WT_SAMPELS[i], metric='cosine', n_pcs=40, random_state=110701, n_neighbors=18)\n",
    "    sc.tl.umap(WT_SAMPELS[i], min_dist=0.5, random_state=110701)\n",
    "    \n",
    "    sc.pl.umap(\n",
    "    WT_SAMPELS[i],\n",
    "    color=[\"celltypist_cell_label_coarse\", names_dict['Zbp1']],\n",
    "    size=20,\n",
    "    frameon=False,\n",
    "    sort_order=False,\n",
    "    wspace=1)"
   ]
  },
  {
   "cell_type": "markdown",
   "id": "14f8f465-6ff8-4f9c-828f-768a753cd0e2",
   "metadata": {},
   "source": [
    "#### custom cmap"
   ]
  },
  {
   "cell_type": "code",
   "execution_count": null,
   "id": "8874aab1-2b06-4c87-9854-021dae13f4c7",
   "metadata": {},
   "outputs": [],
   "source": [
    "pink = np.array([248/256, 24/256, 148/256, 1])\n",
    "hex_pallete2 = sns.light_palette('red', as_cmap=True).\n",
    "hex_pallete2"
   ]
  },
  {
   "cell_type": "code",
   "execution_count": null,
   "id": "5eff8c56-5ae5-43c6-8536-21673467c3bd",
   "metadata": {},
   "outputs": [],
   "source": [
    "from matplotlib.colors import LinearSegmentedColormap\n",
    "\n",
    "cm = LinearSegmentedColormap.from_list(\n",
    "        'SeuratLike', \n",
    "        [*[(0.83, 0.83, 0.83, 0.5) for i in range(0,5)],\n",
    "         *[(1, 0.75, 0.75, 0.6) for i in range(0,33)],\n",
    "         *[(1, 0.6, 0.6, 0.7) for i in range(0,38)],\n",
    "         *[(1, 0.4, 0.4, 0.7) for i in range(0,38)],\n",
    "         *[(1, 0.3, 0.3, 0.8) for i in range(0,38)],\n",
    "         *[(1, 0.2, 0.2, 0.8) for i in range(0,38)],\n",
    "         *[(1, 0.15, 0.15, 0.9) for i in range(0,38)],\n",
    "         *[(0.55, 0, 0, 1) for i in range(0,19)]],\n",
    "        N = 25)\n",
    "#*[(1, 0, 0, 1) for i in range(0,250)]], \n",
    "cm"
   ]
  },
  {
   "cell_type": "code",
   "execution_count": null,
   "id": "efc93232-5494-41b4-988c-5091fbfc794f",
   "metadata": {},
   "outputs": [],
   "source": [
    "from matplotlib.colors import LinearSegmentedColormap\n",
    "\n",
    "cm = LinearSegmentedColormap.from_list(\n",
    "        'SeuratLike', \n",
    "        [(0.83, 0.83, 0.83, 0.5),\n",
    "         (1, 0.75, 0.75, 0.6),\n",
    "         (1, 0.6, 0.6, 0.7),\n",
    "         (1, 0.4, 0.4, 0.7),\n",
    "         (1, 0.3, 0.3, 0.8),\n",
    "         (1, 0.2, 0.2, 0.8),\n",
    "         (1, 0.15, 0.15, 0.9),\n",
    "         (0.55, 0, 0, 1)],\n",
    "        N = 7)\n",
    "#*[(1, 0, 0, 1) for i in range(0,250)]], \n",
    "cm"
   ]
  },
  {
   "cell_type": "code",
   "execution_count": null,
   "id": "6fe56671-0799-41ef-a12d-4ea5ffc8943c",
   "metadata": {},
   "outputs": [],
   "source": []
  },
  {
   "cell_type": "code",
   "execution_count": null,
   "id": "5c27c34d-2b54-45d1-8f13-577713600faf",
   "metadata": {},
   "outputs": [],
   "source": [
    "hex_pallete = sns.light_palette('red').as_hex()\n",
    "hex_pallete[0] = \"#A5A5A5\"\n",
    "hex_pallete[-1] = \"#8B0000\""
   ]
  },
  {
   "cell_type": "code",
   "execution_count": null,
   "id": "717fe797-6c84-4f34-b96a-9cad50a31817",
   "metadata": {},
   "outputs": [],
   "source": [
    "sns.color_palette(hex_pallete, as_cmap=True)"
   ]
  },
  {
   "cell_type": "code",
   "execution_count": null,
   "id": "739440f7-bcd8-4b4f-89c9-8066248ebc27",
   "metadata": {},
   "outputs": [],
   "source": [
    "sns.blend_palette(['#A5A5A5','red'], n_colors=6)"
   ]
  },
  {
   "cell_type": "code",
   "execution_count": null,
   "id": "f8f2547d-72f4-4c46-b5c2-8a37de115267",
   "metadata": {},
   "outputs": [],
   "source": [
    "sns.blend_palette(['#A5A5A5','#8B0000'])"
   ]
  },
  {
   "cell_type": "code",
   "execution_count": null,
   "id": "711c12e4-cac9-4ac8-b25d-49e3b7796a1b",
   "metadata": {},
   "outputs": [],
   "source": [
    "sns.color_palette(hex_pallete)"
   ]
  },
  {
   "cell_type": "code",
   "execution_count": null,
   "id": "babdd204-7781-4b1f-8d88-b9a6edf8ebec",
   "metadata": {},
   "outputs": [],
   "source": [
    "sc.pl.umap(WT_COMBINED[WT_COMBINED.obs.Sample == '2'],\n",
    "           color=[names_dict['Zbp1']], title='',\n",
    "           frameon=False, size=30, cmap=cm, vmin=0, vmax=6.8, show=False)"
   ]
  },
  {
   "cell_type": "code",
   "execution_count": null,
   "id": "d82f8428-6b0c-4089-b157-109ea8e47a08",
   "metadata": {},
   "outputs": [],
   "source": [
    "sc.pl.umap(WT_COMBINED[WT_COMBINED.obs.Sample == '2'],\n",
    "           color=[names_dict['Zbp1']], title='',\n",
    "           frameon=False, size=30, cmap=sns.blend_palette(['#d3d3d3','red'], as_cmap=True),vmin=0, vmax=6.8, show=False)"
   ]
  },
  {
   "cell_type": "code",
   "execution_count": null,
   "id": "70c0de72-f46e-424e-9bfe-8589f6478df5",
   "metadata": {},
   "outputs": [],
   "source": [
    "sc.pl.umap(WT_COMBINED[WT_COMBINED.obs.Sample == '2'],\n",
    "           color=[names_dict['Zbp1']], title='',\n",
    "           frameon=False, size=30, cmap=sns.blend_palette(['#d3d3d3','red'], as_cmap=True),vmin=0, vmax=6.8, show=False)"
   ]
  },
  {
   "cell_type": "markdown",
   "id": "f13259c5-b128-4efe-8f12-4a4a73014a7f",
   "metadata": {},
   "source": [
    "#### WT-SAMPLES UMAPs: results"
   ]
  },
  {
   "cell_type": "code",
   "execution_count": null,
   "id": "69e7cfe2-8fd5-46fb-8e28-b2bf3f5c3e0b",
   "metadata": {},
   "outputs": [],
   "source": [
    "fig, axes = plt.subplots(1,2,figsize=(20,10))\n",
    "plt.subplots_adjust(wspace=0)\n",
    "\n",
    "sc.pl.umap(WT_COMBINED, color=[\"celltypist_cell_label_coarse\"], ax=axes[1],\n",
    "           show=False, size=12, frameon=False)\n",
    "\n",
    "axes[1].set_title('Aggregated datasets:\\nCelltypist automatic annotation', fontsize=14)\n",
    "\n",
    "sc.pl.umap(WT_COMBINED, color=[\"celltypist_conf_score_coarse\"], ax=axes[0],\n",
    "           size=12, frameon=False) \n",
    "\n",
    "axes[0].set_title('Aggregated datasets:\\nCelltypist confidence score', fontsize=14)\n",
    "fig.savefig('WT_agg.pdf', format='pdf', bbox_inches='tight')"
   ]
  },
  {
   "cell_type": "code",
   "execution_count": null,
   "id": "af362019-d848-40ca-b5f8-ca6ab28a8605",
   "metadata": {},
   "outputs": [],
   "source": [
    "# 30 30\n",
    "# axes[ctype][1].legend_.set_bbox_to_anchor((x,y))\n",
    "\n",
    "fig, axes = plot_custom_UMAP(anndata=WT_COMBINED, samples=[0,1,2,3],\n",
    "                 ylabsize=10, xlabsize=10, figsize=(10, 10),\n",
    "                 size=10, vmax=10, titlesize=10,\n",
    "                 annatation_cols=5, an_x=4.5, an_y=1.6,\n",
    "                 ann_fontsize=10, marker_size=10,\n",
    "                 \n",
    "                 ylab = ['Cell Types',\n",
    "                         f'Zbp1\\n({names_dict[\"Zbp1\"]})',\n",
    "                         f'Ripk3\\n({names_dict[\"Ripk3\"]})',\n",
    "                         f'Mlkl\\n({names_dict[\"Mlkl\"]})'],\n",
    "\n",
    "                 title =[WT_METADATA[0]['sample_name'],\n",
    "                         WT_METADATA[1]['sample_name'],\n",
    "                         WT_METADATA[2]['sample_name'],\n",
    "                         WT_METADATA[3]['sample_name']],\n",
    "                 \n",
    "                 xlab = [f\"{WT_METADATA[0]['filtered_cell_count']} cells\",\n",
    "                         f\"{WT_METADATA[1]['filtered_cell_count']} cells\",\n",
    "                         f\"{WT_METADATA[2]['filtered_cell_count']} cells\",\n",
    "                         f\"{WT_METADATA[3]['filtered_cell_count']} cells\"],\n",
    "                 \n",
    "                 color=['celltypist_cell_label_coarse',\n",
    "                       'Zbp1', 'Ripk3', 'Mlkl'])\n",
    "\n",
    "fig.savefig('WT_Zbp1_Ripk3_Mlkl.pdf', format='pdf')"
   ]
  },
  {
   "cell_type": "code",
   "execution_count": null,
   "id": "411b760b-3ce5-44da-9b79-3eb5aa74585e",
   "metadata": {},
   "outputs": [],
   "source": [
    "del WT_COMBINED\n",
    "gc.collect()"
   ]
  },
  {
   "cell_type": "markdown",
   "id": "20f6a518-88a9-430c-af46-10e0ed9b006a",
   "metadata": {
    "jp-MarkdownHeadingCollapsed": true
   },
   "source": [
    "---------------"
   ]
  },
  {
   "cell_type": "markdown",
   "id": "a41e5d27-3f8d-4339-8650-6f410038602a",
   "metadata": {},
   "source": [
    "## Trem2 (-/-)"
   ]
  },
  {
   "cell_type": "code",
   "execution_count": null,
   "id": "0d6aa90f-dba8-4ecd-98a7-613b8f9de812",
   "metadata": {},
   "outputs": [],
   "source": [
    "new_colors=[]\n",
    "for key in T_COMBINED.obs.celltypist_cell_label_coarse.cat.categories:\n",
    "    new_colors.append(CELL_COLOR_DICT[key])\n",
    "T_COMBINED.uns['celltypist_cell_label_coarse_colors']=new_colors"
   ]
  },
  {
   "cell_type": "code",
   "execution_count": null,
   "id": "b7bd9624-d9c7-4f03-a5a3-a4e2b900fd03",
   "metadata": {},
   "outputs": [],
   "source": [
    "fig, axes = plt.subplots(1,2,figsize=(20,10))\n",
    "plt.subplots_adjust(wspace=0)\n",
    "\n",
    "sc.pl.umap(T_COMBINED, color=[\"celltypist_cell_label_coarse\"], ax=axes[1],\n",
    "           show=False, size=12, frameon=False)\n",
    "\n",
    "axes[1].set_title('Aggregated datasets Trem2 -/-:\\nCelltypist automatic annotation', fontsize=14)\n",
    "\n",
    "sc.pl.umap(T_COMBINED, color=[\"celltypist_conf_score_coarse\"], ax=axes[0],\n",
    "           size=12, frameon=False) \n",
    "\n",
    "axes[0].set_title('Aggregated datasets Trem2 -/-:\\nCelltypist confidence score', fontsize=14)\n",
    "fig.savefig('T_agg.pdf', format='pdf', bbox_inches='tight')"
   ]
  },
  {
   "cell_type": "code",
   "execution_count": null,
   "id": "e94dc7b6-0069-4cb3-ab88-ef3612a09c46",
   "metadata": {},
   "outputs": [],
   "source": [
    "fig, axes = plt.subplots(2, 3, figsize=(30,15), layout=None)\n",
    "plt.subplots_adjust(wspace=0) # расстояние между осями\n",
    "\n",
    "ctype=0\n",
    "zbp1=1\n",
    "vmax=6.5\n",
    "\n",
    "cmap='rocket_r' #Reds\n",
    "\n",
    "s = 30\n",
    "\n",
    "x = 2\n",
    "y = 1.3\n",
    "\n",
    "sc.pl.umap(T_COMBINED[T_COMBINED.obs.Sample == '0'],\n",
    "           color=[names_dict['Zbp1']], cmap=cmap,\n",
    "           frameon=False, size=s, title='', vmax=vmax,\n",
    "           ax=axes[zbp1][0], show=False)\n",
    "\n",
    "\n",
    "\"<AXES>\"\n",
    "axes[zbp1][0].axis('on')\n",
    "axes[zbp1][0].tick_params(top='off', bottom='off', left='off', right='off',\n",
    "               labelleft='on', labelbottom='off')\n",
    "\n",
    "axes[zbp1][0].set_ylabel('Zbp1 (ENSMUSG00000027514)', rotation=90, fontsize=20)\n",
    "axes[zbp1][0].set_xlabel('')\n",
    "axes[zbp1][0].set(frame_on=False)\n",
    "\"<\\AXES>\"\n",
    "\n",
    "\n",
    "sc.pl.umap(T_COMBINED[T_COMBINED.obs.Sample == '0'],\n",
    "           color=['celltypist_cell_label_coarse'],\n",
    "           frameon=False, size=s,\n",
    "           ax=axes[ctype][0], show=False, legend_loc=None)\n",
    "\n",
    "\"<AXES>\"\n",
    "axes[ctype][0].axis('on')\n",
    "axes[ctype][0].tick_params(top='off', bottom='off', left='off', right='off',\n",
    "               labelleft='on', labelbottom='off')\n",
    "\n",
    "axes[ctype][0].set_ylabel('')\n",
    "axes[ctype][0].set_xlabel(f'{T_SAMPELS[0].uns[\"filtered_cell_count\"]} cells', fontsize=14)\n",
    "axes[ctype][0].set(frame_on=False)\n",
    "\"<\\AXES>\"\n",
    "\n",
    "\n",
    "\"<TITLE>\"\n",
    "axes[ctype][0].set_title(f\"{T_SS.uns['sample_name']}\", fontsize = 20)\n",
    "\"<\\TITLE>\"\n",
    "\n",
    "####################################################\n",
    "\n",
    "sc.pl.umap(T_COMBINED[T_COMBINED.obs.Sample == '1'],\n",
    "           color=[names_dict['Zbp1']], title='',\n",
    "           frameon=False, size=s, cmap=cmap, vmax=vmax,\n",
    "          ax=axes[zbp1][1], show=False)\n",
    "\n",
    "sc.pl.umap(T_COMBINED[T_COMBINED.obs.Sample == '1'],\n",
    "           color=['celltypist_cell_label_coarse'],\n",
    "           frameon=False, size=s, cmap=cmap,\n",
    "          ax=axes[ctype][1], show=False)\n",
    "\n",
    "\"<TITLE>\"\n",
    "axes[ctype][1].set_title(f\"{T_3DL.uns['sample_name']}\", fontsize = 20)\n",
    "\"<\\TITLE>\"\n",
    "\n",
    "setup_ax(axes[ctype][1], T_COMBINED, cols=9)\n",
    "axes[ctype][1].legend_.set_bbox_to_anchor((x,y))\n",
    "\n",
    "\"<AXES>\"\n",
    "axes[ctype][1].axis('on')\n",
    "axes[ctype][1].tick_params(top='off', bottom='off', left='off', right='off',\n",
    "               labelleft='on', labelbottom='off')\n",
    "\n",
    "axes[ctype][1].set_ylabel('')\n",
    "axes[ctype][1].set_xlabel(f'{T_SAMPELS[1].uns[\"filtered_cell_count\"]} cells', fontsize=14)\n",
    "axes[ctype][1].set(frame_on=False)\n",
    "\"<\\AXES>\"\n",
    "\n",
    "####################################################\n",
    "\n",
    "sc.pl.umap(T_COMBINED[T_COMBINED.obs.Sample == '2'],\n",
    "           color=[names_dict['Zbp1']], title='',\n",
    "           frameon=False, size=s, cmap=cmap, vmax=vmax,\n",
    "          ax=axes[zbp1][2], show=False)\n",
    "\n",
    "sc.pl.umap(T_COMBINED[T_COMBINED.obs.Sample == '2'],\n",
    "           color=['celltypist_cell_label_coarse'],\n",
    "           frameon=False, size=s,\n",
    "          ax=axes[ctype][2], show=False, legend_loc=None)\n",
    "\n",
    "\"<TITLE>\"\n",
    "axes[ctype][2].set_title(f\"{T_7DL.uns['sample_name']}\", fontsize = 20)\n",
    "\"<\\TITLE>\"\n",
    "\n",
    "\"<AXES>\"\n",
    "axes[ctype][2].axis('on')\n",
    "axes[ctype][2].tick_params(top='off', bottom='off', left='off', right='off',\n",
    "               labelleft='on', labelbottom='off')\n",
    "\n",
    "axes[ctype][2].set_ylabel('')\n",
    "axes[ctype][2].set_xlabel(f'{T_SAMPELS[2].uns[\"filtered_cell_count\"]} cells', fontsize=14)\n",
    "axes[ctype][2].set(frame_on=False)\n",
    "\"<\\AXES>\"\n",
    "\n",
    "fig.savefig('T.pdf', format='pdf')"
   ]
  },
  {
   "cell_type": "markdown",
   "id": "3589565b-4227-438d-b230-e69756559a10",
   "metadata": {},
   "source": [
    "## PAIR: KO & WT_LC"
   ]
  },
  {
   "cell_type": "code",
   "execution_count": null,
   "id": "88263b41-55da-4518-ba7f-69d50c95cac4",
   "metadata": {
    "scrolled": true
   },
   "outputs": [],
   "source": [
    "PAIR_COMBINED = sc.read_h5ad('./proc_data/PAIR_COMBINED.h5ad')"
   ]
  },
  {
   "cell_type": "code",
   "execution_count": null,
   "id": "abb122ae-aff3-4dcd-bba9-ce1ebc0c7948",
   "metadata": {},
   "outputs": [],
   "source": [
    "new_colors=[]\n",
    "\n",
    "for key in PAIR_COMBINED.obs.celltypist_cell_label_coarse.cat.categories:\n",
    "    new_colors.append(CELL_COLOR_DICT[key])\n",
    "\n",
    "PAIR_COMBINED.uns['celltypist_cell_label_coarse_colors']=new_colors"
   ]
  },
  {
   "cell_type": "code",
   "execution_count": null,
   "id": "c99c4cc2-7b3f-4f52-8430-2fde9e0844d6",
   "metadata": {},
   "outputs": [],
   "source": [
    "fig, axes = plt.subplots(1,2,figsize=(20,10))\n",
    "plt.subplots_adjust(wspace=0)\n",
    "\n",
    "sc.pl.umap(PAIR_COMBINED, color=[\"celltypist_cell_label_coarse\"], ax=axes[1],\n",
    "           show=False, size=12, frameon=False)\n",
    "\n",
    "axes[1].set_title('Aggregated datasets Trem2 KO & WT littermate control:\\nCelltypist automatic annotation', fontsize=14)\n",
    "\n",
    "sc.pl.umap(PAIR_COMBINED, color=[\"celltypist_conf_score_coarse\"], ax=axes[0],\n",
    "           size=12, frameon=False) \n",
    "\n",
    "axes[0].set_title('Aggregated datasets Trem2 KO & WT littermate control:\\nCelltypist confidence score', fontsize=14)\n",
    "fig.savefig('PAIR_agg.pdf', format='pdf', bbox_inches='tight')"
   ]
  },
  {
   "cell_type": "markdown",
   "id": "114db04b-157a-42cb-b133-047c1c0ee2c2",
   "metadata": {},
   "source": [
    "#### ZBP1-dep necroptosis"
   ]
  },
  {
   "cell_type": "code",
   "execution_count": null,
   "id": "1fc9116c-2cd8-4131-9c5c-f58e2bb2b8fe",
   "metadata": {},
   "outputs": [],
   "source": [
    "fig, axes, labels = plot_custom_UMAP(anndata=PAIR_COMBINED, samples=[0,1,2,3,4,5],\n",
    "                    ylabsize=14, xlabsize=11, figsize=(15, 10), add_numbers=True,\n",
    "                    size=10, vmax=10, titlesize=12, ncols=6,\n",
    "                    annatation_cols=5, an_x=6, an_y=1.8, loc_legend='right margin',\n",
    "                    ann_fontsize=10, marker_size=10,\n",
    "                 \n",
    "                    ylab = ['Cell Types',\n",
    "                            f'Zbp1',\n",
    "                            f'Ripk3',\n",
    "                            f'Mlkl'],\n",
    "\n",
    "                    title =[PAIR_METADATA[0]['sample_name'],\n",
    "                         PAIR_METADATA[1]['sample_name'],\n",
    "                         PAIR_METADATA[2]['sample_name'],\n",
    "                         PAIR_METADATA[3]['sample_name'],\n",
    "                         PAIR_METADATA[4]['sample_name'],\n",
    "                         PAIR_METADATA[5]['sample_name']],\n",
    "                 \n",
    "                    xlab = [f\"{PAIR_METADATA[0]['filtered_cell_count']} cells\",\n",
    "                         f\"{PAIR_METADATA[1]['filtered_cell_count']} cells\",\n",
    "                         f\"{PAIR_METADATA[2]['filtered_cell_count']} cells\",\n",
    "                         f\"{PAIR_METADATA[3]['filtered_cell_count']} cells\",\n",
    "                         f\"{PAIR_METADATA[4]['filtered_cell_count']} cells\",\n",
    "                         f\"{PAIR_METADATA[5]['filtered_cell_count']} cells\"],\n",
    "                 \n",
    "                    color=['celltypist_cell_label_coarse',\n",
    "                       'Zbp1', 'Ripk3', 'Mlkl'])\n",
    "\n",
    "\n",
    "# add numbers on picture\n",
    "\n",
    "for legend_txt in labels:\n",
    "    label = legend_txt.split(':')[0].rstrip()[1:]\n",
    "    type = legend_txt.split(':')[1].rstrip().lstrip()\n",
    "\n",
    "    # for automaticaly labeling\n",
    "    location_cells = PAIR_COMBINED[PAIR_COMBINED.obs.celltypist_cell_label_coarse == type, :].obsm[\"X_umap\"]\n",
    "    x = location_cells[:, 0].mean()\n",
    "    y = location_cells[:, 1].mean()\n",
    "\n",
    "    # for manual labeling\n",
    "    if label == '11':\n",
    "        add_x = -1.5\n",
    "        add_y = 0.8\n",
    "    elif label == '18':\n",
    "        add_y = -1\n",
    "    elif label == '14':\n",
    "        add_y = 3.4\n",
    "        add_x = -1.2\n",
    "    elif label == '15':\n",
    "        add_y = -0.5\n",
    "        add_x = -1.2\n",
    "    elif label == '9':\n",
    "        add_y = -3.5\n",
    "        add_x = -1.2\n",
    "    elif label == '6':\n",
    "        add_y = -1\n",
    "    else:\n",
    "        add_x, add_y = 0, 0\n",
    "    axes[0][5].text(x + add_x, y + add_y, label, size=8, fontweight='bold')\n",
    "    axes[0][2].text(x + add_x, y + add_y, label, size=8, fontweight='bold')\n",
    "\n",
    "for i in range(len(axes)):\n",
    "    axes[i][3].plot([axes[i][3].get_xlim()[0],\n",
    "                     axes[i][3].get_xlim()[0]],\n",
    "                    [axes[i][3].get_ylim()[0],\n",
    "                     axes[i][3].get_ylim()[1]],\n",
    "                     color='black', ls='--',\n",
    "                     lw=1, alpha = 0.5)\n",
    "\n",
    "\n",
    "fig.savefig('./report_TREM2_KO_dataset/Zbp1-dep.pdf', bbox_inches='tight', format='pdf')\n",
    "fig.savefig('./tmp/Zbp1-dep.png', bbox_inches='tight', format='png')\n",
    "display(Image('./tmp/Zbp1-dep.png'))"
   ]
  },
  {
   "cell_type": "markdown",
   "id": "4195885f-bc69-4f9f-afce-bf4390b6e46b",
   "metadata": {},
   "source": [
    "#### external apoptosis"
   ]
  },
  {
   "cell_type": "code",
   "execution_count": null,
   "id": "bf931bc0-790f-4604-a930-11e15624eb57",
   "metadata": {},
   "outputs": [],
   "source": [
    "fig, axes, labels = plot_custom_UMAP(anndata=PAIR_COMBINED, samples=[0,1,2,3,4,5],\n",
    "                 ylabsize=14, xlabsize=11, figsize=(15, 20), \n",
    "                 add_numbers=True, loc_legend='right margin',\n",
    "                 size=10, vmax=10, titlesize=12, ncols=6, nrows=8,\n",
    "                 annatation_cols=1, an_x=7.6, an_y=1.35,\n",
    "                 ann_fontsize=10, marker_size=10, \n",
    "                 \n",
    "                 ylab = ['Cell Types',\n",
    "                         f'Irak3',\n",
    "                         f'Pik3r5',\n",
    "                         f'Fas',\n",
    "                         f'Fadd',\n",
    "                         f'Casp8',\n",
    "                         f'Diablo',\n",
    "                         f'Tradd'\n",
    "                        ],\n",
    "\n",
    "                 title =[PAIR_METADATA[0]['sample_name'],\n",
    "                         PAIR_METADATA[1]['sample_name'],\n",
    "                         PAIR_METADATA[2]['sample_name'],\n",
    "                         PAIR_METADATA[3]['sample_name'],\n",
    "                         PAIR_METADATA[4]['sample_name'],\n",
    "                         PAIR_METADATA[5]['sample_name']],\n",
    "                 \n",
    "                 xlab = [f\"{PAIR_METADATA[0]['filtered_cell_count']} cells\",\n",
    "                         f\"{PAIR_METADATA[1]['filtered_cell_count']} cells\",\n",
    "                         f\"{PAIR_METADATA[2]['filtered_cell_count']} cells\",\n",
    "                         f\"{PAIR_METADATA[3]['filtered_cell_count']} cells\",\n",
    "                         f\"{PAIR_METADATA[4]['filtered_cell_count']} cells\",\n",
    "                         f\"{PAIR_METADATA[5]['filtered_cell_count']} cells\"],\n",
    "                 \n",
    "                 color=['celltypist_cell_label_coarse',\n",
    "                        'Irak3', 'Pik3r5', 'Fas', 'Fadd',\n",
    "                        'Casp8', 'Diablo', 'Tradd'])\n",
    "\n",
    "# add numbers on picture\n",
    "\n",
    "for legend_txt in labels:\n",
    "    label = legend_txt.split(':')[0].rstrip()[1:]\n",
    "    type = legend_txt.split(':')[1].rstrip().lstrip()\n",
    "\n",
    "    # for automaticaly labeling\n",
    "    location_cells = PAIR_COMBINED[PAIR_COMBINED.obs.celltypist_cell_label_coarse == type, :].obsm[\"X_umap\"]\n",
    "    x = location_cells[:, 0].mean()\n",
    "    y = location_cells[:, 1].mean()\n",
    "\n",
    "    # for manual labeling\n",
    "    if label == '11':\n",
    "        add_x = -1.5\n",
    "        add_y = 0.8\n",
    "    elif label == '18':\n",
    "        add_y = -1\n",
    "    elif label == '14':\n",
    "        add_y = 3.4\n",
    "        add_x = -1.2\n",
    "    elif label == '15':\n",
    "        add_y = -0.5\n",
    "        add_x = -1.2\n",
    "    elif label == '9':\n",
    "        add_y = -3.5\n",
    "        add_x = -1.2\n",
    "    elif label == '6':\n",
    "        add_y = -1\n",
    "    else:\n",
    "        add_x, add_y = 0, 0\n",
    "    axes[0][5].text(x + add_x, y + add_y, label, size=8, fontweight='bold')\n",
    "    axes[0][2].text(x + add_x, y + add_y, label, size=8, fontweight='bold')\n",
    "\n",
    "for i in range(len(axes)):\n",
    "    axes[i][3].plot([axes[i][3].get_xlim()[0],\n",
    "                     axes[i][3].get_xlim()[0]],\n",
    "                    [axes[i][3].get_ylim()[0],\n",
    "                     axes[i][3].get_ylim()[1]],\n",
    "                     color='black', ls='--',\n",
    "                     lw=1, alpha = 0.5)\n",
    "\n",
    "\n",
    "fig.savefig('./report_TREM2_KO_dataset/external_apoptosis.pdf', bbox_inches='tight', format='pdf')\n",
    "fig.savefig('./tmp/external_apoptosis.png', bbox_inches='tight', format='png')\n",
    "display(Image('./tmp/external_apoptosis.png'))"
   ]
  },
  {
   "cell_type": "markdown",
   "id": "1a9c600b-e176-46f4-aaaf-4b040ffdb7f4",
   "metadata": {},
   "source": [
    "#### anti-apoptocit factors (extrinsic)"
   ]
  },
  {
   "cell_type": "code",
   "execution_count": null,
   "id": "01e143c3-9ec5-4dbb-a8f8-c5614a04a806",
   "metadata": {
    "scrolled": true
   },
   "outputs": [],
   "source": [
    "fig, axes, labels = plot_custom_UMAP(anndata=PAIR_COMBINED, samples=[0,1,2,3,4,5],\n",
    "                 ylabsize=14, xlabsize=11, figsize=(15, 15), \n",
    "                 add_numbers=True,  loc_legend='right margin',\n",
    "                 size=10, vmax=10, titlesize=12, ncols=6, nrows=5,\n",
    "                 annatation_cols=1, an_x=7.5, an_y=1.3,\n",
    "                 ann_fontsize=10, marker_size=10, \n",
    "                 \n",
    "                 ylab = ['Cell Types',\n",
    "                         f'Xiap',\n",
    "                         f'Cflar',\n",
    "                         f'Birc2',\n",
    "                         f'Birc3'],\n",
    "\n",
    "                 title =[PAIR_METADATA[0]['sample_name'],\n",
    "                         PAIR_METADATA[1]['sample_name'],\n",
    "                         PAIR_METADATA[2]['sample_name'],\n",
    "                         PAIR_METADATA[3]['sample_name'],\n",
    "                         PAIR_METADATA[4]['sample_name'],\n",
    "                         PAIR_METADATA[5]['sample_name']],\n",
    "                 \n",
    "                 xlab = [f\"{PAIR_METADATA[0]['filtered_cell_count']} cells\",\n",
    "                         f\"{PAIR_METADATA[1]['filtered_cell_count']} cells\",\n",
    "                         f\"{PAIR_METADATA[2]['filtered_cell_count']} cells\",\n",
    "                         f\"{PAIR_METADATA[3]['filtered_cell_count']} cells\",\n",
    "                         f\"{PAIR_METADATA[4]['filtered_cell_count']} cells\",\n",
    "                         f\"{PAIR_METADATA[5]['filtered_cell_count']} cells\"],\n",
    "                 \n",
    "                 color=['celltypist_cell_label_coarse',\n",
    "                        'Xiap', 'Cflar', 'Birc2', 'Birc3'])\n",
    "\n",
    "# add numbers on picture\n",
    "\n",
    "for legend_txt in labels:\n",
    "    label = legend_txt.split(':')[0].rstrip()[1:]\n",
    "    type = legend_txt.split(':')[1].rstrip().lstrip()\n",
    "\n",
    "    # for automaticaly labeling\n",
    "    location_cells = PAIR_COMBINED[PAIR_COMBINED.obs.celltypist_cell_label_coarse == type, :].obsm[\"X_umap\"]\n",
    "    x = location_cells[:, 0].mean()\n",
    "    y = location_cells[:, 1].mean()\n",
    "\n",
    "    # for manual labeling\n",
    "    if label == '11':\n",
    "        add_x = -1.5\n",
    "        add_y = 0.8\n",
    "    elif label == '18':\n",
    "        add_y = -1\n",
    "    elif label == '14':\n",
    "        add_y = 3.4\n",
    "        add_x = -1.2\n",
    "    elif label == '15':\n",
    "        add_y = -0.5\n",
    "        add_x = -1.2\n",
    "    elif label == '9':\n",
    "        add_y = -3.5\n",
    "        add_x = -1.2\n",
    "    elif label == '6':\n",
    "        add_y = -1\n",
    "    else:\n",
    "        add_x, add_y = 0, 0\n",
    "    axes[0][5].text(x + add_x, y + add_y, label, size=8, fontweight='bold')\n",
    "    axes[0][2].text(x + add_x, y + add_y, label, size=8, fontweight='bold')\n",
    "\n",
    "for i in range(len(axes)):\n",
    "    axes[i][3].plot([axes[i][3].get_xlim()[0],\n",
    "                     axes[i][3].get_xlim()[0]],\n",
    "                    [axes[i][3].get_ylim()[0],\n",
    "                     axes[i][3].get_ylim()[1]],\n",
    "                     color='black', ls='--',\n",
    "                     lw=1, alpha = 0.5)\n",
    "\n",
    "\n",
    "fig.savefig('./report_TREM2_KO_dataset/external_anti-apoptosis.pdf', bbox_inches='tight', format='pdf')\n",
    "fig.savefig('./tmp/external_anti-apoptosis.pdf.png', bbox_inches='tight', format='png')\n",
    "display(Image('./tmp/external_anti-apoptosis.pdf.png'))"
   ]
  },
  {
   "cell_type": "markdown",
   "id": "42fe884b-594a-404d-adfd-14839677e8d9",
   "metadata": {},
   "source": [
    "#### internal apoptosis"
   ]
  },
  {
   "cell_type": "code",
   "execution_count": null,
   "id": "8815236d-e3c1-400a-a215-a552adaaeaf6",
   "metadata": {},
   "outputs": [],
   "source": [
    "fig, axes, labels = plot_custom_UMAP(anndata=PAIR_COMBINED, samples=[0,1,2,3,4,5],\n",
    "                 ylabsize=12, xlabsize=11, figsize=(15, 10), \n",
    "                 add_numbers=True, loc_legend='right margin',\n",
    "                 size=10, vmax=10, titlesize=11, ncols=6, nrows=4,\n",
    "                 annatation_cols=5, an_x=6.1, an_y=1.8,\n",
    "                 ann_fontsize=10, marker_size=10, \n",
    "                 \n",
    "                 ylab = ['Cell Types',\n",
    "                         f'Bax',\n",
    "                         f'Bak1',\n",
    "                         f'Bok'],\n",
    "\n",
    "                 title =[PAIR_METADATA[0]['sample_name'],\n",
    "                         PAIR_METADATA[1]['sample_name'],\n",
    "                         PAIR_METADATA[2]['sample_name'],\n",
    "                         PAIR_METADATA[3]['sample_name'],\n",
    "                         PAIR_METADATA[4]['sample_name'],\n",
    "                         PAIR_METADATA[5]['sample_name']],\n",
    "                 \n",
    "                 xlab = [f\"{PAIR_METADATA[0]['filtered_cell_count']} cells\",\n",
    "                         f\"{PAIR_METADATA[1]['filtered_cell_count']} cells\",\n",
    "                         f\"{PAIR_METADATA[2]['filtered_cell_count']} cells\",\n",
    "                         f\"{PAIR_METADATA[3]['filtered_cell_count']} cells\",\n",
    "                         f\"{PAIR_METADATA[4]['filtered_cell_count']} cells\",\n",
    "                         f\"{PAIR_METADATA[5]['filtered_cell_count']} cells\"],\n",
    "                 \n",
    "                 color=['celltypist_cell_label_coarse',\n",
    "                        'Bax', 'Bak1', 'Bok'])\n",
    "\n",
    "# add numbers on picture\n",
    "\n",
    "for legend_txt in labels:\n",
    "    label = legend_txt.split(':')[0].rstrip()[1:]\n",
    "    type = legend_txt.split(':')[1].rstrip().lstrip()\n",
    "\n",
    "    # for automaticaly labeling\n",
    "    location_cells = PAIR_COMBINED[PAIR_COMBINED.obs.celltypist_cell_label_coarse == type, :].obsm[\"X_umap\"]\n",
    "    x = location_cells[:, 0].mean()\n",
    "    y = location_cells[:, 1].mean()\n",
    "\n",
    "    # for manual labeling\n",
    "    if label == '11':\n",
    "        add_x = -1.5\n",
    "        add_y = 0.8\n",
    "    elif label == '18':\n",
    "        add_y = -1\n",
    "    elif label == '14':\n",
    "        add_y = 3.4\n",
    "        add_x = -1.2\n",
    "    elif label == '15':\n",
    "        add_y = -0.5\n",
    "        add_x = -1.2\n",
    "    elif label == '9':\n",
    "        add_y = -3.5\n",
    "        add_x = -1.2\n",
    "    elif label == '6':\n",
    "        add_y = -1\n",
    "    else:\n",
    "        add_x, add_y = 0, 0\n",
    "    axes[0][5].text(x + add_x, y + add_y, label, size=8, fontweight='bold')\n",
    "    axes[0][2].text(x + add_x, y + add_y, label, size=8, fontweight='bold')\n",
    "\n",
    "for i in range(len(axes)):\n",
    "    axes[i][3].plot([axes[i][3].get_xlim()[0],\n",
    "                     axes[i][3].get_xlim()[0]],\n",
    "                    [axes[i][3].get_ylim()[0],\n",
    "                     axes[i][3].get_ylim()[1]],\n",
    "                     color='black', ls='--',\n",
    "                     lw=1, alpha = 0.5)\n",
    "\n",
    "\n",
    "fig.savefig('./report_TREM2_KO_dataset/internal_apoptosis.pdf', bbox_inches='tight', format='pdf')\n",
    "#fig.savefig('./tmp/internal_apoptosis.png', bbox_inches='tight', format='png')\n",
    "#display(Image('./tmp/internal_apoptosis.png'))"
   ]
  },
  {
   "cell_type": "markdown",
   "id": "a7240470-203d-4a50-a42d-9fb99b8ec84e",
   "metadata": {},
   "source": [
    "#### anti-apoptocit factors (intrinsic)"
   ]
  },
  {
   "cell_type": "markdown",
   "id": "ae293863-d39a-4a87-8ef0-768112829e63",
   "metadata": {},
   "source": [
    "**У мыша нет Bcl2a1!**"
   ]
  },
  {
   "cell_type": "code",
   "execution_count": null,
   "id": "6fa317bf-a580-46e8-9274-b477ca48f529",
   "metadata": {},
   "outputs": [],
   "source": [
    "for i in names_dict.keys():\n",
    "    if 'Bcl2' in i:\n",
    "        print(i)"
   ]
  },
  {
   "cell_type": "code",
   "execution_count": null,
   "id": "c7c0d771-bdbf-40b9-802a-3f10a51ffb1a",
   "metadata": {},
   "outputs": [],
   "source": [
    "fig, axes, labels = plot_custom_UMAP(anndata=PAIR_COMBINED, samples=[0,1,2,3,4,5],\n",
    "                 ylabsize=14, xlabsize=11, figsize=(15, 15), \n",
    "                 add_numbers=True, loc_legend='right margin',\n",
    "                 size=10, vmax=10, titlesize=11, ncols=6, nrows=6,\n",
    "                 annatation_cols=1, an_x=7.5, an_y=1.3,\n",
    "                 ann_fontsize=10, marker_size=10, \n",
    "                 \n",
    "                 ylab = ['Cell Types',\n",
    "                         f'Bcl2',\n",
    "                         f'Bcl2l1',\n",
    "                         f'Bcl2l2',\n",
    "                         f'Bag1',\n",
    "                         f'Mcl1'\n",
    "                        ],\n",
    "\n",
    "                 title =[PAIR_METADATA[0]['sample_name'],\n",
    "                         PAIR_METADATA[1]['sample_name'],\n",
    "                         PAIR_METADATA[2]['sample_name'],\n",
    "                         PAIR_METADATA[3]['sample_name'],\n",
    "                         PAIR_METADATA[4]['sample_name'],\n",
    "                         PAIR_METADATA[5]['sample_name']],\n",
    "                 \n",
    "                 xlab = [f\"{PAIR_METADATA[0]['filtered_cell_count']} cells\",\n",
    "                         f\"{PAIR_METADATA[1]['filtered_cell_count']} cells\",\n",
    "                         f\"{PAIR_METADATA[2]['filtered_cell_count']} cells\",\n",
    "                         f\"{PAIR_METADATA[3]['filtered_cell_count']} cells\",\n",
    "                         f\"{PAIR_METADATA[4]['filtered_cell_count']} cells\",\n",
    "                         f\"{PAIR_METADATA[5]['filtered_cell_count']} cells\"],\n",
    "                 \n",
    "                 color=['celltypist_cell_label_coarse',\n",
    "                        'Bcl2', 'Bcl2l1', 'Bcl2l2', 'Bag1', 'Mcl1'])\n",
    "\n",
    "# add numbers on picture\n",
    "\n",
    "for legend_txt in labels:\n",
    "    label = legend_txt.split(':')[0].rstrip()[1:]\n",
    "    type = legend_txt.split(':')[1].rstrip().lstrip()\n",
    "\n",
    "    # for automaticaly labeling\n",
    "    location_cells = PAIR_COMBINED[PAIR_COMBINED.obs.celltypist_cell_label_coarse == type, :].obsm[\"X_umap\"]\n",
    "    x = location_cells[:, 0].mean()\n",
    "    y = location_cells[:, 1].mean()\n",
    "\n",
    "    # for manual labeling\n",
    "    if label == '11':\n",
    "        add_x = -1.5\n",
    "        add_y = 0.8\n",
    "    elif label == '18':\n",
    "        add_y = -1\n",
    "    elif label == '14':\n",
    "        add_y = 3.4\n",
    "        add_x = -1.2\n",
    "    elif label == '15':\n",
    "        add_y = -0.5\n",
    "        add_x = -1.2\n",
    "    elif label == '9':\n",
    "        add_y = -3.5\n",
    "        add_x = -1.2\n",
    "    elif label == '6':\n",
    "        add_y = -1\n",
    "    else:\n",
    "        add_x, add_y = 0, 0\n",
    "    axes[0][5].text(x + add_x, y + add_y, label, size=8, fontweight='bold')\n",
    "    axes[0][2].text(x + add_x, y + add_y, label, size=8, fontweight='bold')\n",
    "\n",
    "for i in range(len(axes)):\n",
    "    axes[i][3].plot([axes[i][3].get_xlim()[0],\n",
    "                     axes[i][3].get_xlim()[0]],\n",
    "                    [axes[i][3].get_ylim()[0],\n",
    "                     axes[i][3].get_ylim()[1]],\n",
    "                     color='black', ls='--',\n",
    "                     lw=1, alpha = 0.5)\n",
    "\n",
    "\n",
    "fig.savefig('./report_TREM2_KO_dataset/internal_anti-apoptosis.pdf', bbox_inches='tight', format='pdf')\n",
    "#fig.savefig('./tmp/internal_anti-apoptosis.png', bbox_inches='tight', format='png')\n",
    "#display(Image('./tmp/internal_anti-apoptosis.png'))"
   ]
  },
  {
   "cell_type": "markdown",
   "id": "3ac6011b-30c3-42cd-a9ca-c11ae5ab6c74",
   "metadata": {},
   "source": [
    "### pro-survival"
   ]
  },
  {
   "cell_type": "code",
   "execution_count": null,
   "id": "14535d33-b478-450d-a938-e1ec40afe9fb",
   "metadata": {},
   "outputs": [],
   "source": [
    "fig, axes, labels = plot_custom_UMAP(anndata=PAIR_COMBINED, samples=[0,1,2,3,4,5],\n",
    "                 ylabsize=14, xlabsize=11, figsize=(15, 15), \n",
    "                 add_numbers=True, loc_legend='right margin',\n",
    "                 size=10, vmax=10, titlesize=11, ncols=6, nrows=6,\n",
    "                 annatation_cols=1, an_x=7.5, an_y=1.3,\n",
    "                 ann_fontsize=10, marker_size=10, \n",
    "                 \n",
    "                 ylab = ['Cell Types',\n",
    "                         f'Myd88',\n",
    "                         f'Irak1',\n",
    "                         f'Irak2',\n",
    "                         f'Traf6',\n",
    "                         f'Map3k7'\n",
    "                        ],\n",
    "\n",
    "                 title =[PAIR_METADATA[0]['sample_name'],\n",
    "                         PAIR_METADATA[1]['sample_name'],\n",
    "                         PAIR_METADATA[2]['sample_name'],\n",
    "                         PAIR_METADATA[3]['sample_name'],\n",
    "                         PAIR_METADATA[4]['sample_name'],\n",
    "                         PAIR_METADATA[5]['sample_name']],\n",
    "                 \n",
    "                 xlab = [f\"{PAIR_METADATA[0]['filtered_cell_count']} cells\",\n",
    "                         f\"{PAIR_METADATA[1]['filtered_cell_count']} cells\",\n",
    "                         f\"{PAIR_METADATA[2]['filtered_cell_count']} cells\",\n",
    "                         f\"{PAIR_METADATA[3]['filtered_cell_count']} cells\",\n",
    "                         f\"{PAIR_METADATA[4]['filtered_cell_count']} cells\",\n",
    "                         f\"{PAIR_METADATA[5]['filtered_cell_count']} cells\"],\n",
    "                 \n",
    "                 color=['celltypist_cell_label_coarse',\n",
    "                        'Myd88', 'Irak1', 'Irak2', 'Traf6', 'Map3k7'])\n",
    "\n",
    "# add numbers on picture\n",
    "\n",
    "for legend_txt in labels:\n",
    "    label = legend_txt.split(':')[0].rstrip()[1:]\n",
    "    type = legend_txt.split(':')[1].rstrip().lstrip()\n",
    "\n",
    "    # for automaticaly labeling\n",
    "    location_cells = PAIR_COMBINED[PAIR_COMBINED.obs.celltypist_cell_label_coarse == type, :].obsm[\"X_umap\"]\n",
    "    x = location_cells[:, 0].mean()\n",
    "    y = location_cells[:, 1].mean()\n",
    "\n",
    "    # for manual labeling\n",
    "    if label == '11':\n",
    "        add_x = -1.5\n",
    "        add_y = 0.8\n",
    "    elif label == '18':\n",
    "        add_y = -1\n",
    "    elif label == '14':\n",
    "        add_y = 3.4\n",
    "        add_x = -1.2\n",
    "    elif label == '15':\n",
    "        add_y = -0.5\n",
    "        add_x = -1.2\n",
    "    elif label == '9':\n",
    "        add_y = -3.5\n",
    "        add_x = -1.2\n",
    "    elif label == '6':\n",
    "        add_y = -1\n",
    "    else:\n",
    "        add_x, add_y = 0, 0\n",
    "    axes[0][5].text(x + add_x, y + add_y, label, size=8, fontweight='bold')\n",
    "    axes[0][2].text(x + add_x, y + add_y, label, size=8, fontweight='bold')\n",
    "\n",
    "for i in range(len(axes)):\n",
    "    axes[i][3].plot([axes[i][3].get_xlim()[0],\n",
    "                     axes[i][3].get_xlim()[0]],\n",
    "                    [axes[i][3].get_ylim()[0],\n",
    "                     axes[i][3].get_ylim()[1]],\n",
    "                     color='black', ls='--',\n",
    "                     lw=1, alpha = 0.5)\n",
    "\n",
    "\n",
    "fig.savefig('./report_TREM2_KO_dataset/pro_survival.pdf', bbox_inches='tight', format='pdf')\n",
    "#fig.savefig('./tmp/pro_survival.png', bbox_inches='tight', format='png')\n",
    "#display(Image('./tmp/pro_survival.png'))"
   ]
  },
  {
   "cell_type": "markdown",
   "id": "a30acfdf-0f4e-4acc-b817-5ce3c3829355",
   "metadata": {},
   "source": [
    "### cytotoxic NK"
   ]
  },
  {
   "cell_type": "code",
   "execution_count": null,
   "id": "ed176291-8228-41b4-9040-3d5e92ede4ed",
   "metadata": {},
   "outputs": [],
   "source": [
    "names_dict['Prf1']"
   ]
  },
  {
   "cell_type": "code",
   "execution_count": null,
   "id": "7144e586-84ad-43da-a6fa-6c8efdcd0390",
   "metadata": {},
   "outputs": [],
   "source": [
    "for i in names_dict.keys():\n",
    "    if 'Gzm' in i:\n",
    "        print(i)"
   ]
  },
  {
   "cell_type": "code",
   "execution_count": null,
   "id": "4a2d6194-3945-4d55-957b-450036aa031b",
   "metadata": {},
   "outputs": [],
   "source": [
    "fig, axes, labels = plot_custom_UMAP(anndata=PAIR_COMBINED, samples=[0,1,2,3,4,5],\n",
    "                    ylabsize=14, xlabsize=11, figsize=(15, 10), add_numbers=True,\n",
    "                    size=10, vmax=10, titlesize=12, ncols=6,\n",
    "                    annatation_cols=5, an_x=6, an_y=1.8, loc_legend='right margin',\n",
    "                    ann_fontsize=10, marker_size=10,\n",
    "                 \n",
    "                    ylab = ['Cell Types',\n",
    "                            f'Gzma',\n",
    "                            f'Gzmb',\n",
    "                            f'Prf1'],\n",
    "\n",
    "                    title =[PAIR_METADATA[0]['sample_name'],\n",
    "                         PAIR_METADATA[1]['sample_name'],\n",
    "                         PAIR_METADATA[2]['sample_name'],\n",
    "                         PAIR_METADATA[3]['sample_name'],\n",
    "                         PAIR_METADATA[4]['sample_name'],\n",
    "                         PAIR_METADATA[5]['sample_name']],\n",
    "                 \n",
    "                    xlab = [f\"{PAIR_METADATA[0]['filtered_cell_count']} cells\",\n",
    "                         f\"{PAIR_METADATA[1]['filtered_cell_count']} cells\",\n",
    "                         f\"{PAIR_METADATA[2]['filtered_cell_count']} cells\",\n",
    "                         f\"{PAIR_METADATA[3]['filtered_cell_count']} cells\",\n",
    "                         f\"{PAIR_METADATA[4]['filtered_cell_count']} cells\",\n",
    "                         f\"{PAIR_METADATA[5]['filtered_cell_count']} cells\"],\n",
    "                 \n",
    "                    color=['celltypist_cell_label_coarse',\n",
    "                       'Gzma', 'Gzmb', 'Prf1'])\n",
    "\n",
    "\n",
    "# add numbers on picture\n",
    "\n",
    "for legend_txt in labels:\n",
    "    label = legend_txt.split(':')[0].rstrip()[1:]\n",
    "    type = legend_txt.split(':')[1].rstrip().lstrip()\n",
    "\n",
    "    # for automaticaly labeling\n",
    "    location_cells = PAIR_COMBINED[PAIR_COMBINED.obs.celltypist_cell_label_coarse == type, :].obsm[\"X_umap\"]\n",
    "    x = location_cells[:, 0].mean()\n",
    "    y = location_cells[:, 1].mean()\n",
    "\n",
    "    # for manual labeling\n",
    "    if label == '11':\n",
    "        add_x = -1.5\n",
    "        add_y = 0.8\n",
    "    elif label == '18':\n",
    "        add_y = -1\n",
    "    elif label == '14':\n",
    "        add_y = 3.4\n",
    "        add_x = -1.2\n",
    "    elif label == '15':\n",
    "        add_y = -0.5\n",
    "        add_x = -1.2\n",
    "    elif label == '9':\n",
    "        add_y = -3.5\n",
    "        add_x = -1.2\n",
    "    elif label == '6':\n",
    "        add_y = -1\n",
    "    else:\n",
    "        add_x, add_y = 0, 0\n",
    "    axes[0][5].text(x + add_x, y + add_y, label, size=8, fontweight='bold')\n",
    "    axes[0][2].text(x + add_x, y + add_y, label, size=8, fontweight='bold')\n",
    "\n",
    "for i in range(len(axes)):\n",
    "    axes[i][3].plot([axes[i][3].get_xlim()[0],\n",
    "                     axes[i][3].get_xlim()[0]],\n",
    "                    [axes[i][3].get_ylim()[0],\n",
    "                     axes[i][3].get_ylim()[1]],\n",
    "                     color='black', ls='--',\n",
    "                     lw=1, alpha = 0.5)\n",
    "\n",
    "\n",
    "fig.savefig('./report_TREM2_KO_dataset/cytotoxic_NK.pdf', bbox_inches='tight', format='pdf')\n",
    "#fig.savefig('./tmp/cytotoxic_NK.png', bbox_inches='tight', format='png')\n",
    "#display(Image('./tmp/cytotoxic_NK.png'))"
   ]
  },
  {
   "cell_type": "markdown",
   "id": "be9794c6-d175-4ea2-b733-50f2bbb896a5",
   "metadata": {},
   "source": [
    "### netotic cell death"
   ]
  },
  {
   "cell_type": "code",
   "execution_count": null,
   "id": "ec1c305b-55c8-424b-9315-206c691314e5",
   "metadata": {},
   "outputs": [],
   "source": [
    "names_dict['Elane'] # <-- not present in dataset"
   ]
  },
  {
   "cell_type": "code",
   "execution_count": null,
   "id": "44569626-500b-4e67-9f9a-361cba15807f",
   "metadata": {},
   "outputs": [],
   "source": [
    "fig, axes, labels = plot_custom_UMAP(anndata=PAIR_COMBINED, samples=[0,1,2,3,4,5],\n",
    "                    ylabsize=14, xlabsize=11, figsize=(15, 5), add_numbers=True,\n",
    "                    size=10, vmax=10, titlesize=12, ncols=6, nrows=2,\n",
    "                    annatation_cols=5, an_x=6, an_y=1.8, loc_legend='right margin',\n",
    "                    ann_fontsize=10, marker_size=10,\n",
    "                 \n",
    "                    ylab = ['Cell Types',\n",
    "                            f'Mpo'],\n",
    "\n",
    "                    title =[PAIR_METADATA[0]['sample_name'],\n",
    "                         PAIR_METADATA[1]['sample_name'],\n",
    "                         PAIR_METADATA[2]['sample_name'],\n",
    "                         PAIR_METADATA[3]['sample_name'],\n",
    "                         PAIR_METADATA[4]['sample_name'],\n",
    "                         PAIR_METADATA[5]['sample_name']],\n",
    "                 \n",
    "                    xlab = [f\"{PAIR_METADATA[0]['filtered_cell_count']} cells\",\n",
    "                         f\"{PAIR_METADATA[1]['filtered_cell_count']} cells\",\n",
    "                         f\"{PAIR_METADATA[2]['filtered_cell_count']} cells\",\n",
    "                         f\"{PAIR_METADATA[3]['filtered_cell_count']} cells\",\n",
    "                         f\"{PAIR_METADATA[4]['filtered_cell_count']} cells\",\n",
    "                         f\"{PAIR_METADATA[5]['filtered_cell_count']} cells\"],\n",
    "                 \n",
    "                    color=['celltypist_cell_label_coarse', 'Mpo'])\n",
    "\n",
    "\n",
    "# add numbers on picture\n",
    "\n",
    "for legend_txt in labels:\n",
    "    label = legend_txt.split(':')[0].rstrip()[1:]\n",
    "    type = legend_txt.split(':')[1].rstrip().lstrip()\n",
    "\n",
    "    # for automaticaly labeling\n",
    "    location_cells = PAIR_COMBINED[PAIR_COMBINED.obs.celltypist_cell_label_coarse == type, :].obsm[\"X_umap\"]\n",
    "    x = location_cells[:, 0].mean()\n",
    "    y = location_cells[:, 1].mean()\n",
    "\n",
    "    # for manual labeling\n",
    "    if label == '11':\n",
    "        add_x = -1.5\n",
    "        add_y = 0.8\n",
    "    elif label == '18':\n",
    "        add_y = -1\n",
    "    elif label == '14':\n",
    "        add_y = 3.4\n",
    "        add_x = -1.2\n",
    "    elif label == '15':\n",
    "        add_y = -0.5\n",
    "        add_x = -1.2\n",
    "    elif label == '9':\n",
    "        add_y = -3.5\n",
    "        add_x = -1.2\n",
    "    elif label == '6':\n",
    "        add_y = -1\n",
    "    else:\n",
    "        add_x, add_y = 0, 0\n",
    "    axes[0][5].text(x + add_x, y + add_y, label, size=8, fontweight='bold')\n",
    "    axes[0][2].text(x + add_x, y + add_y, label, size=8, fontweight='bold')\n",
    "\n",
    "for i in range(len(axes)):\n",
    "    axes[i][3].plot([axes[i][3].get_xlim()[0],\n",
    "                     axes[i][3].get_xlim()[0]],\n",
    "                    [axes[i][3].get_ylim()[0],\n",
    "                     axes[i][3].get_ylim()[1]],\n",
    "                     color='black', ls='--',\n",
    "                     lw=1, alpha = 0.5)\n",
    "\n",
    "fig.savefig('./report_TREM2_KO_dataset/netotic_cell_death.pdf', bbox_inches='tight', format='pdf')"
   ]
  },
  {
   "cell_type": "markdown",
   "id": "795ba596-1569-490c-8b1f-52ba21154e08",
   "metadata": {},
   "source": [
    "### Autophagy"
   ]
  },
  {
   "cell_type": "code",
   "execution_count": null,
   "id": "03f01bff-135d-4001-be44-29f244e4d6ad",
   "metadata": {},
   "outputs": [],
   "source": [
    "for i in names_dict.keys():\n",
    "    if 'Ifna' in i:\n",
    "        print(i)"
   ]
  },
  {
   "cell_type": "markdown",
   "id": "a1319d44-d167-4358-a164-7a3c3a9b065c",
   "metadata": {},
   "source": [
    "`IFNA17`, `IFNA8` is not present."
   ]
  },
  {
   "cell_type": "code",
   "execution_count": null,
   "id": "6c9f09c7-e9d7-49e1-a112-716a62dd3a84",
   "metadata": {},
   "outputs": [],
   "source": [
    "fig, axes, labels = plot_custom_UMAP(anndata=PAIR_COMBINED, samples=[0,1,2,3,4,5],\n",
    "                 ylabsize=12, xlabsize=11, figsize=(15, 8), \n",
    "                 add_numbers=True, loc_legend='right margin',\n",
    "                 size=10, vmax=10, titlesize=11, ncols=6, nrows=3,\n",
    "                 annatation_cols=5, an_x=6.1, an_y=1.8,\n",
    "                 ann_fontsize=10, marker_size=10, \n",
    "                 \n",
    "                 ylab = ['Cell Types',\n",
    "                         f'Atg12',\n",
    "                         f'Gabarapl1'],\n",
    "\n",
    "                 title =[PAIR_METADATA[0]['sample_name'],\n",
    "                         PAIR_METADATA[1]['sample_name'],\n",
    "                         PAIR_METADATA[2]['sample_name'],\n",
    "                         PAIR_METADATA[3]['sample_name'],\n",
    "                         PAIR_METADATA[4]['sample_name'],\n",
    "                         PAIR_METADATA[5]['sample_name']],\n",
    "                 \n",
    "                 xlab = [f\"{PAIR_METADATA[0]['filtered_cell_count']} cells\",\n",
    "                         f\"{PAIR_METADATA[1]['filtered_cell_count']} cells\",\n",
    "                         f\"{PAIR_METADATA[2]['filtered_cell_count']} cells\",\n",
    "                         f\"{PAIR_METADATA[3]['filtered_cell_count']} cells\",\n",
    "                         f\"{PAIR_METADATA[4]['filtered_cell_count']} cells\",\n",
    "                         f\"{PAIR_METADATA[5]['filtered_cell_count']} cells\"],\n",
    "                 \n",
    "                 color=['celltypist_cell_label_coarse',\n",
    "                        'Atg12', 'Gabarapl1'])\n",
    "\n",
    "# add numbers on picture\n",
    "\n",
    "for legend_txt in labels:\n",
    "    label = legend_txt.split(':')[0].rstrip()[1:]\n",
    "    type = legend_txt.split(':')[1].rstrip().lstrip()\n",
    "\n",
    "    # for automaticaly labeling\n",
    "    location_cells = PAIR_COMBINED[PAIR_COMBINED.obs.celltypist_cell_label_coarse == type, :].obsm[\"X_umap\"]\n",
    "    x = location_cells[:, 0].mean()\n",
    "    y = location_cells[:, 1].mean()\n",
    "\n",
    "    # for manual labeling\n",
    "    if label == '11':\n",
    "        add_x = -1.5\n",
    "        add_y = 0.8\n",
    "    elif label == '18':\n",
    "        add_y = -1\n",
    "    elif label == '14':\n",
    "        add_y = 3.4\n",
    "        add_x = -1.2\n",
    "    elif label == '15':\n",
    "        add_y = -0.5\n",
    "        add_x = -1.2\n",
    "    elif label == '9':\n",
    "        add_y = -3.5\n",
    "        add_x = -1.2\n",
    "    elif label == '6':\n",
    "        add_y = -1\n",
    "    else:\n",
    "        add_x, add_y = 0, 0\n",
    "    axes[0][5].text(x + add_x, y + add_y, label, size=8, fontweight='bold')\n",
    "    axes[0][2].text(x + add_x, y + add_y, label, size=8, fontweight='bold')\n",
    "\n",
    "for i in range(len(axes)):\n",
    "    axes[i][3].plot([axes[i][3].get_xlim()[0],\n",
    "                     axes[i][3].get_xlim()[0]],\n",
    "                    [axes[i][3].get_ylim()[0],\n",
    "                     axes[i][3].get_ylim()[1]],\n",
    "                     color='black', ls='--',\n",
    "                     lw=1, alpha = 0.5)\n",
    "\n",
    "\n",
    "fig.savefig('./report_TREM2_KO_dataset/autophagy.pdf', bbox_inches='tight', format='pdf')\n",
    "#fig.savefig('./tmp/autophagy.png', bbox_inches='tight', format='png')\n",
    "#display(Image('./tmp/autophagy.png'))"
   ]
  },
  {
   "cell_type": "markdown",
   "id": "eeef436e-da98-4987-b8d0-2c79da2c5442",
   "metadata": {},
   "source": [
    "### Pyroptosis"
   ]
  },
  {
   "cell_type": "code",
   "execution_count": null,
   "id": "8fc59a0f-15d7-44ea-84f3-5edbd9908a1e",
   "metadata": {},
   "outputs": [],
   "source": [
    "fig, axes, labels = plot_custom_UMAP(anndata=PAIR_COMBINED, samples=[0,1,2,3,4,5],\n",
    "                 ylabsize=12, xlabsize=11, figsize=(15, 10), \n",
    "                 add_numbers=True, loc_legend='right margin',\n",
    "                 size=10, vmax=10, titlesize=11, ncols=6, nrows=4,\n",
    "                 annatation_cols=5, an_x=6.1, an_y=1.8,\n",
    "                 ann_fontsize=10, marker_size=10, \n",
    "                 \n",
    "                 ylab = ['Cell Types',\n",
    "                         f'Gsdmd',\n",
    "                         f'Casp1',\n",
    "                         f'Gsdme (~Dfna5)'],\n",
    "\n",
    "                 title =[PAIR_METADATA[0]['sample_name'],\n",
    "                         PAIR_METADATA[1]['sample_name'],\n",
    "                         PAIR_METADATA[2]['sample_name'],\n",
    "                         PAIR_METADATA[3]['sample_name'],\n",
    "                         PAIR_METADATA[4]['sample_name'],\n",
    "                         PAIR_METADATA[5]['sample_name']],\n",
    "                 \n",
    "                 xlab = [f\"{PAIR_METADATA[0]['filtered_cell_count']} cells\",\n",
    "                         f\"{PAIR_METADATA[1]['filtered_cell_count']} cells\",\n",
    "                         f\"{PAIR_METADATA[2]['filtered_cell_count']} cells\",\n",
    "                         f\"{PAIR_METADATA[3]['filtered_cell_count']} cells\",\n",
    "                         f\"{PAIR_METADATA[4]['filtered_cell_count']} cells\",\n",
    "                         f\"{PAIR_METADATA[5]['filtered_cell_count']} cells\"],\n",
    "                 \n",
    "                 color=['celltypist_cell_label_coarse',\n",
    "                        'Gsdmd', 'Casp1', 'Gsdme'])\n",
    "\n",
    "# add numbers on picture\n",
    "\n",
    "for legend_txt in labels:\n",
    "    label = legend_txt.split(':')[0].rstrip()[1:]\n",
    "    type = legend_txt.split(':')[1].rstrip().lstrip()\n",
    "\n",
    "    # for automaticaly labeling\n",
    "    location_cells = PAIR_COMBINED[PAIR_COMBINED.obs.celltypist_cell_label_coarse == type, :].obsm[\"X_umap\"]\n",
    "    x = location_cells[:, 0].mean()\n",
    "    y = location_cells[:, 1].mean()\n",
    "\n",
    "    # for manual labeling\n",
    "    if label == '11':\n",
    "        add_x = -1.5\n",
    "        add_y = 0.8\n",
    "    elif label == '18':\n",
    "        add_y = -1\n",
    "    elif label == '14':\n",
    "        add_y = 3.4\n",
    "        add_x = -1.2\n",
    "    elif label == '15':\n",
    "        add_y = -0.5\n",
    "        add_x = -1.2\n",
    "    elif label == '9':\n",
    "        add_y = -3.5\n",
    "        add_x = -1.2\n",
    "    elif label == '6':\n",
    "        add_y = -1\n",
    "    else:\n",
    "        add_x, add_y = 0, 0\n",
    "    axes[0][5].text(x + add_x, y + add_y, label, size=8, fontweight='bold')\n",
    "    axes[0][2].text(x + add_x, y + add_y, label, size=8, fontweight='bold')\n",
    "\n",
    "for i in range(len(axes)):\n",
    "    axes[i][3].plot([axes[i][3].get_xlim()[0],\n",
    "                     axes[i][3].get_xlim()[0]],\n",
    "                    [axes[i][3].get_ylim()[0],\n",
    "                     axes[i][3].get_ylim()[1]],\n",
    "                     color='black', ls='--',\n",
    "                     lw=1, alpha = 0.5)\n",
    "\n",
    "\n",
    "fig.savefig('./report_TREM2_KO_dataset/pyroptosis.pdf', bbox_inches='tight', format='pdf')\n",
    "#fig.savefig('./tmp/pyroptosis.png', bbox_inches='tight', format='png')\n",
    "#display(Image('./tmp/pyroptosis.png'))"
   ]
  },
  {
   "cell_type": "markdown",
   "id": "a9c9013a-1a66-4a2c-ab7c-856f6950c91a",
   "metadata": {},
   "source": [
    "### Entotic Cell Death"
   ]
  },
  {
   "cell_type": "code",
   "execution_count": null,
   "id": "3a3d59db-924a-4547-9970-ff697d7f5416",
   "metadata": {},
   "outputs": [],
   "source": [
    "fig, axes, labels = plot_custom_UMAP(anndata=PAIR_COMBINED, samples=[0,1,2,3,4,5],\n",
    "                 ylabsize=14, xlabsize=11, figsize=(20, 25), \n",
    "                 add_numbers=True, loc_legend='right margin',\n",
    "                 size=10, vmax=10, titlesize=12, ncols=6, nrows=10,\n",
    "                 annatation_cols=1, an_x=7.6, an_y=1.35,\n",
    "                 ann_fontsize=10, marker_size=10, \n",
    "                 \n",
    "                 ylab = ['Cell Types',\n",
    "                         'Cdh1',\n",
    "                         'Ctnna1',\n",
    "                         'Rhoa',\n",
    "                         'Rock1',\n",
    "                         'Rock2',\n",
    "                         'Diaph1',\n",
    "                         'Mal',\n",
    "                         'Srf',\n",
    "                         'Ezr'],\n",
    "\n",
    "                 title =[PAIR_METADATA[0]['sample_name'],\n",
    "                         PAIR_METADATA[1]['sample_name'],\n",
    "                         PAIR_METADATA[2]['sample_name'],\n",
    "                         PAIR_METADATA[3]['sample_name'],\n",
    "                         PAIR_METADATA[4]['sample_name'],\n",
    "                         PAIR_METADATA[5]['sample_name']],\n",
    "                 \n",
    "                 xlab = [f\"{PAIR_METADATA[0]['filtered_cell_count']} cells\",\n",
    "                         f\"{PAIR_METADATA[1]['filtered_cell_count']} cells\",\n",
    "                         f\"{PAIR_METADATA[2]['filtered_cell_count']} cells\",\n",
    "                         f\"{PAIR_METADATA[3]['filtered_cell_count']} cells\",\n",
    "                         f\"{PAIR_METADATA[4]['filtered_cell_count']} cells\",\n",
    "                         f\"{PAIR_METADATA[5]['filtered_cell_count']} cells\"],\n",
    "                 \n",
    "                 color=['celltypist_cell_label_coarse',\n",
    "                        'Cdh1', 'Ctnna1', 'Rhoa', 'Rock1', 'Rock2',\n",
    "                        'Diaph1', 'Mal', 'Srf', 'Ezr'])\n",
    "\n",
    "# add numbers on picture\n",
    "\n",
    "for legend_txt in labels:\n",
    "    label = legend_txt.split(':')[0].rstrip()[1:]\n",
    "    type = legend_txt.split(':')[1].rstrip().lstrip()\n",
    "\n",
    "    # for automaticaly labeling\n",
    "    location_cells = PAIR_COMBINED[PAIR_COMBINED.obs.celltypist_cell_label_coarse == type, :].obsm[\"X_umap\"]\n",
    "    x = location_cells[:, 0].mean()\n",
    "    y = location_cells[:, 1].mean()\n",
    "\n",
    "    # for manual labeling\n",
    "    if label == '11':\n",
    "        add_x = -1.5\n",
    "        add_y = 0.8\n",
    "    elif label == '18':\n",
    "        add_y = -1\n",
    "    elif label == '14':\n",
    "        add_y = 3.4\n",
    "        add_x = -1.2\n",
    "    elif label == '15':\n",
    "        add_y = -0.5\n",
    "        add_x = -1.2\n",
    "    elif label == '9':\n",
    "        add_y = -3.5\n",
    "        add_x = -1.2\n",
    "    elif label == '6':\n",
    "        add_y = -1\n",
    "    else:\n",
    "        add_x, add_y = 0, 0\n",
    "    axes[0][5].text(x + add_x, y + add_y, label, size=8, fontweight='bold')\n",
    "    axes[0][2].text(x + add_x, y + add_y, label, size=8, fontweight='bold')\n",
    "\n",
    "# to draw border betweent groups \n",
    "for i in range(len(axes)):\n",
    "    axes[i][3].plot([axes[i][3].get_xlim()[0],\n",
    "                     axes[i][3].get_xlim()[0]],\n",
    "                    [axes[i][3].get_ylim()[0],\n",
    "                     axes[i][3].get_ylim()[1]],\n",
    "                     color='black', ls='--',\n",
    "                     lw=1, alpha = 0.5)\n",
    "\n",
    "\n",
    "fig.savefig('./report_TREM2_KO_dataset/Entotic_Cell_Death.pdf', bbox_inches='tight', format='pdf')\n",
    "#fig.savefig('./tmp/Entotic_Cell_Death.png', bbox_inches='tight', format='png')\n",
    "#display(Image('./tmp/Entotic_Cell_Death.png'))"
   ]
  },
  {
   "cell_type": "markdown",
   "id": "969bd0fc-666a-463b-9b90-df0e1faa2866",
   "metadata": {},
   "source": [
    "### Parthanatos"
   ]
  },
  {
   "cell_type": "code",
   "execution_count": null,
   "id": "6afeb33c-916b-4afd-a189-1d4e4bf0d1d3",
   "metadata": {},
   "outputs": [],
   "source": [
    "fig, axes, labels = plot_custom_UMAP(anndata=PAIR_COMBINED, samples=[0,1,2,3,4,5],\n",
    "                    ylabsize=14, xlabsize=11, figsize=(15, 10), add_numbers=True,\n",
    "                    size=10, vmax=10, titlesize=12, ncols=6,\n",
    "                    annatation_cols=5, an_x=6, an_y=1.8, loc_legend='right margin',\n",
    "                    ann_fontsize=10, marker_size=10,\n",
    "                 \n",
    "                    ylab = ['Cell Types',\n",
    "                            f'Parp1',\n",
    "                            f'Aifm1',\n",
    "                            f'Mif'],\n",
    "\n",
    "                    title =[PAIR_METADATA[0]['sample_name'],\n",
    "                         PAIR_METADATA[1]['sample_name'],\n",
    "                         PAIR_METADATA[2]['sample_name'],\n",
    "                         PAIR_METADATA[3]['sample_name'],\n",
    "                         PAIR_METADATA[4]['sample_name'],\n",
    "                         PAIR_METADATA[5]['sample_name']],\n",
    "                 \n",
    "                    xlab = [f\"{PAIR_METADATA[0]['filtered_cell_count']} cells\",\n",
    "                         f\"{PAIR_METADATA[1]['filtered_cell_count']} cells\",\n",
    "                         f\"{PAIR_METADATA[2]['filtered_cell_count']} cells\",\n",
    "                         f\"{PAIR_METADATA[3]['filtered_cell_count']} cells\",\n",
    "                         f\"{PAIR_METADATA[4]['filtered_cell_count']} cells\",\n",
    "                         f\"{PAIR_METADATA[5]['filtered_cell_count']} cells\"],\n",
    "                 \n",
    "                    color=['celltypist_cell_label_coarse',\n",
    "                       'Parp1', 'Aifm1', 'Mif'])\n",
    "\n",
    "\n",
    "# add numbers on picture\n",
    "\n",
    "for legend_txt in labels:\n",
    "    label = legend_txt.split(':')[0].rstrip()[1:]\n",
    "    type = legend_txt.split(':')[1].rstrip().lstrip()\n",
    "\n",
    "    # for automaticaly labeling\n",
    "    location_cells = PAIR_COMBINED[PAIR_COMBINED.obs.celltypist_cell_label_coarse == type, :].obsm[\"X_umap\"]\n",
    "    x = location_cells[:, 0].mean()\n",
    "    y = location_cells[:, 1].mean()\n",
    "\n",
    "    # for manual labeling\n",
    "    if label == '11':\n",
    "        add_x = -1.5\n",
    "        add_y = 0.8\n",
    "    elif label == '18':\n",
    "        add_y = -1\n",
    "    elif label == '14':\n",
    "        add_y = 3.4\n",
    "        add_x = -1.2\n",
    "    elif label == '15':\n",
    "        add_y = -0.5\n",
    "        add_x = -1.2\n",
    "    elif label == '9':\n",
    "        add_y = -3.5\n",
    "        add_x = -1.2\n",
    "    elif label == '6':\n",
    "        add_y = -1\n",
    "    else:\n",
    "        add_x, add_y = 0, 0\n",
    "    axes[0][5].text(x + add_x, y + add_y, label, size=8, fontweight='bold')\n",
    "    axes[0][2].text(x + add_x, y + add_y, label, size=8, fontweight='bold')\n",
    "\n",
    "for i in range(len(axes)):\n",
    "    axes[i][3].plot([axes[i][3].get_xlim()[0],\n",
    "                     axes[i][3].get_xlim()[0]],\n",
    "                    [axes[i][3].get_ylim()[0],\n",
    "                     axes[i][3].get_ylim()[1]],\n",
    "                     color='black', ls='--',\n",
    "                     lw=1, alpha = 0.5)\n",
    "\n",
    "\n",
    "fig.savefig('./report_TREM2_KO_dataset/Parthanatos.pdf', bbox_inches='tight', format='pdf')\n",
    "#fig.savefig('./tmp/Parthanatos.png', bbox_inches='tight', format='png')\n",
    "#display(Image('./tmp/Parthanatos.png'))"
   ]
  },
  {
   "cell_type": "markdown",
   "id": "6155942d-26ec-4a79-ad45-89a88be8e255",
   "metadata": {},
   "source": [
    "### Autosis"
   ]
  },
  {
   "cell_type": "code",
   "execution_count": null,
   "id": "0cd2f5fc-4b74-43b2-aecf-07e071df3c5a",
   "metadata": {},
   "outputs": [],
   "source": [
    "fig, axes, labels = plot_custom_UMAP(anndata=PAIR_COMBINED, samples=[0,1,2,3,4,5],\n",
    "                    ylabsize=14, xlabsize=11, figsize=(15, 10), add_numbers=True,\n",
    "                    size=10, vmax=10, titlesize=12, ncols=6,\n",
    "                    annatation_cols=5, an_x=6, an_y=1.8, loc_legend='right margin',\n",
    "                    ann_fontsize=10, marker_size=10,\n",
    "                 \n",
    "                    ylab = ['Cell Types',\n",
    "                            f'Ulk1',\n",
    "                            f'Becn1',\n",
    "                            f'Pik3r4'],\n",
    "\n",
    "                    title =[PAIR_METADATA[0]['sample_name'],\n",
    "                         PAIR_METADATA[1]['sample_name'],\n",
    "                         PAIR_METADATA[2]['sample_name'],\n",
    "                         PAIR_METADATA[3]['sample_name'],\n",
    "                         PAIR_METADATA[4]['sample_name'],\n",
    "                         PAIR_METADATA[5]['sample_name']],\n",
    "                 \n",
    "                    xlab = [f\"{PAIR_METADATA[0]['filtered_cell_count']} cells\",\n",
    "                         f\"{PAIR_METADATA[1]['filtered_cell_count']} cells\",\n",
    "                         f\"{PAIR_METADATA[2]['filtered_cell_count']} cells\",\n",
    "                         f\"{PAIR_METADATA[3]['filtered_cell_count']} cells\",\n",
    "                         f\"{PAIR_METADATA[4]['filtered_cell_count']} cells\",\n",
    "                         f\"{PAIR_METADATA[5]['filtered_cell_count']} cells\"],\n",
    "                 \n",
    "                    color=['celltypist_cell_label_coarse',\n",
    "                       'Ulk1', 'Becn1', 'Pik3r4'])\n",
    "\n",
    "\n",
    "# add numbers on picture\n",
    "\n",
    "for legend_txt in labels:\n",
    "    label = legend_txt.split(':')[0].rstrip()[1:]\n",
    "    type = legend_txt.split(':')[1].rstrip().lstrip()\n",
    "\n",
    "    # for automaticaly labeling\n",
    "    location_cells = PAIR_COMBINED[PAIR_COMBINED.obs.celltypist_cell_label_coarse == type, :].obsm[\"X_umap\"]\n",
    "    x = location_cells[:, 0].mean()\n",
    "    y = location_cells[:, 1].mean()\n",
    "\n",
    "    # for manual labeling\n",
    "    if label == '11':\n",
    "        add_x = -1.5\n",
    "        add_y = 0.8\n",
    "    elif label == '18':\n",
    "        add_y = -1\n",
    "    elif label == '14':\n",
    "        add_y = 3.4\n",
    "        add_x = -1.2\n",
    "    elif label == '15':\n",
    "        add_y = -0.5\n",
    "        add_x = -1.2\n",
    "    elif label == '9':\n",
    "        add_y = -3.5\n",
    "        add_x = -1.2\n",
    "    elif label == '6':\n",
    "        add_y = -1\n",
    "    else:\n",
    "        add_x, add_y = 0, 0\n",
    "    axes[0][5].text(x + add_x, y + add_y, label, size=8, fontweight='bold')\n",
    "    axes[0][2].text(x + add_x, y + add_y, label, size=8, fontweight='bold')\n",
    "\n",
    "for i in range(len(axes)):\n",
    "    axes[i][3].plot([axes[i][3].get_xlim()[0],\n",
    "                     axes[i][3].get_xlim()[0]],\n",
    "                    [axes[i][3].get_ylim()[0],\n",
    "                     axes[i][3].get_ylim()[1]],\n",
    "                     color='black', ls='--',\n",
    "                     lw=1, alpha = 0.5)\n",
    "\n",
    "\n",
    "fig.savefig('./report_TREM2_KO_dataset/Autosis.pdf', bbox_inches='tight', format='pdf')\n",
    "#fig.savefig('./tmp/Autosis.png', bbox_inches='tight', format='png')\n",
    "#display(Image('./tmp/Autosis.png'))"
   ]
  },
  {
   "cell_type": "markdown",
   "id": "e735be2e-41a8-41ef-aeb1-fc972986e0af",
   "metadata": {},
   "source": [
    "### Ferroptosis"
   ]
  },
  {
   "cell_type": "code",
   "execution_count": null,
   "id": "d13364aa-7859-49cb-bbc3-f66b12b98ee4",
   "metadata": {},
   "outputs": [],
   "source": [
    "fig, axes, labels = plot_custom_UMAP(anndata=PAIR_COMBINED, samples=[0,1,2,3,4,5],\n",
    "                    ylabsize=14, xlabsize=11, figsize=(15, 5), add_numbers=True,\n",
    "                    size=10, vmax=10, titlesize=12, ncols=6, nrows=2,\n",
    "                    annatation_cols=5, an_x=6, an_y=1.8, loc_legend='right margin',\n",
    "                    ann_fontsize=10, marker_size=10,\n",
    "                 \n",
    "                    ylab = ['Cell Types',\n",
    "                            f'Gpx4'],\n",
    "\n",
    "                    title =[PAIR_METADATA[0]['sample_name'],\n",
    "                         PAIR_METADATA[1]['sample_name'],\n",
    "                         PAIR_METADATA[2]['sample_name'],\n",
    "                         PAIR_METADATA[3]['sample_name'],\n",
    "                         PAIR_METADATA[4]['sample_name'],\n",
    "                         PAIR_METADATA[5]['sample_name']],\n",
    "                 \n",
    "                    xlab = [f\"{PAIR_METADATA[0]['filtered_cell_count']} cells\",\n",
    "                         f\"{PAIR_METADATA[1]['filtered_cell_count']} cells\",\n",
    "                         f\"{PAIR_METADATA[2]['filtered_cell_count']} cells\",\n",
    "                         f\"{PAIR_METADATA[3]['filtered_cell_count']} cells\",\n",
    "                         f\"{PAIR_METADATA[4]['filtered_cell_count']} cells\",\n",
    "                         f\"{PAIR_METADATA[5]['filtered_cell_count']} cells\"],\n",
    "                 \n",
    "                    color=['celltypist_cell_label_coarse', 'Gpx4'])\n",
    "\n",
    "\n",
    "# add numbers on picture\n",
    "\n",
    "for legend_txt in labels:\n",
    "    label = legend_txt.split(':')[0].rstrip()[1:]\n",
    "    type = legend_txt.split(':')[1].rstrip().lstrip()\n",
    "\n",
    "    # for automaticaly labeling\n",
    "    location_cells = PAIR_COMBINED[PAIR_COMBINED.obs.celltypist_cell_label_coarse == type, :].obsm[\"X_umap\"]\n",
    "    x = location_cells[:, 0].mean()\n",
    "    y = location_cells[:, 1].mean()\n",
    "\n",
    "    # for manual labeling\n",
    "    if label == '11':\n",
    "        add_x = -1.5\n",
    "        add_y = 0.8\n",
    "    elif label == '18':\n",
    "        add_y = -1\n",
    "    elif label == '14':\n",
    "        add_y = 3.4\n",
    "        add_x = -1.2\n",
    "    elif label == '15':\n",
    "        add_y = -0.5\n",
    "        add_x = -1.2\n",
    "    elif label == '9':\n",
    "        add_y = -3.5\n",
    "        add_x = -1.2\n",
    "    elif label == '6':\n",
    "        add_y = -1\n",
    "    else:\n",
    "        add_x, add_y = 0, 0\n",
    "    axes[0][5].text(x + add_x, y + add_y, label, size=8, fontweight='bold')\n",
    "    axes[0][2].text(x + add_x, y + add_y, label, size=8, fontweight='bold')\n",
    "\n",
    "for i in range(len(axes)):\n",
    "    axes[i][3].plot([axes[i][3].get_xlim()[0],\n",
    "                     axes[i][3].get_xlim()[0]],\n",
    "                    [axes[i][3].get_ylim()[0],\n",
    "                     axes[i][3].get_ylim()[1]],\n",
    "                     color='black', ls='--',\n",
    "                     lw=1, alpha = 0.5)\n",
    "\n",
    "fig.savefig('./report_TREM2_KO_dataset/Ferroptosis.pdf', bbox_inches='tight', format='pdf')"
   ]
  },
  {
   "cell_type": "markdown",
   "id": "6799ef4d-0725-4dfa-a978-d7c85dabc597",
   "metadata": {},
   "source": [
    "### Lysosome-dependent Cell Death"
   ]
  },
  {
   "cell_type": "code",
   "execution_count": null,
   "id": "9943c4ba-0def-46b8-9dee-fbb34e39081b",
   "metadata": {},
   "outputs": [],
   "source": [
    "fig, axes, labels = plot_custom_UMAP(anndata=PAIR_COMBINED, samples=[0,1,2,3,4,5],\n",
    "                    ylabsize=14, xlabsize=11, figsize=(15, 10), add_numbers=True,\n",
    "                    size=10, vmax=10, titlesize=12, ncols=6,\n",
    "                    annatation_cols=5, an_x=6, an_y=1.8, loc_legend='right margin',\n",
    "                    ann_fontsize=10, marker_size=10,\n",
    "                 \n",
    "                    ylab = ['Cell Types',\n",
    "                            f'Ctsb',\n",
    "                            f'Ctsd',\n",
    "                            f'Ctsl'],\n",
    "\n",
    "                    title =[PAIR_METADATA[0]['sample_name'],\n",
    "                         PAIR_METADATA[1]['sample_name'],\n",
    "                         PAIR_METADATA[2]['sample_name'],\n",
    "                         PAIR_METADATA[3]['sample_name'],\n",
    "                         PAIR_METADATA[4]['sample_name'],\n",
    "                         PAIR_METADATA[5]['sample_name']],\n",
    "                 \n",
    "                    xlab = [f\"{PAIR_METADATA[0]['filtered_cell_count']} cells\",\n",
    "                         f\"{PAIR_METADATA[1]['filtered_cell_count']} cells\",\n",
    "                         f\"{PAIR_METADATA[2]['filtered_cell_count']} cells\",\n",
    "                         f\"{PAIR_METADATA[3]['filtered_cell_count']} cells\",\n",
    "                         f\"{PAIR_METADATA[4]['filtered_cell_count']} cells\",\n",
    "                         f\"{PAIR_METADATA[5]['filtered_cell_count']} cells\"],\n",
    "                 \n",
    "                    color=['celltypist_cell_label_coarse',\n",
    "                       'Ctsb', 'Ctsd', 'Ctsl'])\n",
    "\n",
    "\n",
    "# add numbers on picture\n",
    "\n",
    "for legend_txt in labels:\n",
    "    label = legend_txt.split(':')[0].rstrip()[1:]\n",
    "    type = legend_txt.split(':')[1].rstrip().lstrip()\n",
    "\n",
    "    # for automaticaly labeling\n",
    "    location_cells = PAIR_COMBINED[PAIR_COMBINED.obs.celltypist_cell_label_coarse == type, :].obsm[\"X_umap\"]\n",
    "    x = location_cells[:, 0].mean()\n",
    "    y = location_cells[:, 1].mean()\n",
    "\n",
    "    # for manual labeling\n",
    "    if label == '11':\n",
    "        add_x = -1.5\n",
    "        add_y = 0.8\n",
    "    elif label == '18':\n",
    "        add_y = -1\n",
    "    elif label == '14':\n",
    "        add_y = 3.4\n",
    "        add_x = -1.2\n",
    "    elif label == '15':\n",
    "        add_y = -0.5\n",
    "        add_x = -1.2\n",
    "    elif label == '9':\n",
    "        add_y = -3.5\n",
    "        add_x = -1.2\n",
    "    elif label == '6':\n",
    "        add_y = -1\n",
    "    else:\n",
    "        add_x, add_y = 0, 0\n",
    "    axes[0][5].text(x + add_x, y + add_y, label, size=8, fontweight='bold')\n",
    "    axes[0][2].text(x + add_x, y + add_y, label, size=8, fontweight='bold')\n",
    "\n",
    "for i in range(len(axes)):\n",
    "    axes[i][3].plot([axes[i][3].get_xlim()[0],\n",
    "                     axes[i][3].get_xlim()[0]],\n",
    "                    [axes[i][3].get_ylim()[0],\n",
    "                     axes[i][3].get_ylim()[1]],\n",
    "                     color='black', ls='--',\n",
    "                     lw=1, alpha = 0.5)\n",
    "\n",
    "\n",
    "fig.savefig('./report_TREM2_KO_dataset/Lysosome_dep.pdf', bbox_inches='tight', format='pdf')\n",
    "#fig.savefig('./tmp/Lysosome_dep.png', bbox_inches='tight', format='png')\n",
    "#display(Image('./tmp/Lysosome_dep.png'))"
   ]
  },
  {
   "cell_type": "markdown",
   "id": "5cea6718-4dd6-4bba-b787-0e2b80c99390",
   "metadata": {},
   "source": [
    "### Immunogenic Cell Death"
   ]
  },
  {
   "cell_type": "code",
   "execution_count": null,
   "id": "3af03a12-737d-48d6-a196-02b3a87a2dc9",
   "metadata": {},
   "outputs": [],
   "source": [
    "for i in names_dict.keys():\n",
    "    if 'Ifnb' in i:\n",
    "        print(i)"
   ]
  },
  {
   "cell_type": "markdown",
   "id": "90281d67-a261-429e-8cd4-f663a3e5b31b",
   "metadata": {},
   "source": [
    "`Ifnb1` not present in scData"
   ]
  },
  {
   "cell_type": "code",
   "execution_count": null,
   "id": "3e2420f8-2e91-4d31-aee2-399bd9fd8547",
   "metadata": {},
   "outputs": [],
   "source": [
    "fig, axes, labels = plot_custom_UMAP(anndata=PAIR_COMBINED, samples=[0,1,2,3,4,5],\n",
    "                    ylabsize=14, xlabsize=11, figsize=(15, 10), add_numbers=True,\n",
    "                    size=10, vmax=10, titlesize=12, ncols=6,\n",
    "                    annatation_cols=5, an_x=6, an_y=1.8, loc_legend='right margin',\n",
    "                    ann_fontsize=10, marker_size=10,\n",
    "                 \n",
    "                    ylab = ['Cell Types',\n",
    "                            f'Calr',\n",
    "                            f'Hmgb1',\n",
    "                            f'Anxa1'],\n",
    "\n",
    "                    title =[PAIR_METADATA[0]['sample_name'],\n",
    "                         PAIR_METADATA[1]['sample_name'],\n",
    "                         PAIR_METADATA[2]['sample_name'],\n",
    "                         PAIR_METADATA[3]['sample_name'],\n",
    "                         PAIR_METADATA[4]['sample_name'],\n",
    "                         PAIR_METADATA[5]['sample_name']],\n",
    "                 \n",
    "                    xlab = [f\"{PAIR_METADATA[0]['filtered_cell_count']} cells\",\n",
    "                         f\"{PAIR_METADATA[1]['filtered_cell_count']} cells\",\n",
    "                         f\"{PAIR_METADATA[2]['filtered_cell_count']} cells\",\n",
    "                         f\"{PAIR_METADATA[3]['filtered_cell_count']} cells\",\n",
    "                         f\"{PAIR_METADATA[4]['filtered_cell_count']} cells\",\n",
    "                         f\"{PAIR_METADATA[5]['filtered_cell_count']} cells\"],\n",
    "                 \n",
    "                    color=['celltypist_cell_label_coarse',\n",
    "                       'Calr', 'Hmgb1', 'Anxa1'])\n",
    "\n",
    "\n",
    "# add numbers on picture\n",
    "\n",
    "for legend_txt in labels:\n",
    "    label = legend_txt.split(':')[0].rstrip()[1:]\n",
    "    type = legend_txt.split(':')[1].rstrip().lstrip()\n",
    "\n",
    "    # for automaticaly labeling\n",
    "    location_cells = PAIR_COMBINED[PAIR_COMBINED.obs.celltypist_cell_label_coarse == type, :].obsm[\"X_umap\"]\n",
    "    x = location_cells[:, 0].mean()\n",
    "    y = location_cells[:, 1].mean()\n",
    "\n",
    "    # for manual labeling\n",
    "    if label == '11':\n",
    "        add_x = -1.5\n",
    "        add_y = 0.8\n",
    "    elif label == '18':\n",
    "        add_y = -1\n",
    "    elif label == '14':\n",
    "        add_y = 3.4\n",
    "        add_x = -1.2\n",
    "    elif label == '15':\n",
    "        add_y = -0.5\n",
    "        add_x = -1.2\n",
    "    elif label == '9':\n",
    "        add_y = -3.5\n",
    "        add_x = -1.2\n",
    "    elif label == '6':\n",
    "        add_y = -1\n",
    "    else:\n",
    "        add_x, add_y = 0, 0\n",
    "    axes[0][5].text(x + add_x, y + add_y, label, size=8, fontweight='bold')\n",
    "    axes[0][2].text(x + add_x, y + add_y, label, size=8, fontweight='bold')\n",
    "\n",
    "for i in range(len(axes)):\n",
    "    axes[i][3].plot([axes[i][3].get_xlim()[0],\n",
    "                     axes[i][3].get_xlim()[0]],\n",
    "                    [axes[i][3].get_ylim()[0],\n",
    "                     axes[i][3].get_ylim()[1]],\n",
    "                     color='black', ls='--',\n",
    "                     lw=1, alpha = 0.5)\n",
    "\n",
    "\n",
    "fig.savefig('./report_TREM2_KO_dataset/Immunogenic.pdf', bbox_inches='tight', format='pdf')\n",
    "#fig.savefig('./tmp/Immunogenic.png', bbox_inches='tight', format='png')\n",
    "#display(Image('./tmp/Immunogenic.png'))"
   ]
  },
  {
   "cell_type": "markdown",
   "id": "c3369cda-a323-4f2d-b112-ad70cbcc12f9",
   "metadata": {},
   "source": [
    "### Senescence"
   ]
  },
  {
   "cell_type": "code",
   "execution_count": null,
   "id": "9ac722e8-571a-4352-b65a-b46a5d4d872b",
   "metadata": {},
   "outputs": [],
   "source": [
    "fig, axes, labels = plot_custom_UMAP(anndata=PAIR_COMBINED, samples=[0,1,2,3,4,5],\n",
    "                 ylabsize=12, xlabsize=11, figsize=(15, 8), \n",
    "                 add_numbers=True, loc_legend='right margin',\n",
    "                 size=10, vmax=10, titlesize=11, ncols=6, nrows=3,\n",
    "                 annatation_cols=5, an_x=6.1, an_y=1.8,\n",
    "                 ann_fontsize=10, marker_size=10, \n",
    "                 \n",
    "                 ylab = ['Cell Types',\n",
    "                         f'Cdkn1a',\n",
    "                         f'Cdkn2a'],\n",
    "\n",
    "                 title =[PAIR_METADATA[0]['sample_name'],\n",
    "                         PAIR_METADATA[1]['sample_name'],\n",
    "                         PAIR_METADATA[2]['sample_name'],\n",
    "                         PAIR_METADATA[3]['sample_name'],\n",
    "                         PAIR_METADATA[4]['sample_name'],\n",
    "                         PAIR_METADATA[5]['sample_name']],\n",
    "                 \n",
    "                 xlab = [f\"{PAIR_METADATA[0]['filtered_cell_count']} cells\",\n",
    "                         f\"{PAIR_METADATA[1]['filtered_cell_count']} cells\",\n",
    "                         f\"{PAIR_METADATA[2]['filtered_cell_count']} cells\",\n",
    "                         f\"{PAIR_METADATA[3]['filtered_cell_count']} cells\",\n",
    "                         f\"{PAIR_METADATA[4]['filtered_cell_count']} cells\",\n",
    "                         f\"{PAIR_METADATA[5]['filtered_cell_count']} cells\"],\n",
    "                 \n",
    "                 color=['celltypist_cell_label_coarse',\n",
    "                        'Cdkn1a', 'Cdkn2a'])\n",
    "\n",
    "# add numbers on picture\n",
    "\n",
    "for legend_txt in labels:\n",
    "    label = legend_txt.split(':')[0].rstrip()[1:]\n",
    "    type = legend_txt.split(':')[1].rstrip().lstrip()\n",
    "\n",
    "    # for automaticaly labeling\n",
    "    location_cells = PAIR_COMBINED[PAIR_COMBINED.obs.celltypist_cell_label_coarse == type, :].obsm[\"X_umap\"]\n",
    "    x = location_cells[:, 0].mean()\n",
    "    y = location_cells[:, 1].mean()\n",
    "\n",
    "    # for manual labeling\n",
    "    if label == '11':\n",
    "        add_x = -1.5\n",
    "        add_y = 0.8\n",
    "    elif label == '18':\n",
    "        add_y = -1\n",
    "    elif label == '14':\n",
    "        add_y = 3.4\n",
    "        add_x = -1.2\n",
    "    elif label == '15':\n",
    "        add_y = -0.5\n",
    "        add_x = -1.2\n",
    "    elif label == '9':\n",
    "        add_y = -3.5\n",
    "        add_x = -1.2\n",
    "    elif label == '6':\n",
    "        add_y = -1\n",
    "    else:\n",
    "        add_x, add_y = 0, 0\n",
    "    axes[0][5].text(x + add_x, y + add_y, label, size=8, fontweight='bold')\n",
    "    axes[0][2].text(x + add_x, y + add_y, label, size=8, fontweight='bold')\n",
    "\n",
    "for i in range(len(axes)):\n",
    "    axes[i][3].plot([axes[i][3].get_xlim()[0],\n",
    "                     axes[i][3].get_xlim()[0]],\n",
    "                    [axes[i][3].get_ylim()[0],\n",
    "                     axes[i][3].get_ylim()[1]],\n",
    "                     color='black', ls='--',\n",
    "                     lw=1, alpha = 0.5)\n",
    "\n",
    "\n",
    "fig.savefig('./report_TREM2_KO_dataset/Senescence.pdf', bbox_inches='tight', format='pdf')\n",
    "#fig.savefig('./tmp/Senescence.png', bbox_inches='tight', format='png')\n",
    "#display(Image('./tmp/Senescence.png'))"
   ]
  },
  {
   "cell_type": "markdown",
   "id": "c9cac96e-b444-4ac1-b1cd-7940defc0831",
   "metadata": {},
   "source": [
    "### Proliferation"
   ]
  },
  {
   "cell_type": "code",
   "execution_count": null,
   "id": "1afc52a4-b8a1-4a20-9357-333542371f42",
   "metadata": {},
   "outputs": [],
   "source": [
    "fig, axes, labels = plot_custom_UMAP(anndata=PAIR_COMBINED, samples=[0,1,2,3,4,5],\n",
    "                    ylabsize=14, xlabsize=11, figsize=(15, 5), add_numbers=True,\n",
    "                    size=10, vmax=10, titlesize=12, ncols=6, nrows=2,\n",
    "                    annatation_cols=5, an_x=6, an_y=1.8, loc_legend='right margin',\n",
    "                    ann_fontsize=10, marker_size=10,\n",
    "                 \n",
    "                    ylab = ['Cell Types',\n",
    "                            f'Mki67'],\n",
    "\n",
    "                    title =[PAIR_METADATA[0]['sample_name'],\n",
    "                         PAIR_METADATA[1]['sample_name'],\n",
    "                         PAIR_METADATA[2]['sample_name'],\n",
    "                         PAIR_METADATA[3]['sample_name'],\n",
    "                         PAIR_METADATA[4]['sample_name'],\n",
    "                         PAIR_METADATA[5]['sample_name']],\n",
    "                 \n",
    "                    xlab = [f\"{PAIR_METADATA[0]['filtered_cell_count']} cells\",\n",
    "                         f\"{PAIR_METADATA[1]['filtered_cell_count']} cells\",\n",
    "                         f\"{PAIR_METADATA[2]['filtered_cell_count']} cells\",\n",
    "                         f\"{PAIR_METADATA[3]['filtered_cell_count']} cells\",\n",
    "                         f\"{PAIR_METADATA[4]['filtered_cell_count']} cells\",\n",
    "                         f\"{PAIR_METADATA[5]['filtered_cell_count']} cells\"],\n",
    "                 \n",
    "                    color=['celltypist_cell_label_coarse', 'Mki67'])\n",
    "\n",
    "\n",
    "# add numbers on picture\n",
    "\n",
    "for legend_txt in labels:\n",
    "    label = legend_txt.split(':')[0].rstrip()[1:]\n",
    "    type = legend_txt.split(':')[1].rstrip().lstrip()\n",
    "\n",
    "    # for automaticaly labeling\n",
    "    location_cells = PAIR_COMBINED[PAIR_COMBINED.obs.celltypist_cell_label_coarse == type, :].obsm[\"X_umap\"]\n",
    "    x = location_cells[:, 0].mean()\n",
    "    y = location_cells[:, 1].mean()\n",
    "\n",
    "    # for manual labeling\n",
    "    if label == '11':\n",
    "        add_x = -1.5\n",
    "        add_y = 0.8\n",
    "    elif label == '18':\n",
    "        add_y = -1\n",
    "    elif label == '14':\n",
    "        add_y = 3.4\n",
    "        add_x = -1.2\n",
    "    elif label == '15':\n",
    "        add_y = -0.5\n",
    "        add_x = -1.2\n",
    "    elif label == '9':\n",
    "        add_y = -3.5\n",
    "        add_x = -1.2\n",
    "    elif label == '6':\n",
    "        add_y = -1\n",
    "    else:\n",
    "        add_x, add_y = 0, 0\n",
    "    axes[0][5].text(x + add_x, y + add_y, label, size=8, fontweight='bold')\n",
    "    axes[0][2].text(x + add_x, y + add_y, label, size=8, fontweight='bold')\n",
    "\n",
    "for i in range(len(axes)):\n",
    "    axes[i][3].plot([axes[i][3].get_xlim()[0],\n",
    "                     axes[i][3].get_xlim()[0]],\n",
    "                    [axes[i][3].get_ylim()[0],\n",
    "                     axes[i][3].get_ylim()[1]],\n",
    "                     color='black', ls='--',\n",
    "                     lw=1, alpha = 0.5)\n",
    "\n",
    "fig.savefig('./report_TREM2_KO_dataset/Proliferation.pdf', bbox_inches='tight', format='pdf')"
   ]
  },
  {
   "cell_type": "markdown",
   "id": "798b4c0e-5ceb-4d33-aa81-e31cf45ea04b",
   "metadata": {},
   "source": [
    "# GFWGW"
   ]
  },
  {
   "cell_type": "code",
   "execution_count": null,
   "id": "8df9ae8a-1ed6-4532-a6e1-a052b9c5c377",
   "metadata": {},
   "outputs": [],
   "source": [
    "sc.pl.umap(PAIR_COMBINED[PAIR_COMBINED.obs.Sample == '2'],\n",
    "           color=[names_dict['Trem2']],\n",
    "           frameon=False, size=s, cmap=cmap, vmax=vmax)"
   ]
  },
  {
   "cell_type": "code",
   "execution_count": null,
   "id": "91478c8b-8269-4ceb-8a7f-b1ff07e0629e",
   "metadata": {},
   "outputs": [],
   "source": [
    "sc.pl.umap(PAIR_COMBINED[PAIR_COMBINED.obs.Sample == '5'],\n",
    "           color=[names_dict['Trem2']],\n",
    "           frameon=False, size=s, cmap=cmap, vmax=vmax)"
   ]
  },
  {
   "cell_type": "code",
   "execution_count": null,
   "id": "2978bcb9-4eb4-4828-9007-7a278e78ae8f",
   "metadata": {},
   "outputs": [],
   "source": [
    "sc.pl.umap(PAIR_COMBINED[PAIR_COMBINED.obs.Sample == '5'],\n",
    "           color=[names_dict['Ripk3']],\n",
    "           frameon=False, size=s, cmap=cmap, vmax=vmax)"
   ]
  },
  {
   "cell_type": "code",
   "execution_count": null,
   "id": "9fae4c91-8dd0-495d-aac9-8a34915d7b60",
   "metadata": {},
   "outputs": [],
   "source": [
    "sc.pl.umap(PAIR_COMBINED[PAIR_COMBINED.obs.Sample == '5'],\n",
    "           color=[names_dict['Mlkl']],\n",
    "           frameon=False, size=s, cmap=cmap, vmax=vmax)"
   ]
  },
  {
   "cell_type": "code",
   "execution_count": null,
   "id": "b5c67f2c-498f-4ae1-990a-e4d72923c78e",
   "metadata": {},
   "outputs": [],
   "source": []
  },
  {
   "cell_type": "code",
   "execution_count": null,
   "id": "bb117137-7765-424c-88dc-0fd38f053ec5",
   "metadata": {},
   "outputs": [],
   "source": [
    "sc.pl.umap(PAIR_COMBINED[PAIR_COMBINED.obs.Sample == '2'],\n",
    "           color=[names_dict['Ripk3']],\n",
    "           frameon=False, size=s, cmap=cmap, vmax=vmax)"
   ]
  },
  {
   "cell_type": "code",
   "execution_count": null,
   "id": "2471c013-10a4-423e-877b-2cf45885eef7",
   "metadata": {},
   "outputs": [],
   "source": [
    "sc.pl.umap(PAIR_COMBINED[PAIR_COMBINED.obs.Sample == '2'],\n",
    "           color=[names_dict['Mlkl']],\n",
    "           frameon=False, size=s, cmap=cmap, vmax=vmax)"
   ]
  },
  {
   "cell_type": "code",
   "execution_count": null,
   "id": "adf63bda-48bb-444d-bfff-71cc67eb7be2",
   "metadata": {},
   "outputs": [],
   "source": []
  },
  {
   "cell_type": "code",
   "execution_count": null,
   "id": "04e363b5-666c-4d7e-85f0-a0e89267f795",
   "metadata": {},
   "outputs": [],
   "source": []
  },
  {
   "cell_type": "code",
   "execution_count": null,
   "id": "27c45add-15ca-4106-8202-0f5a2fe2d4f6",
   "metadata": {},
   "outputs": [],
   "source": []
  }
 ],
 "metadata": {
  "kernelspec": {
   "display_name": "Python 3 (ipykernel)",
   "language": "python",
   "name": "python3"
  },
  "language_info": {
   "codemirror_mode": {
    "name": "ipython",
    "version": 3
   },
   "file_extension": ".py",
   "mimetype": "text/x-python",
   "name": "python",
   "nbconvert_exporter": "python",
   "pygments_lexer": "ipython3",
   "version": "3.12.3"
  }
 },
 "nbformat": 4,
 "nbformat_minor": 5
}
